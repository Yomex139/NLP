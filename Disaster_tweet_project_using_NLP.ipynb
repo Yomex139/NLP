{
  "cells": [
    {
      "cell_type": "markdown",
      "metadata": {
        "id": "view-in-github",
        "colab_type": "text"
      },
      "source": [
        "<a href=\"https://colab.research.google.com/github/Yomex139/NLP/blob/main/Disaster_tweet_project_using_NLP.ipynb\" target=\"_parent\"><img src=\"https://colab.research.google.com/assets/colab-badge.svg\" alt=\"Open In Colab\"/></a>"
      ]
    },
    {
      "cell_type": "markdown",
      "metadata": {
        "id": "Z6XADl1WnkqZ"
      },
      "source": [
        "Check for GPU"
      ]
    },
    {
      "cell_type": "markdown",
      "metadata": {
        "id": "bSSKPCLTqmc5"
      },
      "source": [
        "**import libraries**"
      ]
    },
    {
      "cell_type": "code",
      "execution_count": null,
      "metadata": {
        "id": "cKIx-GVkqjhN"
      },
      "outputs": [],
      "source": [
        "import tensorflow as tf\n",
        "import matplotlib.pyplot as plt\n",
        "\n",
        "\n",
        "import random as ran\n",
        "import os"
      ]
    },
    {
      "cell_type": "code",
      "execution_count": null,
      "metadata": {
        "colab": {
          "base_uri": "https://localhost:8080/"
        },
        "id": "__HNBvdfnMFL",
        "outputId": "82d6ad4a-af42-45e2-90a4-1dcdd067095d"
      },
      "outputs": [
        {
          "name": "stdout",
          "output_type": "stream",
          "text": [
            "Sun Sep 10 15:29:48 2023       \n",
            "+-----------------------------------------------------------------------------+\n",
            "| NVIDIA-SMI 525.105.17   Driver Version: 525.105.17   CUDA Version: 12.0     |\n",
            "|-------------------------------+----------------------+----------------------+\n",
            "| GPU  Name        Persistence-M| Bus-Id        Disp.A | Volatile Uncorr. ECC |\n",
            "| Fan  Temp  Perf  Pwr:Usage/Cap|         Memory-Usage | GPU-Util  Compute M. |\n",
            "|                               |                      |               MIG M. |\n",
            "|===============================+======================+======================|\n",
            "|   0  Tesla T4            Off  | 00000000:00:04.0 Off |                    0 |\n",
            "| N/A   35C    P8     9W /  70W |      0MiB / 15360MiB |      0%      Default |\n",
            "|                               |                      |                  N/A |\n",
            "+-------------------------------+----------------------+----------------------+\n",
            "                                                                               \n",
            "+-----------------------------------------------------------------------------+\n",
            "| Processes:                                                                  |\n",
            "|  GPU   GI   CI        PID   Type   Process name                  GPU Memory |\n",
            "|        ID   ID                                                   Usage      |\n",
            "|=============================================================================|\n",
            "|  No running processes found                                                 |\n",
            "+-----------------------------------------------------------------------------+\n"
          ]
        }
      ],
      "source": [
        "#sue code to check if we the system is connected to GPU\n",
        "# !nvidia-smi -L\n",
        "!nvidia-smi"
      ]
    },
    {
      "cell_type": "markdown",
      "metadata": {
        "id": "FFm3ZpnfpPrJ"
      },
      "source": [
        "*downloading* Helper function"
      ]
    },
    {
      "cell_type": "code",
      "execution_count": null,
      "metadata": {
        "colab": {
          "base_uri": "https://localhost:8080/"
        },
        "id": "uVuqnniwojCn",
        "outputId": "d6c56547-65c5-4dc5-8e3c-102a00fe3c8b"
      },
      "outputs": [
        {
          "output_type": "stream",
          "name": "stdout",
          "text": [
            "--2023-09-10 19:54:51--  https://github.com/Yomex139/Food-Vision/raw/main/Helper_Function.py\n",
            "Resolving github.com (github.com)... 20.205.243.166\n",
            "Connecting to github.com (github.com)|20.205.243.166|:443... connected.\n",
            "HTTP request sent, awaiting response... 302 Found\n",
            "Location: https://raw.githubusercontent.com/Yomex139/Food-Vision/main/Helper_Function.py [following]\n",
            "--2023-09-10 19:54:52--  https://raw.githubusercontent.com/Yomex139/Food-Vision/main/Helper_Function.py\n",
            "Resolving raw.githubusercontent.com (raw.githubusercontent.com)... 185.199.108.133, 185.199.109.133, 185.199.110.133, ...\n",
            "Connecting to raw.githubusercontent.com (raw.githubusercontent.com)|185.199.108.133|:443... connected.\n",
            "HTTP request sent, awaiting response... 200 OK\n",
            "Length: 13113 (13K) [text/plain]\n",
            "Saving to: ‘Helper_Function.py’\n",
            "\n",
            "Helper_Function.py  100%[===================>]  12.81K  --.-KB/s    in 0s      \n",
            "\n",
            "2023-09-10 19:54:52 (123 MB/s) - ‘Helper_Function.py’ saved [13113/13113]\n",
            "\n"
          ]
        }
      ],
      "source": [
        "#download helper function from my github account\n",
        "!wget https://github.com/Yomex139/Food-Vision/raw/main/Helper_Function.py"
      ]
    },
    {
      "cell_type": "code",
      "execution_count": null,
      "metadata": {
        "id": "nr9PkMzdpAlJ"
      },
      "outputs": [],
      "source": [
        "#importing libraries from helper function\n",
        "from Helper_Function import pred_and_plot,unzip_data,create_tensorboard_callback"
      ]
    },
    {
      "cell_type": "markdown",
      "metadata": {
        "id": "hf_POZ6ptP6R"
      },
      "source": [
        "<!-- Get dataset -->"
      ]
    },
    {
      "cell_type": "markdown",
      "metadata": {
        "id": "FvmuAMQGtYWW"
      },
      "source": [
        "Get dataset\n",
        "you can get the dataset here:(tweet)[https://www.kaggle.com/datasets/vstepanenko/disaster-tweets/download?datasetVersionNumber=3]\n",
        "\n"
      ]
    },
    {
      "cell_type": "code",
      "execution_count": null,
      "metadata": {
        "colab": {
          "base_uri": "https://localhost:8080/"
        },
        "id": "yQ_sMRS4prpV",
        "outputId": "4c548185-84ba-4404-f963-fbd021cb8e26"
      },
      "outputs": [
        {
          "output_type": "stream",
          "name": "stdout",
          "text": [
            "--2023-09-10 19:54:55--  https://storage.googleapis.com/ztm_tf_course/nlp_getting_started.zip\n",
            "Resolving storage.googleapis.com (storage.googleapis.com)... 74.125.24.207, 142.251.10.207, 142.251.12.207, ...\n",
            "Connecting to storage.googleapis.com (storage.googleapis.com)|74.125.24.207|:443... connected.\n",
            "HTTP request sent, awaiting response... 200 OK\n",
            "Length: 607343 (593K) [application/zip]\n",
            "Saving to: ‘nlp_getting_started.zip’\n",
            "\n",
            "nlp_getting_started 100%[===================>] 593.11K   739KB/s    in 0.8s    \n",
            "\n",
            "2023-09-10 19:54:56 (739 KB/s) - ‘nlp_getting_started.zip’ saved [607343/607343]\n",
            "\n"
          ]
        }
      ],
      "source": [
        "!wget https://storage.googleapis.com/ztm_tf_course/nlp_getting_started.zip\n",
        "\n",
        "# unzip data\n",
        "unzip_data('nlp_getting_started.zip')"
      ]
    },
    {
      "cell_type": "markdown",
      "metadata": {
        "id": "PXSXJaAx1cLr"
      },
      "source": [
        "Visualize dataset(NLP dataset)"
      ]
    },
    {
      "cell_type": "code",
      "execution_count": null,
      "metadata": {
        "id": "qkKVwk9zzQFE"
      },
      "outputs": [],
      "source": [
        "import pandas as pd\n",
        "train_df = pd.read_csv('train.csv')\n",
        "\n",
        "test_df = pd.read_csv('test.csv')"
      ]
    },
    {
      "cell_type": "code",
      "execution_count": null,
      "metadata": {
        "colab": {
          "base_uri": "https://localhost:8080/",
          "height": 36
        },
        "id": "YbVr7suj2YrL",
        "outputId": "d98239b6-6bb7-456e-d5b9-ee0dd2eee343"
      },
      "outputs": [
        {
          "output_type": "execute_result",
          "data": {
            "text/plain": [
              "\"No way...I can't eat that shit\""
            ],
            "application/vnd.google.colaboratory.intrinsic+json": {
              "type": "string"
            }
          },
          "metadata": {},
          "execution_count": 6
        }
      ],
      "source": [
        "train_df['text'][25]"
      ]
    },
    {
      "cell_type": "code",
      "execution_count": null,
      "metadata": {
        "id": "ewavjjUt3QOZ"
      },
      "outputs": [],
      "source": []
    },
    {
      "cell_type": "code",
      "execution_count": null,
      "metadata": {
        "colab": {
          "base_uri": "https://localhost:8080/",
          "height": 423
        },
        "id": "0SijDmNY2f6f",
        "outputId": "fa5204e5-da7e-41fb-f1cc-7ad0adbf0a8e"
      },
      "outputs": [
        {
          "output_type": "execute_result",
          "data": {
            "text/plain": [
              "         id       keyword                        location  \\\n",
              "2644   3796   destruction                             NaN   \n",
              "2227   3185        deluge                             NaN   \n",
              "5448   7769        police                              UK   \n",
              "132     191    aftershock                             NaN   \n",
              "6845   9810        trauma           Montgomery County, MD   \n",
              "...     ...           ...                             ...   \n",
              "5226   7470  obliteration                         Merica!   \n",
              "5390   7691         panic                             NaN   \n",
              "860    1242         blood                             NaN   \n",
              "7603  10862           NaN                             NaN   \n",
              "7270  10409     whirlwind  Stamford & Cork (& Shropshire)   \n",
              "\n",
              "                                                   text  target  \n",
              "2644  So you have a new weapon that can cause un-ima...       1  \n",
              "2227  The f$&amp;@ing things I do for #GISHWHES Just...       0  \n",
              "5448  DT @georgegalloway: RT @Galloway4Mayor: ÛÏThe...       1  \n",
              "132   Aftershock back to school kick off was great. ...       0  \n",
              "6845  in response to trauma Children of Addicts deve...       0  \n",
              "...                                                 ...     ...  \n",
              "5226  @Eganator2000 There aren't many Obliteration s...       0  \n",
              "5390  just had a panic attack bc I don't have enough...       0  \n",
              "860   Omron HEM-712C Automatic Blood Pressure Monito...       0  \n",
              "7603  Officials say a quarantine is in place at an A...       1  \n",
              "7270  I moved to England five years ago today. What ...       1  \n",
              "\n",
              "[7613 rows x 5 columns]"
            ],
            "text/html": [
              "\n",
              "  <div id=\"df-989da87f-9691-4f4b-88fb-890f9c5bdd84\" class=\"colab-df-container\">\n",
              "    <div>\n",
              "<style scoped>\n",
              "    .dataframe tbody tr th:only-of-type {\n",
              "        vertical-align: middle;\n",
              "    }\n",
              "\n",
              "    .dataframe tbody tr th {\n",
              "        vertical-align: top;\n",
              "    }\n",
              "\n",
              "    .dataframe thead th {\n",
              "        text-align: right;\n",
              "    }\n",
              "</style>\n",
              "<table border=\"1\" class=\"dataframe\">\n",
              "  <thead>\n",
              "    <tr style=\"text-align: right;\">\n",
              "      <th></th>\n",
              "      <th>id</th>\n",
              "      <th>keyword</th>\n",
              "      <th>location</th>\n",
              "      <th>text</th>\n",
              "      <th>target</th>\n",
              "    </tr>\n",
              "  </thead>\n",
              "  <tbody>\n",
              "    <tr>\n",
              "      <th>2644</th>\n",
              "      <td>3796</td>\n",
              "      <td>destruction</td>\n",
              "      <td>NaN</td>\n",
              "      <td>So you have a new weapon that can cause un-ima...</td>\n",
              "      <td>1</td>\n",
              "    </tr>\n",
              "    <tr>\n",
              "      <th>2227</th>\n",
              "      <td>3185</td>\n",
              "      <td>deluge</td>\n",
              "      <td>NaN</td>\n",
              "      <td>The f$&amp;amp;@ing things I do for #GISHWHES Just...</td>\n",
              "      <td>0</td>\n",
              "    </tr>\n",
              "    <tr>\n",
              "      <th>5448</th>\n",
              "      <td>7769</td>\n",
              "      <td>police</td>\n",
              "      <td>UK</td>\n",
              "      <td>DT @georgegalloway: RT @Galloway4Mayor: ÛÏThe...</td>\n",
              "      <td>1</td>\n",
              "    </tr>\n",
              "    <tr>\n",
              "      <th>132</th>\n",
              "      <td>191</td>\n",
              "      <td>aftershock</td>\n",
              "      <td>NaN</td>\n",
              "      <td>Aftershock back to school kick off was great. ...</td>\n",
              "      <td>0</td>\n",
              "    </tr>\n",
              "    <tr>\n",
              "      <th>6845</th>\n",
              "      <td>9810</td>\n",
              "      <td>trauma</td>\n",
              "      <td>Montgomery County, MD</td>\n",
              "      <td>in response to trauma Children of Addicts deve...</td>\n",
              "      <td>0</td>\n",
              "    </tr>\n",
              "    <tr>\n",
              "      <th>...</th>\n",
              "      <td>...</td>\n",
              "      <td>...</td>\n",
              "      <td>...</td>\n",
              "      <td>...</td>\n",
              "      <td>...</td>\n",
              "    </tr>\n",
              "    <tr>\n",
              "      <th>5226</th>\n",
              "      <td>7470</td>\n",
              "      <td>obliteration</td>\n",
              "      <td>Merica!</td>\n",
              "      <td>@Eganator2000 There aren't many Obliteration s...</td>\n",
              "      <td>0</td>\n",
              "    </tr>\n",
              "    <tr>\n",
              "      <th>5390</th>\n",
              "      <td>7691</td>\n",
              "      <td>panic</td>\n",
              "      <td>NaN</td>\n",
              "      <td>just had a panic attack bc I don't have enough...</td>\n",
              "      <td>0</td>\n",
              "    </tr>\n",
              "    <tr>\n",
              "      <th>860</th>\n",
              "      <td>1242</td>\n",
              "      <td>blood</td>\n",
              "      <td>NaN</td>\n",
              "      <td>Omron HEM-712C Automatic Blood Pressure Monito...</td>\n",
              "      <td>0</td>\n",
              "    </tr>\n",
              "    <tr>\n",
              "      <th>7603</th>\n",
              "      <td>10862</td>\n",
              "      <td>NaN</td>\n",
              "      <td>NaN</td>\n",
              "      <td>Officials say a quarantine is in place at an A...</td>\n",
              "      <td>1</td>\n",
              "    </tr>\n",
              "    <tr>\n",
              "      <th>7270</th>\n",
              "      <td>10409</td>\n",
              "      <td>whirlwind</td>\n",
              "      <td>Stamford &amp; Cork (&amp; Shropshire)</td>\n",
              "      <td>I moved to England five years ago today. What ...</td>\n",
              "      <td>1</td>\n",
              "    </tr>\n",
              "  </tbody>\n",
              "</table>\n",
              "<p>7613 rows × 5 columns</p>\n",
              "</div>\n",
              "    <div class=\"colab-df-buttons\">\n",
              "\n",
              "  <div class=\"colab-df-container\">\n",
              "    <button class=\"colab-df-convert\" onclick=\"convertToInteractive('df-989da87f-9691-4f4b-88fb-890f9c5bdd84')\"\n",
              "            title=\"Convert this dataframe to an interactive table.\"\n",
              "            style=\"display:none;\">\n",
              "\n",
              "  <svg xmlns=\"http://www.w3.org/2000/svg\" height=\"24px\" viewBox=\"0 -960 960 960\">\n",
              "    <path d=\"M120-120v-720h720v720H120Zm60-500h600v-160H180v160Zm220 220h160v-160H400v160Zm0 220h160v-160H400v160ZM180-400h160v-160H180v160Zm440 0h160v-160H620v160ZM180-180h160v-160H180v160Zm440 0h160v-160H620v160Z\"/>\n",
              "  </svg>\n",
              "    </button>\n",
              "\n",
              "  <style>\n",
              "    .colab-df-container {\n",
              "      display:flex;\n",
              "      gap: 12px;\n",
              "    }\n",
              "\n",
              "    .colab-df-convert {\n",
              "      background-color: #E8F0FE;\n",
              "      border: none;\n",
              "      border-radius: 50%;\n",
              "      cursor: pointer;\n",
              "      display: none;\n",
              "      fill: #1967D2;\n",
              "      height: 32px;\n",
              "      padding: 0 0 0 0;\n",
              "      width: 32px;\n",
              "    }\n",
              "\n",
              "    .colab-df-convert:hover {\n",
              "      background-color: #E2EBFA;\n",
              "      box-shadow: 0px 1px 2px rgba(60, 64, 67, 0.3), 0px 1px 3px 1px rgba(60, 64, 67, 0.15);\n",
              "      fill: #174EA6;\n",
              "    }\n",
              "\n",
              "    .colab-df-buttons div {\n",
              "      margin-bottom: 4px;\n",
              "    }\n",
              "\n",
              "    [theme=dark] .colab-df-convert {\n",
              "      background-color: #3B4455;\n",
              "      fill: #D2E3FC;\n",
              "    }\n",
              "\n",
              "    [theme=dark] .colab-df-convert:hover {\n",
              "      background-color: #434B5C;\n",
              "      box-shadow: 0px 1px 3px 1px rgba(0, 0, 0, 0.15);\n",
              "      filter: drop-shadow(0px 1px 2px rgba(0, 0, 0, 0.3));\n",
              "      fill: #FFFFFF;\n",
              "    }\n",
              "  </style>\n",
              "\n",
              "    <script>\n",
              "      const buttonEl =\n",
              "        document.querySelector('#df-989da87f-9691-4f4b-88fb-890f9c5bdd84 button.colab-df-convert');\n",
              "      buttonEl.style.display =\n",
              "        google.colab.kernel.accessAllowed ? 'block' : 'none';\n",
              "\n",
              "      async function convertToInteractive(key) {\n",
              "        const element = document.querySelector('#df-989da87f-9691-4f4b-88fb-890f9c5bdd84');\n",
              "        const dataTable =\n",
              "          await google.colab.kernel.invokeFunction('convertToInteractive',\n",
              "                                                    [key], {});\n",
              "        if (!dataTable) return;\n",
              "\n",
              "        const docLinkHtml = 'Like what you see? Visit the ' +\n",
              "          '<a target=\"_blank\" href=https://colab.research.google.com/notebooks/data_table.ipynb>data table notebook</a>'\n",
              "          + ' to learn more about interactive tables.';\n",
              "        element.innerHTML = '';\n",
              "        dataTable['output_type'] = 'display_data';\n",
              "        await google.colab.output.renderOutput(dataTable, element);\n",
              "        const docLink = document.createElement('div');\n",
              "        docLink.innerHTML = docLinkHtml;\n",
              "        element.appendChild(docLink);\n",
              "      }\n",
              "    </script>\n",
              "  </div>\n",
              "\n",
              "\n",
              "<div id=\"df-fb23041f-7530-4ce3-b338-a7f90aaa27ca\">\n",
              "  <button class=\"colab-df-quickchart\" onclick=\"quickchart('df-fb23041f-7530-4ce3-b338-a7f90aaa27ca')\"\n",
              "            title=\"Suggest charts.\"\n",
              "            style=\"display:none;\">\n",
              "\n",
              "<svg xmlns=\"http://www.w3.org/2000/svg\" height=\"24px\"viewBox=\"0 0 24 24\"\n",
              "     width=\"24px\">\n",
              "    <g>\n",
              "        <path d=\"M19 3H5c-1.1 0-2 .9-2 2v14c0 1.1.9 2 2 2h14c1.1 0 2-.9 2-2V5c0-1.1-.9-2-2-2zM9 17H7v-7h2v7zm4 0h-2V7h2v10zm4 0h-2v-4h2v4z\"/>\n",
              "    </g>\n",
              "</svg>\n",
              "  </button>\n",
              "\n",
              "<style>\n",
              "  .colab-df-quickchart {\n",
              "      --bg-color: #E8F0FE;\n",
              "      --fill-color: #1967D2;\n",
              "      --hover-bg-color: #E2EBFA;\n",
              "      --hover-fill-color: #174EA6;\n",
              "      --disabled-fill-color: #AAA;\n",
              "      --disabled-bg-color: #DDD;\n",
              "  }\n",
              "\n",
              "  [theme=dark] .colab-df-quickchart {\n",
              "      --bg-color: #3B4455;\n",
              "      --fill-color: #D2E3FC;\n",
              "      --hover-bg-color: #434B5C;\n",
              "      --hover-fill-color: #FFFFFF;\n",
              "      --disabled-bg-color: #3B4455;\n",
              "      --disabled-fill-color: #666;\n",
              "  }\n",
              "\n",
              "  .colab-df-quickchart {\n",
              "    background-color: var(--bg-color);\n",
              "    border: none;\n",
              "    border-radius: 50%;\n",
              "    cursor: pointer;\n",
              "    display: none;\n",
              "    fill: var(--fill-color);\n",
              "    height: 32px;\n",
              "    padding: 0;\n",
              "    width: 32px;\n",
              "  }\n",
              "\n",
              "  .colab-df-quickchart:hover {\n",
              "    background-color: var(--hover-bg-color);\n",
              "    box-shadow: 0 1px 2px rgba(60, 64, 67, 0.3), 0 1px 3px 1px rgba(60, 64, 67, 0.15);\n",
              "    fill: var(--button-hover-fill-color);\n",
              "  }\n",
              "\n",
              "  .colab-df-quickchart-complete:disabled,\n",
              "  .colab-df-quickchart-complete:disabled:hover {\n",
              "    background-color: var(--disabled-bg-color);\n",
              "    fill: var(--disabled-fill-color);\n",
              "    box-shadow: none;\n",
              "  }\n",
              "\n",
              "  .colab-df-spinner {\n",
              "    border: 2px solid var(--fill-color);\n",
              "    border-color: transparent;\n",
              "    border-bottom-color: var(--fill-color);\n",
              "    animation:\n",
              "      spin 1s steps(1) infinite;\n",
              "  }\n",
              "\n",
              "  @keyframes spin {\n",
              "    0% {\n",
              "      border-color: transparent;\n",
              "      border-bottom-color: var(--fill-color);\n",
              "      border-left-color: var(--fill-color);\n",
              "    }\n",
              "    20% {\n",
              "      border-color: transparent;\n",
              "      border-left-color: var(--fill-color);\n",
              "      border-top-color: var(--fill-color);\n",
              "    }\n",
              "    30% {\n",
              "      border-color: transparent;\n",
              "      border-left-color: var(--fill-color);\n",
              "      border-top-color: var(--fill-color);\n",
              "      border-right-color: var(--fill-color);\n",
              "    }\n",
              "    40% {\n",
              "      border-color: transparent;\n",
              "      border-right-color: var(--fill-color);\n",
              "      border-top-color: var(--fill-color);\n",
              "    }\n",
              "    60% {\n",
              "      border-color: transparent;\n",
              "      border-right-color: var(--fill-color);\n",
              "    }\n",
              "    80% {\n",
              "      border-color: transparent;\n",
              "      border-right-color: var(--fill-color);\n",
              "      border-bottom-color: var(--fill-color);\n",
              "    }\n",
              "    90% {\n",
              "      border-color: transparent;\n",
              "      border-bottom-color: var(--fill-color);\n",
              "    }\n",
              "  }\n",
              "</style>\n",
              "\n",
              "  <script>\n",
              "    async function quickchart(key) {\n",
              "      const quickchartButtonEl =\n",
              "        document.querySelector('#' + key + ' button');\n",
              "      quickchartButtonEl.disabled = true;  // To prevent multiple clicks.\n",
              "      quickchartButtonEl.classList.add('colab-df-spinner');\n",
              "      try {\n",
              "        const charts = await google.colab.kernel.invokeFunction(\n",
              "            'suggestCharts', [key], {});\n",
              "      } catch (error) {\n",
              "        console.error('Error during call to suggestCharts:', error);\n",
              "      }\n",
              "      quickchartButtonEl.classList.remove('colab-df-spinner');\n",
              "      quickchartButtonEl.classList.add('colab-df-quickchart-complete');\n",
              "    }\n",
              "    (() => {\n",
              "      let quickchartButtonEl =\n",
              "        document.querySelector('#df-fb23041f-7530-4ce3-b338-a7f90aaa27ca button');\n",
              "      quickchartButtonEl.style.display =\n",
              "        google.colab.kernel.accessAllowed ? 'block' : 'none';\n",
              "    })();\n",
              "  </script>\n",
              "</div>\n",
              "    </div>\n",
              "  </div>\n"
            ]
          },
          "metadata": {},
          "execution_count": 7
        }
      ],
      "source": [
        "# set random seed\n",
        "# tf.random.set_seed(42)\n",
        "# shuffle our data\n",
        "train_df_shuffle = train_df.sample(frac=1,random_state=42)\n",
        "train_df_shuffle"
      ]
    },
    {
      "cell_type": "code",
      "execution_count": null,
      "metadata": {
        "colab": {
          "base_uri": "https://localhost:8080/",
          "height": 206
        },
        "id": "mKKTelS93Ufx",
        "outputId": "2c8a57a0-4aec-4169-cf22-2a94dff26eb1"
      },
      "outputs": [
        {
          "data": {
            "text/html": [
              "\n",
              "  <div id=\"df-4fec2bec-8904-4325-abb8-d4cdeaf72765\" class=\"colab-df-container\">\n",
              "    <div>\n",
              "<style scoped>\n",
              "    .dataframe tbody tr th:only-of-type {\n",
              "        vertical-align: middle;\n",
              "    }\n",
              "\n",
              "    .dataframe tbody tr th {\n",
              "        vertical-align: top;\n",
              "    }\n",
              "\n",
              "    .dataframe thead th {\n",
              "        text-align: right;\n",
              "    }\n",
              "</style>\n",
              "<table border=\"1\" class=\"dataframe\">\n",
              "  <thead>\n",
              "    <tr style=\"text-align: right;\">\n",
              "      <th></th>\n",
              "      <th>id</th>\n",
              "      <th>keyword</th>\n",
              "      <th>location</th>\n",
              "      <th>text</th>\n",
              "    </tr>\n",
              "  </thead>\n",
              "  <tbody>\n",
              "    <tr>\n",
              "      <th>0</th>\n",
              "      <td>0</td>\n",
              "      <td>NaN</td>\n",
              "      <td>NaN</td>\n",
              "      <td>Just happened a terrible car crash</td>\n",
              "    </tr>\n",
              "    <tr>\n",
              "      <th>1</th>\n",
              "      <td>2</td>\n",
              "      <td>NaN</td>\n",
              "      <td>NaN</td>\n",
              "      <td>Heard about #earthquake is different cities, s...</td>\n",
              "    </tr>\n",
              "    <tr>\n",
              "      <th>2</th>\n",
              "      <td>3</td>\n",
              "      <td>NaN</td>\n",
              "      <td>NaN</td>\n",
              "      <td>there is a forest fire at spot pond, geese are...</td>\n",
              "    </tr>\n",
              "    <tr>\n",
              "      <th>3</th>\n",
              "      <td>9</td>\n",
              "      <td>NaN</td>\n",
              "      <td>NaN</td>\n",
              "      <td>Apocalypse lighting. #Spokane #wildfires</td>\n",
              "    </tr>\n",
              "    <tr>\n",
              "      <th>4</th>\n",
              "      <td>11</td>\n",
              "      <td>NaN</td>\n",
              "      <td>NaN</td>\n",
              "      <td>Typhoon Soudelor kills 28 in China and Taiwan</td>\n",
              "    </tr>\n",
              "  </tbody>\n",
              "</table>\n",
              "</div>\n",
              "    <div class=\"colab-df-buttons\">\n",
              "\n",
              "  <div class=\"colab-df-container\">\n",
              "    <button class=\"colab-df-convert\" onclick=\"convertToInteractive('df-4fec2bec-8904-4325-abb8-d4cdeaf72765')\"\n",
              "            title=\"Convert this dataframe to an interactive table.\"\n",
              "            style=\"display:none;\">\n",
              "\n",
              "  <svg xmlns=\"http://www.w3.org/2000/svg\" height=\"24px\" viewBox=\"0 -960 960 960\">\n",
              "    <path d=\"M120-120v-720h720v720H120Zm60-500h600v-160H180v160Zm220 220h160v-160H400v160Zm0 220h160v-160H400v160ZM180-400h160v-160H180v160Zm440 0h160v-160H620v160ZM180-180h160v-160H180v160Zm440 0h160v-160H620v160Z\"/>\n",
              "  </svg>\n",
              "    </button>\n",
              "\n",
              "  <style>\n",
              "    .colab-df-container {\n",
              "      display:flex;\n",
              "      gap: 12px;\n",
              "    }\n",
              "\n",
              "    .colab-df-convert {\n",
              "      background-color: #E8F0FE;\n",
              "      border: none;\n",
              "      border-radius: 50%;\n",
              "      cursor: pointer;\n",
              "      display: none;\n",
              "      fill: #1967D2;\n",
              "      height: 32px;\n",
              "      padding: 0 0 0 0;\n",
              "      width: 32px;\n",
              "    }\n",
              "\n",
              "    .colab-df-convert:hover {\n",
              "      background-color: #E2EBFA;\n",
              "      box-shadow: 0px 1px 2px rgba(60, 64, 67, 0.3), 0px 1px 3px 1px rgba(60, 64, 67, 0.15);\n",
              "      fill: #174EA6;\n",
              "    }\n",
              "\n",
              "    .colab-df-buttons div {\n",
              "      margin-bottom: 4px;\n",
              "    }\n",
              "\n",
              "    [theme=dark] .colab-df-convert {\n",
              "      background-color: #3B4455;\n",
              "      fill: #D2E3FC;\n",
              "    }\n",
              "\n",
              "    [theme=dark] .colab-df-convert:hover {\n",
              "      background-color: #434B5C;\n",
              "      box-shadow: 0px 1px 3px 1px rgba(0, 0, 0, 0.15);\n",
              "      filter: drop-shadow(0px 1px 2px rgba(0, 0, 0, 0.3));\n",
              "      fill: #FFFFFF;\n",
              "    }\n",
              "  </style>\n",
              "\n",
              "    <script>\n",
              "      const buttonEl =\n",
              "        document.querySelector('#df-4fec2bec-8904-4325-abb8-d4cdeaf72765 button.colab-df-convert');\n",
              "      buttonEl.style.display =\n",
              "        google.colab.kernel.accessAllowed ? 'block' : 'none';\n",
              "\n",
              "      async function convertToInteractive(key) {\n",
              "        const element = document.querySelector('#df-4fec2bec-8904-4325-abb8-d4cdeaf72765');\n",
              "        const dataTable =\n",
              "          await google.colab.kernel.invokeFunction('convertToInteractive',\n",
              "                                                    [key], {});\n",
              "        if (!dataTable) return;\n",
              "\n",
              "        const docLinkHtml = 'Like what you see? Visit the ' +\n",
              "          '<a target=\"_blank\" href=https://colab.research.google.com/notebooks/data_table.ipynb>data table notebook</a>'\n",
              "          + ' to learn more about interactive tables.';\n",
              "        element.innerHTML = '';\n",
              "        dataTable['output_type'] = 'display_data';\n",
              "        await google.colab.output.renderOutput(dataTable, element);\n",
              "        const docLink = document.createElement('div');\n",
              "        docLink.innerHTML = docLinkHtml;\n",
              "        element.appendChild(docLink);\n",
              "      }\n",
              "    </script>\n",
              "  </div>\n",
              "\n",
              "\n",
              "<div id=\"df-85e63bed-bc46-4857-9314-dbcae2528a16\">\n",
              "  <button class=\"colab-df-quickchart\" onclick=\"quickchart('df-85e63bed-bc46-4857-9314-dbcae2528a16')\"\n",
              "            title=\"Suggest charts.\"\n",
              "            style=\"display:none;\">\n",
              "\n",
              "<svg xmlns=\"http://www.w3.org/2000/svg\" height=\"24px\"viewBox=\"0 0 24 24\"\n",
              "     width=\"24px\">\n",
              "    <g>\n",
              "        <path d=\"M19 3H5c-1.1 0-2 .9-2 2v14c0 1.1.9 2 2 2h14c1.1 0 2-.9 2-2V5c0-1.1-.9-2-2-2zM9 17H7v-7h2v7zm4 0h-2V7h2v10zm4 0h-2v-4h2v4z\"/>\n",
              "    </g>\n",
              "</svg>\n",
              "  </button>\n",
              "\n",
              "<style>\n",
              "  .colab-df-quickchart {\n",
              "      --bg-color: #E8F0FE;\n",
              "      --fill-color: #1967D2;\n",
              "      --hover-bg-color: #E2EBFA;\n",
              "      --hover-fill-color: #174EA6;\n",
              "      --disabled-fill-color: #AAA;\n",
              "      --disabled-bg-color: #DDD;\n",
              "  }\n",
              "\n",
              "  [theme=dark] .colab-df-quickchart {\n",
              "      --bg-color: #3B4455;\n",
              "      --fill-color: #D2E3FC;\n",
              "      --hover-bg-color: #434B5C;\n",
              "      --hover-fill-color: #FFFFFF;\n",
              "      --disabled-bg-color: #3B4455;\n",
              "      --disabled-fill-color: #666;\n",
              "  }\n",
              "\n",
              "  .colab-df-quickchart {\n",
              "    background-color: var(--bg-color);\n",
              "    border: none;\n",
              "    border-radius: 50%;\n",
              "    cursor: pointer;\n",
              "    display: none;\n",
              "    fill: var(--fill-color);\n",
              "    height: 32px;\n",
              "    padding: 0;\n",
              "    width: 32px;\n",
              "  }\n",
              "\n",
              "  .colab-df-quickchart:hover {\n",
              "    background-color: var(--hover-bg-color);\n",
              "    box-shadow: 0 1px 2px rgba(60, 64, 67, 0.3), 0 1px 3px 1px rgba(60, 64, 67, 0.15);\n",
              "    fill: var(--button-hover-fill-color);\n",
              "  }\n",
              "\n",
              "  .colab-df-quickchart-complete:disabled,\n",
              "  .colab-df-quickchart-complete:disabled:hover {\n",
              "    background-color: var(--disabled-bg-color);\n",
              "    fill: var(--disabled-fill-color);\n",
              "    box-shadow: none;\n",
              "  }\n",
              "\n",
              "  .colab-df-spinner {\n",
              "    border: 2px solid var(--fill-color);\n",
              "    border-color: transparent;\n",
              "    border-bottom-color: var(--fill-color);\n",
              "    animation:\n",
              "      spin 1s steps(1) infinite;\n",
              "  }\n",
              "\n",
              "  @keyframes spin {\n",
              "    0% {\n",
              "      border-color: transparent;\n",
              "      border-bottom-color: var(--fill-color);\n",
              "      border-left-color: var(--fill-color);\n",
              "    }\n",
              "    20% {\n",
              "      border-color: transparent;\n",
              "      border-left-color: var(--fill-color);\n",
              "      border-top-color: var(--fill-color);\n",
              "    }\n",
              "    30% {\n",
              "      border-color: transparent;\n",
              "      border-left-color: var(--fill-color);\n",
              "      border-top-color: var(--fill-color);\n",
              "      border-right-color: var(--fill-color);\n",
              "    }\n",
              "    40% {\n",
              "      border-color: transparent;\n",
              "      border-right-color: var(--fill-color);\n",
              "      border-top-color: var(--fill-color);\n",
              "    }\n",
              "    60% {\n",
              "      border-color: transparent;\n",
              "      border-right-color: var(--fill-color);\n",
              "    }\n",
              "    80% {\n",
              "      border-color: transparent;\n",
              "      border-right-color: var(--fill-color);\n",
              "      border-bottom-color: var(--fill-color);\n",
              "    }\n",
              "    90% {\n",
              "      border-color: transparent;\n",
              "      border-bottom-color: var(--fill-color);\n",
              "    }\n",
              "  }\n",
              "</style>\n",
              "\n",
              "  <script>\n",
              "    async function quickchart(key) {\n",
              "      const quickchartButtonEl =\n",
              "        document.querySelector('#' + key + ' button');\n",
              "      quickchartButtonEl.disabled = true;  // To prevent multiple clicks.\n",
              "      quickchartButtonEl.classList.add('colab-df-spinner');\n",
              "      try {\n",
              "        const charts = await google.colab.kernel.invokeFunction(\n",
              "            'suggestCharts', [key], {});\n",
              "      } catch (error) {\n",
              "        console.error('Error during call to suggestCharts:', error);\n",
              "      }\n",
              "      quickchartButtonEl.classList.remove('colab-df-spinner');\n",
              "      quickchartButtonEl.classList.add('colab-df-quickchart-complete');\n",
              "    }\n",
              "    (() => {\n",
              "      let quickchartButtonEl =\n",
              "        document.querySelector('#df-85e63bed-bc46-4857-9314-dbcae2528a16 button');\n",
              "      quickchartButtonEl.style.display =\n",
              "        google.colab.kernel.accessAllowed ? 'block' : 'none';\n",
              "    })();\n",
              "  </script>\n",
              "</div>\n",
              "    </div>\n",
              "  </div>\n"
            ],
            "text/plain": [
              "   id keyword location                                               text\n",
              "0   0     NaN      NaN                 Just happened a terrible car crash\n",
              "1   2     NaN      NaN  Heard about #earthquake is different cities, s...\n",
              "2   3     NaN      NaN  there is a forest fire at spot pond, geese are...\n",
              "3   9     NaN      NaN           Apocalypse lighting. #Spokane #wildfires\n",
              "4  11     NaN      NaN      Typhoon Soudelor kills 28 in China and Taiwan"
            ]
          },
          "execution_count": 8,
          "metadata": {},
          "output_type": "execute_result"
        }
      ],
      "source": [
        "test_df.head()"
      ]
    },
    {
      "cell_type": "code",
      "execution_count": null,
      "metadata": {
        "colab": {
          "base_uri": "https://localhost:8080/"
        },
        "id": "uD5Z4iqs4CLZ",
        "outputId": "0b59c26e-3b77-486c-9c51-b298f9bb103c"
      },
      "outputs": [
        {
          "data": {
            "text/plain": [
              "0    4342\n",
              "1    3271\n",
              "Name: target, dtype: int64"
            ]
          },
          "execution_count": 9,
          "metadata": {},
          "output_type": "execute_result"
        }
      ],
      "source": [
        "train_df.target.value_counts()"
      ]
    },
    {
      "cell_type": "code",
      "execution_count": null,
      "metadata": {
        "colab": {
          "base_uri": "https://localhost:8080/"
        },
        "id": "MPW8XhTB4S0s",
        "outputId": "4df02088-1e63-4a1b-da10-de7c72757dd0"
      },
      "outputs": [
        {
          "data": {
            "text/plain": [
              "(7613, 3263)"
            ]
          },
          "execution_count": 11,
          "metadata": {},
          "output_type": "execute_result"
        }
      ],
      "source": [
        "len(train_df),len(test_df)"
      ]
    },
    {
      "cell_type": "code",
      "execution_count": null,
      "metadata": {
        "colab": {
          "base_uri": "https://localhost:8080/"
        },
        "id": "C3FfWDVC42Jn",
        "outputId": "345731ac-478b-48da-80a4-dce3b94fd1fc"
      },
      "outputs": [
        {
          "name": "stdout",
          "output_type": "stream",
          "text": [
            "Target:0 (not real disater)\n",
            "Text\n",
            "I heard the steven universe theme song from upstairs and screamed his name at the part of the song and scared my cousin\n",
            "\n",
            "\n",
            "----\n",
            "\n",
            "Target:0 (not real disater)\n",
            "Text\n",
            "at the lake \n",
            "*sees a dead fish*\n",
            "me: poor little guy i wonder what happened\n",
            "ashley: idk maybe it drowned\n",
            "  wtf ????????\n",
            "\n",
            "\n",
            "----\n",
            "\n",
            "Target:1 (real disaster)\n",
            "Text\n",
            "Suicide bombing for Da'esh is (rightly) despicable. Suicide bombing for Ocalan/ Marxism?\n",
            "\n",
            "= They share 'our values'. https://t.co/Gs0km0vlgk\n",
            "\n",
            "\n",
            "----\n",
            "\n",
            "Target:0 (not real disater)\n",
            "Text\n",
            "This Govt of Hubris has small maj yet acts as if it has a landslide. Opposition req'd with vision rigour &amp; hunger to serve this democracy.\n",
            "\n",
            "\n",
            "----\n",
            "\n",
            "Target:0 (not real disater)\n",
            "Text\n",
            "My @MLG and food worlds have collided in this @ijustine salmon video. #simple #Alaskaseafood #askforalaska https://t.co/2SnyGHaiVs\n",
            "\n",
            "\n",
            "----\n",
            "\n",
            "Target:1 (real disaster)\n",
            "Text\n",
            "Rainstorm Destroys 600 Houses In Yobe | iReporter https://t.co/0rNY349UnT via @sharethis\n",
            "\n",
            "\n",
            "----\n",
            "\n",
            "Target:0 (not real disater)\n",
            "Text\n",
            "@AmuMumuX lava you.?? quit actin up\n",
            "\n",
            "\n",
            "----\n",
            "\n",
            "Target:1 (real disaster)\n",
            "Text\n",
            "How to prepare your #property for a #storm:\n",
            "\n",
            "http://t.co/KhYqQsi6My http://t.co/G6Vs3XEinb\n",
            "\n",
            "\n",
            "----\n",
            "\n",
            "Target:0 (not real disater)\n",
            "Text\n",
            "Savs contact fell out but she was convinced it didnt &amp; went on to guage her eyeball out &amp; now shes having a panic attack over caused damage\n",
            "\n",
            "\n",
            "----\n",
            "\n",
            "Target:0 (not real disater)\n",
            "Text\n",
            "#GrowingupBlack walking past chicken frying was like entering a war zone.\n",
            "\n",
            "\n",
            "----\n",
            "\n",
            "Target:1 (real disaster)\n",
            "Text\n",
            "@deadlydemi even staying up all night to he barrier for tÌüp and then having to run through a dust storm and almost passing out?\n",
            "\n",
            "\n",
            "----\n",
            "\n",
            "Target:1 (real disaster)\n",
            "Text\n",
            "Hiroshima bombing justified: Majority Americans even today - Hindustan Times http://t.co/cC9z5asVZh\n",
            "\n",
            "\n",
            "----\n",
            "\n",
            "Target:0 (not real disater)\n",
            "Text\n",
            "I'm on 2 blood pressure meds and it's still probably through the roof! Long before the #PPact story broke I was involved in animal rescue\n",
            "\n",
            "\n",
            "----\n",
            "\n",
            "Target:0 (not real disater)\n",
            "Text\n",
            "@keampurley thirst has no curfew\n",
            "\n",
            "\n",
            "----\n",
            "\n",
            "Target:0 (not real disater)\n",
            "Text\n",
            "Fear Factory in December. Done deal.\n",
            "\n",
            "\n",
            "----\n",
            "\n"
          ]
        }
      ],
      "source": [
        "# visualize random train sample\n",
        "import random\n",
        "randon_index = random.randint(0,len(train_df))\n",
        "for row in train_df_shuffle[['text','target']][randon_index:randon_index+15].itertuples():\n",
        "  _,text,target = row\n",
        "  print(f'Target:{target}','(real disaster)' if target>0 else '(not real disater)')\n",
        "  print(f'Text\\n{text}\\n')\n",
        "  print('\\n----\\n')"
      ]
    },
    {
      "cell_type": "markdown",
      "metadata": {
        "id": "wbs0gmjjAf9v"
      },
      "source": [
        "split dataset into traning and validation dataset"
      ]
    },
    {
      "cell_type": "code",
      "execution_count": null,
      "metadata": {
        "id": "M2p7JHsB6avS"
      },
      "outputs": [],
      "source": [
        "from sklearn.model_selection import train_test_split\n",
        "train_sentence,val_sentence,train_label,val_label = train_test_split(train_df_shuffle['text'].to_numpy(),\n",
        "                                                                      train_df_shuffle['target'].to_numpy(),\n",
        "                                                                      test_size=.1,\n",
        "                                                                      random_state=42)"
      ]
    },
    {
      "cell_type": "code",
      "execution_count": null,
      "metadata": {
        "colab": {
          "base_uri": "https://localhost:8080/"
        },
        "id": "yLiSWfSY6eGV",
        "outputId": "00a5be7e-aa63-4c2f-ace5-8c3df5a93e43"
      },
      "outputs": [
        {
          "data": {
            "text/plain": [
              "(6851, 762, 6851, 762)"
            ]
          },
          "execution_count": 14,
          "metadata": {},
          "output_type": "execute_result"
        }
      ],
      "source": [
        "len(train_sentence),len(val_sentence),len(train_label),len(val_label)"
      ]
    },
    {
      "cell_type": "markdown",
      "metadata": {
        "id": "Uu51CC_dGw77"
      },
      "source": [
        "Text Vectorization(Tokinization)---Converting text to number"
      ]
    },
    {
      "cell_type": "code",
      "execution_count": null,
      "metadata": {
        "id": "Lu6-S2ImBhfU"
      },
      "outputs": [],
      "source": [
        "from tensorflow.keras.layers.experimental.preprocessing import TextVectorization\n",
        "text_vectorizer = TextVectorization()\n",
        "text_vectorizer.adapt(train_sentence)"
      ]
    },
    {
      "cell_type": "code",
      "execution_count": null,
      "metadata": {
        "colab": {
          "base_uri": "https://localhost:8080/"
        },
        "id": "sLQXLg6SHUlL",
        "outputId": "049fb566-f6d2-43a8-dbc6-bb093de7c59e"
      },
      "outputs": [
        {
          "data": {
            "text/plain": [
              "15"
            ]
          },
          "execution_count": 16,
          "metadata": {},
          "output_type": "execute_result"
        }
      ],
      "source": [
        "# find the average number of tokens in training dataset\n",
        "round(sum([len(i.split()) for i in train_sentence])/len(train_sentence))\n"
      ]
    },
    {
      "cell_type": "code",
      "execution_count": null,
      "metadata": {
        "id": "ZjIpOmjqKprT"
      },
      "outputs": [],
      "source": [
        "max_token=10000\n",
        "max_length = 15\n",
        "# set text vectorizer variable\n",
        "text_vectorizers = TextVectorization(max_tokens=max_token,\n",
        "                                     output_sequence_length=max_length)"
      ]
    },
    {
      "cell_type": "code",
      "execution_count": null,
      "metadata": {
        "colab": {
          "base_uri": "https://localhost:8080/"
        },
        "id": "fCFJRW5BNtTk",
        "outputId": "c7647669-c300-424f-856e-cc69424d34d1"
      },
      "outputs": [
        {
          "output_type": "execute_result",
          "data": {
            "text/plain": [
              "<tf.Tensor: shape=(1, 15), dtype=int64, numpy=\n",
              "array([[264,  40, 232,   4,  13, 698,   0,   0,   0,   0,   0,   0,   0,\n",
              "          0,   0]])>"
            ]
          },
          "metadata": {},
          "execution_count": 13
        }
      ],
      "source": [
        "# fit the text vectorizer to train sentence\n",
        "text_vectorizers.adapt(data=train_sentence)\n",
        "\n",
        "sentence = [\"there's no flood in my street!\"]\n",
        "my_text = text_vectorizers(sentence)\n",
        "my_text"
      ]
    },
    {
      "cell_type": "markdown",
      "metadata": {
        "id": "EwwAWy09SIY7"
      },
      "source": [
        "Creating embindding using embedding layer"
      ]
    },
    {
      "cell_type": "code",
      "execution_count": null,
      "metadata": {
        "id": "lM-MjPhkOw1Z"
      },
      "outputs": [],
      "source": [
        "\n",
        "from tensorflow.keras import layers\n",
        "embedding = layers.Embedding(input_dim=max_token,\n",
        "                             output_dim=128,\n",
        "                             input_length=max_length)"
      ]
    },
    {
      "cell_type": "code",
      "execution_count": null,
      "metadata": {
        "colab": {
          "base_uri": "https://localhost:8080/"
        },
        "id": "dEg63umqUOy2",
        "outputId": "056cfc99-65af-4129-ea08-f44da568f655"
      },
      "outputs": [
        {
          "output_type": "execute_result",
          "data": {
            "text/plain": [
              "<tf.Tensor: shape=(1, 15, 128), dtype=float32, numpy=\n",
              "array([[[ 0.01073933, -0.04480845, -0.01121181, ...,  0.02868288,\n",
              "         -0.04649407, -0.00034015],\n",
              "        [-0.03840737,  0.03651245,  0.01920749, ..., -0.02405158,\n",
              "         -0.03898209, -0.03032896],\n",
              "        [ 0.02464545,  0.03619046,  0.02497294, ..., -0.02137952,\n",
              "          0.01542265, -0.03906201],\n",
              "        ...,\n",
              "        [-0.00689006,  0.02317147, -0.02983991, ..., -0.04092466,\n",
              "          0.00716057, -0.01671899],\n",
              "        [-0.00689006,  0.02317147, -0.02983991, ..., -0.04092466,\n",
              "          0.00716057, -0.01671899],\n",
              "        [-0.00689006,  0.02317147, -0.02983991, ..., -0.04092466,\n",
              "          0.00716057, -0.01671899]]], dtype=float32)>"
            ]
          },
          "metadata": {},
          "execution_count": 15
        }
      ],
      "source": [
        "sample_emb = embedding(my_text)\n",
        "sample_emb"
      ]
    },
    {
      "cell_type": "code",
      "execution_count": null,
      "metadata": {
        "colab": {
          "base_uri": "https://localhost:8080/"
        },
        "id": "Wb-kSHJ_50BB",
        "outputId": "8f668782-bf41-4fe2-b319-15aa9390056e"
      },
      "outputs": [
        {
          "name": "stdout",
          "output_type": "stream",
          "text": [
            "\n",
            "original Text:\n",
            "\n",
            "As wild fires blacken northern California parched Harris County becomes tinder box.  https://t.co/i2lwTy5YuP\n",
            "\n",
            "\n",
            "embedded Text:\n",
            "\n",
            "[[ 0.04392583 -0.02367954  0.02844686 ...  0.04929003 -0.01981666\n",
            "  -0.00837327]\n",
            " [ 0.02222959 -0.00643132 -0.03097985 ...  0.01380191  0.01059826\n",
            "  -0.00514035]\n",
            " [-0.03024522 -0.02118402  0.04569611 ...  0.01161363 -0.01415249\n",
            "   0.04643418]\n",
            " ...\n",
            " [ 0.04032813 -0.04514675  0.04536716 ... -0.00629665 -0.03330066\n",
            "  -0.00878222]\n",
            " [-0.01055515 -0.00704781  0.02329774 ... -0.02252456 -0.0132801\n",
            "  -0.00294961]\n",
            " [-0.01055515 -0.00704781  0.02329774 ... -0.02252456 -0.0132801\n",
            "  -0.00294961]]\n",
            "\n"
          ]
        }
      ],
      "source": [
        "random_sentence = random.choice(train_df_shuffle['text'])\n",
        "text_vec = text_vectorizers(random_sentence)\n",
        "random_emb = embedding(text_vec)\n",
        "print(f'\\noriginal Text:\\n\\n{random_sentence}\\n')\n",
        "print(f'\\nembedded Text:\\n\\n{random_emb}\\n')"
      ]
    },
    {
      "cell_type": "code",
      "execution_count": null,
      "metadata": {
        "id": "duKJAfyRJKMo"
      },
      "outputs": [],
      "source": [
        "from sklearn.feature_extraction.text import TfidfVectorizer\n",
        "from sklearn.naive_bayes import MultinomialNB\n",
        "from sklearn.pipeline import Pipeline"
      ]
    },
    {
      "cell_type": "code",
      "execution_count": null,
      "metadata": {
        "colab": {
          "base_uri": "https://localhost:8080/"
        },
        "id": "v8GqJfCuJXL3",
        "outputId": "7787d134-365c-4068-ed05-b078ae01ec79"
      },
      "outputs": [
        {
          "name": "stdout",
          "output_type": "stream",
          "text": [
            "Baseline model achieved accuracy:79.265%\n"
          ]
        }
      ],
      "source": [
        "# create the model(baseline model)\n",
        "model_0 = Pipeline([\n",
        "                    ('Tdid',TfidfVectorizer()),\n",
        "                    ('clf',MultinomialNB())\n",
        "])\n",
        "# fit the model\n",
        "model_0.fit(train_sentence,train_label)\n",
        "# evaluate the model\n",
        "score = model_0.score(val_sentence,val_label)\n",
        "print(f'Baseline model achieved accuracy:{score*100:.3f}%')"
      ]
    },
    {
      "cell_type": "code",
      "execution_count": null,
      "metadata": {
        "colab": {
          "base_uri": "https://localhost:8080/"
        },
        "id": "YdudbhWZNMpf",
        "outputId": "5f53f753-6cf5-4a58-eb05-1c6922470776"
      },
      "outputs": [
        {
          "data": {
            "text/plain": [
              "array([1, 1, 1, 0, 0, 1, 1, 1, 1, 0, 0, 1, 0, 0, 0, 0, 0, 0, 0, 1, 1, 0,\n",
              "       0, 0, 1, 1, 0, 0, 0, 0, 1, 0, 0, 0, 0, 0, 1, 0, 0, 1, 0, 0, 0, 0,\n",
              "       0, 1, 0, 1, 0, 1, 0, 1, 0, 0, 0, 0, 0, 1, 0, 0, 0, 1, 1, 0, 1, 1,\n",
              "       0, 0, 0, 0, 0, 0, 0, 0, 0, 1, 0, 0, 0, 1, 1, 0, 1, 0, 0, 0, 0, 0,\n",
              "       1, 1, 1, 0, 0, 0, 1, 1, 1, 1, 1, 1, 1, 0, 0, 1, 1, 0, 0, 1, 0, 0,\n",
              "       1, 0, 0, 0, 0, 0, 0, 1, 1, 0, 1, 0, 0, 1, 0, 0, 0, 0, 0, 1, 0, 1,\n",
              "       1, 1, 1, 0, 1, 0, 0, 0, 1, 0, 0, 0, 0, 0, 0, 0, 0, 1, 1, 0, 0, 0,\n",
              "       0, 1, 0, 0, 1, 0, 1, 0, 0, 1, 0, 0, 1, 0, 1, 0, 1, 0, 1, 0, 1, 0,\n",
              "       0, 0, 0, 1, 0, 1, 1, 1, 1, 0, 0, 1, 0, 0, 0, 1, 0, 0, 0, 0, 0, 0,\n",
              "       1, 0, 0, 1, 1, 0, 0, 1, 0, 1, 1, 1, 0, 1, 0, 0, 0, 0, 1, 1, 0, 0,\n",
              "       1, 0, 0, 0, 1, 0, 0, 1, 1, 1, 0, 0, 1, 0, 1, 0, 0, 0, 0, 0, 0, 0,\n",
              "       1, 1, 0, 0, 1, 0, 0, 0, 0, 0, 0, 0, 1, 0, 1, 1, 0, 0, 0, 0, 0, 1,\n",
              "       1, 0, 1, 0, 0, 0, 0, 0, 1, 0, 0, 1, 0, 0, 1, 0, 0, 0, 1, 0, 1, 0,\n",
              "       1, 0, 0, 0, 0, 0, 0, 0, 0, 1, 0, 1, 0, 0, 0, 0, 0, 1, 0, 0, 0, 0,\n",
              "       0, 0, 0, 1, 0, 0, 1, 0, 1, 0, 0, 0, 0, 0, 1, 0, 1, 0, 0, 1, 0, 1,\n",
              "       0, 0, 1, 0, 0, 1, 0, 0, 0, 0, 0, 0, 1, 1, 0, 0, 0, 0, 0, 0, 0, 0,\n",
              "       0, 0, 0, 0, 1, 1, 1, 0, 0, 0, 0, 0, 0, 0, 0, 0, 0, 0, 0, 0, 0, 0,\n",
              "       0, 0, 0, 0, 0, 1, 1, 1, 0, 0, 0, 1, 1, 0, 1, 0, 0, 0, 0, 0, 0, 1,\n",
              "       0, 0, 0, 0, 1, 0, 1, 1, 0, 1, 0, 0, 0, 0, 1, 0, 0, 0, 1, 1, 0, 1,\n",
              "       0, 0, 1, 1, 1, 1, 0, 0, 0, 1, 0, 0, 0, 0, 0, 0, 0, 0, 0, 0, 1, 1,\n",
              "       0, 1, 0, 0, 0, 1, 0, 0, 0, 0, 0, 1, 1, 1, 1, 1, 0, 0, 1, 1, 1, 0,\n",
              "       0, 0, 1, 1, 0, 0, 1, 0, 0, 1, 0, 0, 0, 0, 1, 1, 0, 0, 0, 0, 0, 1,\n",
              "       0, 1, 0, 0, 0, 0, 0, 1, 0, 0, 0, 0, 0, 1, 0, 0, 1, 0, 0, 1, 0, 0,\n",
              "       0, 1, 0, 0, 0, 0, 0, 0, 1, 0, 1, 1, 1, 1, 0, 0, 1, 1, 0, 0, 0, 0,\n",
              "       0, 1, 1, 1, 0, 0, 1, 0, 1, 0, 0, 0, 0, 0, 0, 0, 0, 0, 0, 1, 1, 0,\n",
              "       0, 1, 0, 1, 0, 1, 0, 0, 0, 0, 0, 0, 1, 1, 1, 0, 1, 1, 0, 0, 1, 1,\n",
              "       1, 0, 0, 0, 0, 0, 1, 0, 0, 0, 1, 0, 0, 1, 0, 0, 0, 0, 0, 0, 0, 0,\n",
              "       0, 0, 0, 1, 1, 0, 0, 0, 1, 1, 1, 0, 1, 0, 0, 1, 0, 1, 0, 0, 1, 0,\n",
              "       0, 1, 0, 1, 1, 0, 1, 0, 0, 0, 0, 0, 0, 0, 0, 1, 1, 1, 1, 0, 0, 0,\n",
              "       0, 0, 1, 0, 1, 0, 0, 0, 0, 0, 0, 0, 1, 0, 0, 0, 0, 0, 0, 1, 0, 0,\n",
              "       0, 0, 1, 0, 0, 0, 0, 0, 1, 1, 0, 0, 0, 0, 1, 0, 1, 1, 0, 0, 0, 0,\n",
              "       0, 0, 0, 1, 0, 0, 0, 0, 1, 1, 1, 0, 1, 1, 1, 1, 1, 0, 0, 0, 1, 0,\n",
              "       0, 0, 0, 0, 0, 0, 0, 0, 1, 0, 0, 0, 0, 0, 1, 0, 0, 0, 0, 1, 0, 0,\n",
              "       0, 0, 1, 0, 0, 1, 1, 1, 1, 1, 0, 0, 0, 1, 1, 0, 0, 1, 0, 0, 0, 0,\n",
              "       0, 0, 0, 0, 1, 0, 1, 1, 0, 0, 0, 1, 0, 0])"
            ]
          },
          "execution_count": 24,
          "metadata": {},
          "output_type": "execute_result"
        }
      ],
      "source": [
        "# making prediction\n",
        "base_pred = model_0.predict(val_sentence)\n",
        "base_pred"
      ]
    },
    {
      "cell_type": "code",
      "execution_count": null,
      "metadata": {
        "id": "PzRF6OHyOB9J"
      },
      "outputs": [],
      "source": []
    },
    {
      "cell_type": "code",
      "execution_count": null,
      "metadata": {
        "id": "A_kRhrajO6tY"
      },
      "outputs": [],
      "source": [
        "# create function to evaluate base model pridictions\n",
        "def text_metrics(y_true,y_pred):\n",
        "  from sklearn.metrics import recall_score,precision_score,f1_score,confusion_matrix,accuracy_score,precision_recall_fscore_support\n",
        "import seaborn as sns\n",
        "  print(f'\\nrecall score:{recall_score(y_true=y_true,y_pred=y_pred)*100:.2f}%\\n')\n",
        "  print(f'\\nprecision_score:{precision_score(y_true=y_true,y_pred=y_pred)*100:.2f}%\\n')\n",
        "  print(f'\\nf1_score:{f1_score(y_true=y_true,y_pred=y_pred)*100:.2f}%\\n')\n",
        "  print(f'\\nthe confusion matrix:\\n\\n{confusion_matric}\\n')\n",
        "  print(f'\\naccuracy score:{accuracy_score(y_true,y_pred)*100:.2f}%\\n')\n",
        "  print(f'\\nmore beautiful matrix:{sns.heatmap(data=confusion_matric,annot=True)}\\n')\n",
        "\n"
      ]
    },
    {
      "cell_type": "code",
      "execution_count": null,
      "metadata": {
        "colab": {
          "base_uri": "https://localhost:8080/"
        },
        "id": "ENunGsOQaLqU",
        "outputId": "f32d272d-d76f-4c7e-d8ed-e083e6e86859"
      },
      "outputs": [
        {
          "data": {
            "text/plain": [
              "(array([0.74806202, 0.88617886]),\n",
              " array([0.93236715, 0.62643678]),\n",
              " array([0.83010753, 0.73400673]),\n",
              " array([414, 348]))"
            ]
          },
          "execution_count": 27,
          "metadata": {},
          "output_type": "execute_result"
        }
      ],
      "source": [
        "precision_recall_fscore_support(val_label,base_pred)"
      ]
    },
    {
      "cell_type": "code",
      "execution_count": null,
      "metadata": {
        "colab": {
          "base_uri": "https://localhost:8080/",
          "height": 818
        },
        "id": "OGuBOJiuSpoj",
        "outputId": "cd73770e-8f30-4185-a68c-f6dc70aaac5a"
      },
      "outputs": [
        {
          "name": "stdout",
          "output_type": "stream",
          "text": [
            "\n",
            "recall score:62.64%\n",
            "\n",
            "\n",
            "precision_score:88.62%\n",
            "\n",
            "\n",
            "f1_score:73.40%\n",
            "\n",
            "\n",
            "the confusion matrix:\n",
            "\n",
            "[[386  28]\n",
            " [130 218]]\n",
            "\n",
            "\n",
            "accuracy score:79.27%\n",
            "\n",
            "\n",
            "more beautiful matrix:Axes(0.125,0.11;0.62x0.77)\n",
            "\n"
          ]
        },
        {
          "data": {
            "image/png": "[encoded data removed]",
            "text/plain": [
              "<Figure size 640x480 with 2 Axes>"
            ]
          },
          "metadata": {},
          "output_type": "display_data"
        }
      ],
      "source": [
        "text_metrics(y_true=val_label,y_pred=base_pred)"
      ]
    },
    {
      "cell_type": "code",
      "execution_count": null,
      "metadata": {
        "id": "TJ57PgDiS3AY"
      },
      "outputs": [],
      "source": [
        "from Helper_Function import create_tensorboard_callback"
      ]
    },
    {
      "cell_type": "code",
      "execution_count": null,
      "metadata": {
        "colab": {
          "base_uri": "https://localhost:8080/"
        },
        "id": "j9mYI4xvT_bD",
        "outputId": "bc4d6ce2-89cd-4434-c53b-dd1a8678b960"
      },
      "outputs": [
        {
          "name": "stdout",
          "output_type": "stream",
          "text": [
            "Saving TensorBoard log files to: NLP callback/model 1 experiment/20230910-152955\n"
          ]
        }
      ],
      "source": [
        "callback_01 = create_tensorboard_callback(dir_name='NLP callback',\n",
        "                            experiment_name='model 1 experiment')"
      ]
    },
    {
      "cell_type": "code",
      "execution_count": null,
      "metadata": {
        "colab": {
          "base_uri": "https://localhost:8080/"
        },
        "id": "voHT5xF5iAjz",
        "outputId": "deb68d69-b787-4475-fedc-9501f16546ef"
      },
      "outputs": [
        {
          "data": {
            "text/plain": [
              "(array(['@mogacola @zamtriossu i screamed after hitting tweet',\n",
              "        'Imagine getting flattened by Kurt Zouma',\n",
              "        '@Gurmeetramrahim #MSGDoing111WelfareWorks Green S welfare force ke appx 65000 members har time disaster victim ki help ke liye tyar hai....',\n",
              "        \"@shakjn @C7 @Magnums im shaking in fear he's gonna hack the planet\",\n",
              "        'Somehow find you and I collide http://t.co/Ee8RpOahPk',\n",
              "        '@EvaHanderek @MarleyKnysh great times until the bus driver held us hostage in the mall parking lot lmfao',\n",
              "        'destroy the free fandom honestly',\n",
              "        'Weapons stolen from National Guard Armory in New Albany still missing #Gunsense http://t.co/lKNU8902JE',\n",
              "        '@wfaaweather Pete when will the heat wave pass? Is it really going to be mid month? Frisco Boy Scouts have a canoe trip in Okla.',\n",
              "        'Patient-reported outcomes in long-term survivors of metastatic colorectal cancer - British Journal of Surgery http://t.co/5Yl4DC1Tqt',\n",
              "        'Lava Dragon Breeder! I just bred a Lava Dragon in DragonVale! Visit my park to check it out! http://t.co/QGum9xHEOs',\n",
              "        '@BehindAShield @Wars_Goddess Sweet Lord.  (I collapse as my knees buckle)',\n",
              "        'Several wild fires have burned a lot of land in California. Here is one of the larger fires. http://t.co/2M1gNeaiFl http://t.co/UQh85MiP0v',\n",
              "        \"1st wk of Rainier Diet and my street Seward Park Ave is inundated w/ bypass traffic so @seattledot what's your plan? @seattletimes\",\n",
              "        'Madhya Pradesh Train Derailment: Village Youth Saved Many Lives',\n",
              "        'Fair enough we have two of the best attacking wingers in the Prem in Hazard and Willian who will basically start every game 100%',\n",
              "        \"@AlexeiVolkov1 @McFaul\\nAnd in an equal spirit I leave you to Roskomnadzor and to ridiculously politicized destruction of 'illegal food.'\",\n",
              "        'SOOOO PUMPED FOR ABLAZE ???? @southridgelife',\n",
              "        'Ready for this storm',\n",
              "        'WHEN U BOMBED AND U TRY 2 GET HOME FOR CURFEW http://t.co/oi6CmAGASi'],\n",
              "       dtype=object),\n",
              " array([0, 0, 1, ..., 1, 1, 0]))"
            ]
          },
          "execution_count": 31,
          "metadata": {},
          "output_type": "execute_result"
        }
      ],
      "source": [
        "train_sentence[:20\n",
        "               ],train_label"
      ]
    },
    {
      "cell_type": "code",
      "execution_count": null,
      "metadata": {
        "colab": {
          "base_uri": "https://localhost:8080/"
        },
        "id": "KKQvG7plcZnh",
        "outputId": "d9ae179c-f981-4b75-f4e3-1a4722845a2b"
      },
      "outputs": [
        {
          "name": "stdout",
          "output_type": "stream",
          "text": [
            "Epoch 1/20\n",
            "215/215 [==============================] - 21s 76ms/step - loss: 0.6120 - accuracy: 0.6878 - val_loss: 0.5382 - val_accuracy: 0.7533\n",
            "Epoch 2/20\n",
            "215/215 [==============================] - 4s 17ms/step - loss: 0.4424 - accuracy: 0.8168 - val_loss: 0.4702 - val_accuracy: 0.7913\n",
            "Epoch 3/20\n",
            "215/215 [==============================] - 2s 9ms/step - loss: 0.3467 - accuracy: 0.8584 - val_loss: 0.4570 - val_accuracy: 0.7940\n",
            "Epoch 4/20\n",
            "215/215 [==============================] - 2s 9ms/step - loss: 0.2849 - accuracy: 0.8908 - val_loss: 0.4639 - val_accuracy: 0.7900\n",
            "Epoch 5/20\n",
            "215/215 [==============================] - 2s 8ms/step - loss: 0.2376 - accuracy: 0.9115 - val_loss: 0.4810 - val_accuracy: 0.7822\n",
            "Epoch 6/20\n",
            "215/215 [==============================] - 2s 8ms/step - loss: 0.2020 - accuracy: 0.9296 - val_loss: 0.5003 - val_accuracy: 0.7822\n",
            "Epoch 7/20\n",
            "215/215 [==============================] - 1s 5ms/step - loss: 0.1733 - accuracy: 0.9396 - val_loss: 0.5299 - val_accuracy: 0.7900\n",
            "Epoch 8/20\n",
            "215/215 [==============================] - 1s 6ms/step - loss: 0.1503 - accuracy: 0.9469 - val_loss: 0.5546 - val_accuracy: 0.7808\n",
            "Epoch 9/20\n",
            "215/215 [==============================] - 2s 9ms/step - loss: 0.1314 - accuracy: 0.9540 - val_loss: 0.5766 - val_accuracy: 0.7782\n",
            "Epoch 10/20\n",
            "215/215 [==============================] - 1s 6ms/step - loss: 0.1165 - accuracy: 0.9610 - val_loss: 0.6129 - val_accuracy: 0.7822\n",
            "Epoch 11/20\n",
            "215/215 [==============================] - 2s 9ms/step - loss: 0.1049 - accuracy: 0.9658 - val_loss: 0.6365 - val_accuracy: 0.7756\n",
            "Epoch 12/20\n",
            "215/215 [==============================] - 1s 7ms/step - loss: 0.0952 - accuracy: 0.9680 - val_loss: 0.6684 - val_accuracy: 0.7743\n",
            "Epoch 13/20\n",
            "215/215 [==============================] - 1s 5ms/step - loss: 0.0876 - accuracy: 0.9707 - val_loss: 0.6994 - val_accuracy: 0.7743\n",
            "Epoch 14/20\n",
            "215/215 [==============================] - 1s 6ms/step - loss: 0.0798 - accuracy: 0.9729 - val_loss: 0.7366 - val_accuracy: 0.7703\n",
            "Epoch 15/20\n",
            "215/215 [==============================] - 1s 7ms/step - loss: 0.0752 - accuracy: 0.9730 - val_loss: 0.7725 - val_accuracy: 0.7730\n",
            "Epoch 16/20\n",
            "215/215 [==============================] - 1s 6ms/step - loss: 0.0700 - accuracy: 0.9758 - val_loss: 0.7954 - val_accuracy: 0.7756\n",
            "Epoch 17/20\n",
            "215/215 [==============================] - 2s 11ms/step - loss: 0.0661 - accuracy: 0.9758 - val_loss: 0.8368 - val_accuracy: 0.7677\n",
            "Epoch 18/20\n",
            "215/215 [==============================] - 2s 8ms/step - loss: 0.0623 - accuracy: 0.9775 - val_loss: 0.8610 - val_accuracy: 0.7664\n",
            "Epoch 19/20\n",
            "215/215 [==============================] - 2s 7ms/step - loss: 0.0606 - accuracy: 0.9765 - val_loss: 0.8958 - val_accuracy: 0.7612\n",
            "Epoch 20/20\n",
            "215/215 [==============================] - 1s 6ms/step - loss: 0.0585 - accuracy: 0.9769 - val_loss: 0.9254 - val_accuracy: 0.7598\n"
          ]
        },
        {
          "data": {
            "text/plain": [
              "<keras.src.callbacks.History at 0x7f4e32506110>"
            ]
          },
          "execution_count": 32,
          "metadata": {},
          "output_type": "execute_result"
        }
      ],
      "source": [
        "# Create model 1\n",
        "input = layers.Input(shape=(1,),dtype=tf.string)\n",
        "x = text_vectorizers(input)\n",
        "x = embedding(x)\n",
        "x = layers.GlobalAveragePooling1D()(x)\n",
        "output = layers.Dense(1,activation='sigmoid')(x)\n",
        "model_01 = tf.keras.Model(input,output)\n",
        "\n",
        "model_01.compile(loss=tf.keras.losses.BinaryCrossentropy(),\n",
        "                 optimizer='adam',\n",
        "                 metrics=['accuracy'])\n",
        "\n",
        "model_01.fit(x=train_sentence,\n",
        "             y=train_label,\n",
        "             epochs=20,\n",
        "             validation_data=(val_sentence,val_label),\n",
        "             callbacks=callback_01)"
      ]
    },
    {
      "cell_type": "code",
      "execution_count": null,
      "metadata": {
        "colab": {
          "base_uri": "https://localhost:8080/"
        },
        "id": "Bv7GSpwHmzK5",
        "outputId": "6a3096d1-f05f-4e38-a511-1d7074c4b6fa"
      },
      "outputs": [
        {
          "name": "stdout",
          "output_type": "stream",
          "text": [
            "24/24 [==============================] - 0s 2ms/step\n"
          ]
        }
      ],
      "source": [
        "predict = model_01.predict(val_sentence)\n",
        "mod01_pred = tf.round(tf.squeeze(predict))"
      ]
    },
    {
      "cell_type": "code",
      "execution_count": null,
      "metadata": {
        "colab": {
          "base_uri": "https://localhost:8080/",
          "height": 818
        },
        "id": "c1dDeHwieXU_",
        "outputId": "25acc2e7-53d0-4421-c2cf-96a0fce11b66"
      },
      "outputs": [
        {
          "name": "stdout",
          "output_type": "stream",
          "text": [
            "\n",
            "recall score:69.83%\n",
            "\n",
            "\n",
            "precision_score:75.70%\n",
            "\n",
            "\n",
            "f1_score:72.65%\n",
            "\n",
            "\n",
            "the confusion matrix:\n",
            "\n",
            "[[386  28]\n",
            " [130 218]]\n",
            "\n",
            "\n",
            "accuracy score:75.98%\n",
            "\n",
            "\n",
            "more beautiful matrix:Axes(0.125,0.11;0.62x0.77)\n",
            "\n"
          ]
        },
        {
          "data": {
            "image/png": "[encoded data removed]",
            "text/plain": [
              "<Figure size 640x480 with 2 Axes>"
            ]
          },
          "metadata": {},
          "output_type": "display_data"
        }
      ],
      "source": [
        "text_metrics(y_true=val_label,y_pred=mod01_pred)"
      ]
    },
    {
      "cell_type": "code",
      "execution_count": null,
      "metadata": {
        "colab": {
          "base_uri": "https://localhost:8080/"
        },
        "id": "3qS-YHCGxGa0",
        "outputId": "87d0727c-1b24-496d-d5cf-8499d8e62921"
      },
      "outputs": [
        {
          "name": "stdout",
          "output_type": "stream",
          "text": [
            "Model: \"model\"\n",
            "_________________________________________________________________\n",
            " Layer (type)                Output Shape              Param #   \n",
            "=================================================================\n",
            " input_1 (InputLayer)        [(None, 1)]               0         \n",
            "                                                                 \n",
            " text_vectorization_1 (Text  (None, 15)                0         \n",
            " Vectorization)                                                  \n",
            "                                                                 \n",
            " embedding (Embedding)       (None, 15, 128)           1280000   \n",
            "                                                                 \n",
            " global_average_pooling1d (  (None, 128)               0         \n",
            " GlobalAveragePooling1D)                                         \n",
            "                                                                 \n",
            " dense (Dense)               (None, 1)                 129       \n",
            "                                                                 \n",
            "=================================================================\n",
            "Total params: 1280129 (4.88 MB)\n",
            "Trainable params: 1280129 (4.88 MB)\n",
            "Non-trainable params: 0 (0.00 Byte)\n",
            "_________________________________________________________________\n"
          ]
        }
      ],
      "source": [
        "model_01.summary()"
      ]
    },
    {
      "cell_type": "code",
      "execution_count": null,
      "metadata": {
        "colab": {
          "base_uri": "https://localhost:8080/",
          "height": 448
        },
        "id": "uRDeTMbxhn3L",
        "outputId": "e7caeba2-96bf-45e3-db9e-7e27291997cc"
      },
      "outputs": [
        {
          "data": {
            "text/plain": [
              "[<matplotlib.lines.Line2D at 0x7f4e31daff40>]"
            ]
          },
          "execution_count": 36,
          "metadata": {},
          "output_type": "execute_result"
        },
        {
          "data": {
            "image/png": "[encoded data removed]",
            "text/plain": [
              "<Figure size 640x480 with 1 Axes>"
            ]
          },
          "metadata": {},
          "output_type": "display_data"
        }
      ],
      "source": [
        "plt.plot(model_01.get_layer('embedding').get_weights()[0][0])"
      ]
    },
    {
      "cell_type": "code",
      "execution_count": null,
      "metadata": {
        "colab": {
          "base_uri": "https://localhost:8080/"
        },
        "id": "Qi6yLz0Lk4Jf",
        "outputId": "52a277ed-ace1-4115-9c63-3fbd31523bac"
      },
      "outputs": [
        {
          "name": "stdout",
          "output_type": "stream",
          "text": [
            "(None, 128)\n"
          ]
        }
      ],
      "source": [
        "print(x.shape)"
      ]
    },
    {
      "cell_type": "code",
      "execution_count": null,
      "metadata": {
        "id": "EtLQCleYuF3T"
      },
      "outputs": [],
      "source": [
        "# Model 2 LSTM(Long Short Term Memory)\n",
        "# Build the model\n",
        "input = layers.Input(shape=(1,),dtype=tf.string)\n",
        "x = text_vectorizers(input)\n",
        "x = embedding(x)\n",
        "x = layers.LSTM(units=64,return_sequences=True)(x)\n",
        "x = layers.LSTM(units=64)(x)\n",
        "x = layers.Dense(units=64,activation='relu')(x)\n",
        "output = layers.Dense(1,activation='sigmoid')(x)\n",
        "model_02 = tf.keras.Model(input,output)\n"
      ]
    },
    {
      "cell_type": "code",
      "execution_count": null,
      "metadata": {
        "id": "AA_ChLXu4Vq2"
      },
      "outputs": [],
      "source": [
        "# Compiling the model\n",
        "model_02.compile(loss=tf.keras.losses.binary_crossentropy,\n",
        "                 optimizer=tf.keras.optimizers.Adam(),\n",
        "                 metrics='accuracy')"
      ]
    },
    {
      "cell_type": "code",
      "execution_count": null,
      "metadata": {
        "colab": {
          "base_uri": "https://localhost:8080/"
        },
        "id": "DoY21LIO5O-J",
        "outputId": "59c89d50-856d-41d2-b98e-03dfded347a3"
      },
      "outputs": [
        {
          "name": "stdout",
          "output_type": "stream",
          "text": [
            "Saving TensorBoard log files to: NLP callback/LSTM model/20230910-153050\n",
            "Epoch 1/10\n",
            "215/215 [==============================] - 18s 56ms/step - loss: 0.1050 - accuracy: 0.9715 - val_loss: 1.0740 - val_accuracy: 0.7677\n",
            "Epoch 2/10\n",
            "215/215 [==============================] - 3s 15ms/step - loss: 0.0586 - accuracy: 0.9756 - val_loss: 1.0608 - val_accuracy: 0.7612\n",
            "Epoch 3/10\n",
            "215/215 [==============================] - 2s 10ms/step - loss: 0.0515 - accuracy: 0.9794 - val_loss: 1.2144 - val_accuracy: 0.7638\n",
            "Epoch 4/10\n",
            "215/215 [==============================] - 3s 12ms/step - loss: 0.0472 - accuracy: 0.9788 - val_loss: 1.4214 - val_accuracy: 0.7638\n",
            "Epoch 5/10\n",
            "215/215 [==============================] - 2s 11ms/step - loss: 0.0444 - accuracy: 0.9807 - val_loss: 1.5223 - val_accuracy: 0.7585\n",
            "Epoch 6/10\n",
            "215/215 [==============================] - 4s 17ms/step - loss: 0.0415 - accuracy: 0.9812 - val_loss: 1.5935 - val_accuracy: 0.7572\n",
            "Epoch 7/10\n",
            "215/215 [==============================] - 2s 11ms/step - loss: 0.0451 - accuracy: 0.9804 - val_loss: 1.1418 - val_accuracy: 0.7651\n",
            "Epoch 8/10\n",
            "215/215 [==============================] - 2s 9ms/step - loss: 0.0382 - accuracy: 0.9823 - val_loss: 1.8182 - val_accuracy: 0.7625\n",
            "Epoch 9/10\n",
            "215/215 [==============================] - 2s 10ms/step - loss: 0.0371 - accuracy: 0.9813 - val_loss: 1.9433 - val_accuracy: 0.7677\n",
            "Epoch 10/10\n",
            "215/215 [==============================] - 2s 9ms/step - loss: 0.0317 - accuracy: 0.9841 - val_loss: 2.0632 - val_accuracy: 0.7520\n"
          ]
        },
        {
          "data": {
            "text/plain": [
              "<keras.src.callbacks.History at 0x7f4eb193c160>"
            ]
          },
          "execution_count": 40,
          "metadata": {},
          "output_type": "execute_result"
        }
      ],
      "source": [
        "#Fit the model\n",
        "model_02.fit(x=train_sentence,\n",
        "             y=train_label,\n",
        "             epochs=10,\n",
        "             validation_data=(val_sentence,val_label),\n",
        "             callbacks=create_tensorboard_callback(dir_name='NLP callback',experiment_name='LSTM model'))"
      ]
    },
    {
      "cell_type": "code",
      "execution_count": null,
      "metadata": {
        "colab": {
          "base_uri": "https://localhost:8080/"
        },
        "id": "-fvdkryf6yD5",
        "outputId": "d77a661f-a220-40b0-9bc0-17e2920c81cb"
      },
      "outputs": [
        {
          "name": "stdout",
          "output_type": "stream",
          "text": [
            "24/24 [==============================] - 1s 3ms/step\n"
          ]
        },
        {
          "data": {
            "text/plain": [
              "<tf.Tensor: shape=(762,), dtype=float32, numpy=\n",
              "array([0., 1., 1., 0., 0., 1., 1., 1., 1., 1., 0., 1., 0., 0., 0., 0., 0.,\n",
              "       0., 0., 1., 1., 0., 1., 0., 1., 1., 0., 0., 0., 1., 1., 0., 0., 0.,\n",
              "       0., 1., 1., 0., 0., 1., 1., 0., 0., 0., 1., 1., 1., 1., 0., 1., 0.,\n",
              "       0., 0., 0., 1., 0., 0., 1., 0., 0., 0., 1., 1., 0., 1., 1., 1., 0.,\n",
              "       1., 0., 0., 0., 1., 0., 1., 1., 0., 1., 0., 0., 0., 0., 1., 0., 0.,\n",
              "       0., 0., 0., 0., 1., 1., 0., 1., 0., 1., 1., 1., 1., 1., 1., 1., 0.,\n",
              "       0., 1., 1., 0., 1., 1., 0., 1., 1., 0., 1., 0., 0., 0., 1., 1., 0.,\n",
              "       0., 1., 0., 0., 0., 0., 0., 1., 0., 0., 1., 0., 1., 1., 1., 1., 0.,\n",
              "       1., 1., 0., 0., 1., 1., 0., 1., 0., 0., 0., 0., 0., 1., 0., 0., 0.,\n",
              "       0., 0., 1., 1., 0., 1., 0., 1., 0., 1., 1., 0., 0., 1., 0., 1., 1.,\n",
              "       1., 1., 1., 0., 1., 0., 0., 0., 1., 1., 0., 1., 1., 1., 1., 0., 0.,\n",
              "       1., 0., 0., 0., 1., 0., 0., 0., 0., 0., 0., 1., 0., 1., 1., 1., 1.,\n",
              "       0., 1., 1., 1., 1., 1., 1., 1., 0., 0., 0., 0., 1., 1., 1., 0., 0.,\n",
              "       0., 0., 0., 1., 1., 0., 1., 1., 1., 0., 0., 1., 0., 0., 0., 1., 0.,\n",
              "       0., 0., 1., 0., 1., 1., 0., 0., 1., 0., 0., 1., 0., 1., 0., 0., 1.,\n",
              "       0., 1., 1., 0., 0., 0., 0., 0., 1., 1., 1., 1., 0., 0., 0., 0., 0.,\n",
              "       1., 0., 0., 1., 0., 0., 1., 0., 0., 0., 1., 1., 1., 1., 1., 0., 1.,\n",
              "       0., 1., 1., 1., 0., 0., 1., 0., 0., 0., 0., 0., 0., 1., 1., 0., 0.,\n",
              "       0., 0., 0., 0., 0., 1., 0., 0., 1., 0., 1., 0., 0., 0., 0., 0., 1.,\n",
              "       0., 1., 0., 0., 1., 0., 1., 0., 0., 1., 0., 0., 1., 0., 0., 1., 1.,\n",
              "       0., 0., 1., 1., 1., 0., 1., 1., 0., 0., 0., 1., 0., 1., 0., 0., 1.,\n",
              "       1., 1., 0., 0., 0., 0., 1., 0., 0., 0., 0., 1., 0., 0., 0., 0., 0.,\n",
              "       1., 0., 0., 0., 0., 1., 1., 1., 1., 0., 1., 1., 1., 0., 1., 0., 1.,\n",
              "       1., 0., 1., 0., 1., 0., 0., 0., 0., 1., 0., 0., 1., 0., 1., 0., 0.,\n",
              "       0., 1., 1., 0., 0., 1., 1., 1., 0., 0., 1., 0., 1., 1., 1., 1., 0.,\n",
              "       1., 0., 1., 1., 1., 0., 0., 0., 0., 1., 0., 1., 0., 1., 1., 0., 1.,\n",
              "       0., 0., 1., 1., 0., 0., 0., 0., 0., 1., 1., 1., 1., 1., 0., 0., 1.,\n",
              "       1., 1., 0., 0., 0., 1., 1., 0., 0., 1., 0., 0., 1., 0., 0., 1., 0.,\n",
              "       1., 1., 0., 0., 0., 0., 0., 1., 0., 1., 1., 0., 0., 0., 0., 1., 1.,\n",
              "       0., 0., 0., 0., 1., 0., 1., 1., 1., 1., 1., 1., 0., 0., 1., 1., 0.,\n",
              "       0., 0., 0., 0., 0., 0., 1., 1., 1., 1., 0., 0., 1., 0., 0., 0., 1.,\n",
              "       0., 1., 1., 1., 1., 0., 0., 1., 0., 0., 1., 1., 1., 0., 0., 1., 0.,\n",
              "       0., 0., 0., 1., 1., 0., 1., 1., 0., 1., 0., 1., 0., 0., 0., 0., 0.,\n",
              "       0., 1., 0., 1., 0., 1., 1., 0., 0., 1., 0., 1., 0., 0., 1., 0., 0.,\n",
              "       1., 0., 0., 0., 1., 1., 0., 1., 0., 0., 0., 0., 0., 0., 0., 0., 0.,\n",
              "       0., 0., 1., 1., 0., 0., 0., 1., 1., 1., 0., 1., 0., 1., 1., 0., 1.,\n",
              "       0., 1., 1., 0., 0., 1., 0., 1., 1., 0., 1., 0., 1., 1., 0., 0., 1.,\n",
              "       0., 0., 1., 1., 1., 1., 1., 1., 0., 1., 1., 1., 0., 1., 1., 0., 0.,\n",
              "       0., 0., 1., 1., 1., 0., 0., 0., 1., 0., 0., 1., 0., 0., 0., 0., 1.,\n",
              "       0., 1., 0., 0., 0., 1., 1., 0., 1., 1., 0., 1., 0., 1., 1., 0., 1.,\n",
              "       0., 0., 1., 0., 0., 1., 0., 0., 0., 0., 0., 1., 0., 0., 1., 0., 1.,\n",
              "       0., 1., 0., 0., 0., 1., 0., 0., 0., 0., 0., 0., 0., 0., 0., 1., 0.,\n",
              "       0., 0., 0., 0., 1., 0., 0., 0., 1., 1., 0., 0., 0., 0., 1., 0., 0.,\n",
              "       1., 1., 1., 1., 1., 0., 0., 1., 1., 1., 1., 0., 1., 1., 0., 0., 0.,\n",
              "       0., 0., 0., 1., 1., 0., 1., 1., 0., 0., 0., 1., 0., 0.],\n",
              "      dtype=float32)>"
            ]
          },
          "execution_count": 41,
          "metadata": {},
          "output_type": "execute_result"
        }
      ],
      "source": [
        "LSTM_pred = model_02.predict(val_sentence)\n",
        "LSTM_pred = tf.round(tf.squeeze(LSTM_pred))\n",
        "LSTM_pred"
      ]
    },
    {
      "cell_type": "code",
      "execution_count": null,
      "metadata": {
        "colab": {
          "base_uri": "https://localhost:8080/",
          "height": 818
        },
        "id": "KKyT7ARa7NOp",
        "outputId": "b439b425-619f-4e6d-cd10-823fbcdd045a"
      },
      "outputs": [
        {
          "name": "stdout",
          "output_type": "stream",
          "text": [
            "\n",
            "recall score:70.69%\n",
            "\n",
            "\n",
            "precision_score:73.87%\n",
            "\n",
            "\n",
            "f1_score:72.25%\n",
            "\n",
            "\n",
            "the confusion matrix:\n",
            "\n",
            "[[386  28]\n",
            " [130 218]]\n",
            "\n",
            "\n",
            "accuracy score:75.20%\n",
            "\n",
            "\n",
            "more beautiful matrix:Axes(0.125,0.11;0.62x0.77)\n",
            "\n"
          ]
        },
        {
          "data": {
            "image/png": "[encoded data removed]",
            "text/plain": [
              "<Figure size 640x480 with 2 Axes>"
            ]
          },
          "metadata": {},
          "output_type": "display_data"
        }
      ],
      "source": [
        "text_metrics(val_label,LSTM_pred)"
      ]
    },
    {
      "cell_type": "code",
      "execution_count": null,
      "metadata": {
        "colab": {
          "base_uri": "https://localhost:8080/"
        },
        "id": "f2K0Mf_Kz4_5",
        "outputId": "abf78b09-c494-458e-bbe4-0e934672c48f"
      },
      "outputs": [
        {
          "name": "stdout",
          "output_type": "stream",
          "text": [
            "Model: \"model_1\"\n",
            "_________________________________________________________________\n",
            " Layer (type)                Output Shape              Param #   \n",
            "=================================================================\n",
            " input_2 (InputLayer)        [(None, 1)]               0         \n",
            "                                                                 \n",
            " text_vectorization_1 (Text  (None, 15)                0         \n",
            " Vectorization)                                                  \n",
            "                                                                 \n",
            " embedding (Embedding)       (None, 15, 128)           1280000   \n",
            "                                                                 \n",
            " lstm (LSTM)                 (None, 15, 64)            49408     \n",
            "                                                                 \n",
            " lstm_1 (LSTM)               (None, 64)                33024     \n",
            "                                                                 \n",
            " dense_1 (Dense)             (None, 64)                4160      \n",
            "                                                                 \n",
            " dense_2 (Dense)             (None, 1)                 65        \n",
            "                                                                 \n",
            "=================================================================\n",
            "Total params: 1366657 (5.21 MB)\n",
            "Trainable params: 1366657 (5.21 MB)\n",
            "Non-trainable params: 0 (0.00 Byte)\n",
            "_________________________________________________________________\n"
          ]
        }
      ],
      "source": [
        "model_02.summary()"
      ]
    },
    {
      "cell_type": "code",
      "execution_count": null,
      "metadata": {
        "id": "oNa3KXBt2lLG"
      },
      "outputs": [],
      "source": [
        "# Building model 3(GRU)\n",
        "input = layers.Input(shape=(1,),dtype='string')\n",
        "x = text_vectorizers(input)\n",
        "x = embedding(x)\n",
        "x = layers.GRU(128,return_sequences=True)(x)\n",
        "x = layers.GRU(64,return_sequences=False)(x)\n",
        "x = layers.Dense(64,activation=tf.keras.activations.tanh)(x)\n",
        "output = layers.Dense(1,activation='sigmoid')(x)\n",
        "model_03 = tf.keras.Model(input,output)"
      ]
    },
    {
      "cell_type": "code",
      "execution_count": null,
      "metadata": {
        "id": "EWQdAJz49QdX"
      },
      "outputs": [],
      "source": [
        "# Conpile the model\n",
        "model_03.compile(loss=tf.keras.losses.binary_crossentropy,\n",
        "                 optimizer='adam',\n",
        "                 metrics='accuracy')"
      ]
    },
    {
      "cell_type": "code",
      "execution_count": null,
      "metadata": {
        "colab": {
          "base_uri": "https://localhost:8080/"
        },
        "id": "QvxwpJMi-c-P",
        "outputId": "e41b4ed5-0944-4b63-bff7-1ee22b44c004"
      },
      "outputs": [
        {
          "name": "stdout",
          "output_type": "stream",
          "text": [
            "Saving TensorBoard log files to: NLP callback/GRU model/20230910-153136\n",
            "Epoch 1/10\n",
            "215/215 [==============================] - 17s 60ms/step - loss: 0.0862 - accuracy: 0.9712 - val_loss: 1.3115 - val_accuracy: 0.7612\n",
            "Epoch 2/10\n",
            "215/215 [==============================] - 4s 20ms/step - loss: 0.0511 - accuracy: 0.9796 - val_loss: 1.0881 - val_accuracy: 0.7559\n",
            "Epoch 3/10\n",
            "215/215 [==============================] - 2s 10ms/step - loss: 0.0479 - accuracy: 0.9806 - val_loss: 1.0016 - val_accuracy: 0.7612\n",
            "Epoch 4/10\n",
            "215/215 [==============================] - 2s 10ms/step - loss: 0.0444 - accuracy: 0.9810 - val_loss: 1.1037 - val_accuracy: 0.7559\n",
            "Epoch 5/10\n",
            "215/215 [==============================] - 2s 9ms/step - loss: 0.0475 - accuracy: 0.9810 - val_loss: 1.2845 - val_accuracy: 0.7598\n",
            "Epoch 6/10\n",
            "215/215 [==============================] - 2s 8ms/step - loss: 0.0382 - accuracy: 0.9813 - val_loss: 1.3717 - val_accuracy: 0.7507\n",
            "Epoch 7/10\n",
            "215/215 [==============================] - 2s 9ms/step - loss: 0.0339 - accuracy: 0.9829 - val_loss: 1.5479 - val_accuracy: 0.7625\n",
            "Epoch 8/10\n",
            "215/215 [==============================] - 3s 14ms/step - loss: 0.0369 - accuracy: 0.9825 - val_loss: 1.3774 - val_accuracy: 0.7415\n",
            "Epoch 9/10\n",
            "215/215 [==============================] - 2s 9ms/step - loss: 0.0330 - accuracy: 0.9841 - val_loss: 1.7468 - val_accuracy: 0.7585\n",
            "Epoch 10/10\n",
            "215/215 [==============================] - 2s 9ms/step - loss: 0.0316 - accuracy: 0.9835 - val_loss: 1.9000 - val_accuracy: 0.7625\n"
          ]
        },
        {
          "data": {
            "text/plain": [
              "<keras.src.callbacks.History at 0x7f4e27ded060>"
            ]
          },
          "execution_count": 46,
          "metadata": {},
          "output_type": "execute_result"
        }
      ],
      "source": [
        "#Fit the model\n",
        "model_03.fit(x=train_sentence,\n",
        "             y=train_label,\n",
        "             epochs=10,\n",
        "             validation_data=(val_sentence,val_label),\n",
        "             callbacks=create_tensorboard_callback(dir_name='NLP callback',\n",
        "                                                   experiment_name='GRU model'))"
      ]
    },
    {
      "cell_type": "code",
      "execution_count": null,
      "metadata": {
        "colab": {
          "base_uri": "https://localhost:8080/"
        },
        "id": "7ZF6v63OAZc8",
        "outputId": "4e8f4e5f-3641-4b99-9b9b-8f194f24afda"
      },
      "outputs": [
        {
          "name": "stdout",
          "output_type": "stream",
          "text": [
            "24/24 [==============================] - 1s 4ms/step\n"
          ]
        },
        {
          "data": {
            "text/plain": [
              "<tf.Tensor: shape=(762,), dtype=float32, numpy=\n",
              "array([0., 1., 1., 0., 0., 1., 1., 1., 1., 1., 0., 1., 0., 0., 0., 0., 0.,\n",
              "       0., 0., 1., 1., 0., 1., 0., 1., 1., 0., 0., 0., 1., 1., 0., 0., 0.,\n",
              "       1., 1., 1., 0., 0., 1., 1., 0., 1., 0., 1., 1., 1., 1., 0., 1., 0.,\n",
              "       0., 0., 0., 1., 0., 0., 1., 0., 0., 0., 1., 1., 0., 1., 1., 1., 0.,\n",
              "       1., 0., 0., 0., 1., 0., 1., 1., 0., 1., 0., 0., 0., 0., 1., 0., 0.,\n",
              "       0., 0., 0., 0., 1., 1., 0., 1., 0., 1., 1., 1., 1., 1., 1., 1., 0.,\n",
              "       0., 1., 1., 0., 1., 1., 0., 1., 1., 0., 1., 0., 0., 0., 1., 1., 0.,\n",
              "       0., 1., 0., 0., 1., 0., 0., 1., 0., 0., 1., 0., 1., 1., 1., 1., 0.,\n",
              "       1., 1., 0., 0., 1., 1., 0., 1., 0., 0., 0., 0., 0., 1., 0., 0., 0.,\n",
              "       0., 0., 1., 1., 0., 1., 0., 1., 0., 0., 1., 0., 0., 1., 0., 1., 1.,\n",
              "       1., 1., 1., 0., 1., 0., 1., 0., 1., 1., 0., 1., 1., 1., 1., 0., 0.,\n",
              "       1., 0., 0., 0., 1., 0., 0., 0., 0., 0., 0., 1., 0., 0., 1., 1., 1.,\n",
              "       0., 1., 1., 1., 1., 1., 0., 1., 0., 0., 0., 0., 1., 1., 1., 1., 0.,\n",
              "       0., 0., 0., 1., 0., 0., 1., 1., 1., 0., 0., 1., 0., 0., 0., 1., 0.,\n",
              "       0., 0., 1., 0., 1., 1., 0., 0., 1., 0., 0., 0., 0., 1., 0., 0., 1.,\n",
              "       0., 1., 1., 0., 0., 0., 0., 0., 1., 1., 0., 1., 0., 0., 0., 0., 0.,\n",
              "       1., 0., 0., 1., 0., 0., 1., 0., 0., 0., 1., 1., 1., 1., 1., 0., 1.,\n",
              "       0., 1., 1., 1., 0., 0., 1., 0., 0., 0., 0., 0., 0., 0., 1., 0., 0.,\n",
              "       0., 0., 0., 0., 0., 1., 0., 0., 1., 0., 1., 0., 0., 0., 0., 0., 1.,\n",
              "       0., 1., 0., 0., 1., 0., 1., 0., 0., 1., 0., 0., 1., 0., 0., 1., 1.,\n",
              "       0., 0., 1., 1., 1., 0., 1., 1., 0., 0., 0., 0., 0., 1., 0., 0., 1.,\n",
              "       1., 1., 0., 0., 0., 0., 1., 0., 0., 0., 0., 1., 0., 0., 0., 0., 0.,\n",
              "       1., 0., 0., 0., 0., 1., 1., 1., 1., 0., 1., 1., 1., 0., 1., 0., 1.,\n",
              "       0., 0., 0., 0., 1., 0., 0., 0., 0., 1., 0., 0., 1., 0., 1., 0., 0.,\n",
              "       0., 1., 1., 0., 0., 1., 1., 1., 0., 0., 1., 0., 1., 1., 1., 1., 0.,\n",
              "       1., 0., 1., 1., 1., 0., 0., 0., 0., 0., 0., 1., 0., 1., 1., 0., 1.,\n",
              "       0., 0., 0., 1., 0., 0., 0., 0., 0., 1., 1., 1., 1., 1., 0., 0., 1.,\n",
              "       1., 1., 0., 0., 0., 1., 1., 0., 0., 1., 0., 0., 1., 0., 0., 1., 0.,\n",
              "       1., 1., 0., 0., 0., 0., 0., 1., 0., 1., 1., 0., 0., 0., 0., 1., 1.,\n",
              "       0., 0., 0., 0., 1., 0., 1., 1., 1., 1., 0., 0., 0., 0., 1., 0., 0.,\n",
              "       0., 0., 0., 0., 0., 0., 1., 1., 1., 1., 0., 0., 1., 0., 0., 0., 1.,\n",
              "       0., 1., 1., 1., 1., 0., 0., 1., 0., 0., 1., 1., 1., 0., 0., 1., 0.,\n",
              "       0., 0., 0., 1., 1., 0., 1., 1., 0., 1., 0., 1., 0., 0., 0., 0., 0.,\n",
              "       0., 0., 0., 1., 0., 1., 1., 0., 0., 1., 0., 1., 0., 0., 1., 0., 0.,\n",
              "       1., 0., 0., 0., 1., 0., 0., 1., 0., 0., 0., 0., 0., 0., 0., 0., 0.,\n",
              "       0., 0., 1., 1., 0., 0., 0., 1., 1., 1., 0., 1., 0., 1., 1., 0., 1.,\n",
              "       0., 1., 1., 0., 0., 1., 0., 1., 1., 0., 1., 0., 1., 1., 0., 0., 1.,\n",
              "       0., 0., 1., 1., 1., 1., 1., 1., 0., 1., 1., 1., 0., 1., 1., 0., 0.,\n",
              "       0., 0., 1., 1., 1., 0., 0., 0., 1., 0., 0., 1., 0., 0., 0., 0., 1.,\n",
              "       0., 1., 0., 0., 0., 1., 1., 0., 0., 1., 0., 1., 0., 1., 1., 0., 1.,\n",
              "       1., 0., 1., 0., 1., 1., 0., 0., 0., 0., 0., 1., 0., 0., 1., 0., 1.,\n",
              "       0., 1., 0., 0., 0., 1., 0., 0., 0., 0., 0., 0., 0., 0., 0., 0., 0.,\n",
              "       0., 0., 0., 0., 1., 0., 0., 0., 1., 1., 0., 0., 0., 0., 1., 0., 0.,\n",
              "       1., 1., 1., 1., 1., 0., 0., 1., 1., 1., 1., 0., 1., 1., 0., 0., 0.,\n",
              "       0., 0., 0., 1., 1., 0., 1., 1., 0., 0., 0., 1., 0., 0.],\n",
              "      dtype=float32)>"
            ]
          },
          "execution_count": 47,
          "metadata": {},
          "output_type": "execute_result"
        }
      ],
      "source": [
        "#Model 3 prediction\n",
        "GRU_pred = model_03.predict(val_sentence)\n",
        "GRU_pred =tf.round(tf.squeeze(GRU_pred))\n",
        "GRU_pred"
      ]
    },
    {
      "cell_type": "code",
      "execution_count": null,
      "metadata": {
        "colab": {
          "base_uri": "https://localhost:8080/",
          "height": 818
        },
        "id": "iGOsso3VBXgb",
        "outputId": "a3f99449-6fe3-41b7-d8a0-dcdb7ee82746"
      },
      "outputs": [
        {
          "name": "stdout",
          "output_type": "stream",
          "text": [
            "\n",
            "recall score:70.11%\n",
            "\n",
            "\n",
            "precision_score:76.01%\n",
            "\n",
            "\n",
            "f1_score:72.94%\n",
            "\n",
            "\n",
            "the confusion matrix:\n",
            "\n",
            "[[386  28]\n",
            " [130 218]]\n",
            "\n",
            "\n",
            "accuracy score:76.25%\n",
            "\n",
            "\n",
            "more beautiful matrix:Axes(0.125,0.11;0.62x0.77)\n",
            "\n"
          ]
        },
        {
          "data": {
            "image/png": "[encoded data removed]",
            "text/plain": [
              "<Figure size 640x480 with 2 Axes>"
            ]
          },
          "metadata": {},
          "output_type": "display_data"
        }
      ],
      "source": [
        "text_metrics(val_label,GRU_pred)"
      ]
    },
    {
      "cell_type": "code",
      "execution_count": null,
      "metadata": {
        "id": "i3Y1T_LEHvFg"
      },
      "outputs": [],
      "source": [
        "# Building model 4(Bidirectional)\n",
        "# Create the model\n",
        "input = layers.Input(shape=(1,),dtype='string')\n",
        "x = text_vectorizers(input)\n",
        "x = embedding(x)\n",
        "x = layers.Bidirectional(layers.LSTM(128,return_sequences=True))(x)\n",
        "x = layers.Bidirectional(layers.GRU(128,return_sequences=False))(x)\n",
        "output = layers.Dense(1,activation='sigmoid')(x)\n",
        "model_04 = tf.keras.Model(input,output)\n",
        "\n"
      ]
    },
    {
      "cell_type": "code",
      "execution_count": null,
      "metadata": {
        "colab": {
          "base_uri": "https://localhost:8080/"
        },
        "id": "prtZkH4TKhtA",
        "outputId": "208644e8-2a3b-44ca-da71-df946e0df8c9"
      },
      "outputs": [
        {
          "name": "stdout",
          "output_type": "stream",
          "text": [
            "Model: \"model_3\"\n",
            "_________________________________________________________________\n",
            " Layer (type)                Output Shape              Param #   \n",
            "=================================================================\n",
            " input_4 (InputLayer)        [(None, 1)]               0         \n",
            "                                                                 \n",
            " text_vectorization_1 (Text  (None, 15)                0         \n",
            " Vectorization)                                                  \n",
            "                                                                 \n",
            " embedding (Embedding)       (None, 15, 128)           1280000   \n",
            "                                                                 \n",
            " bidirectional (Bidirection  (None, 15, 256)           263168    \n",
            " al)                                                             \n",
            "                                                                 \n",
            " bidirectional_1 (Bidirecti  (None, 256)               296448    \n",
            " onal)                                                           \n",
            "                                                                 \n",
            " dense_5 (Dense)             (None, 1)                 257       \n",
            "                                                                 \n",
            "=================================================================\n",
            "Total params: 1839873 (7.02 MB)\n",
            "Trainable params: 1839873 (7.02 MB)\n",
            "Non-trainable params: 0 (0.00 Byte)\n",
            "_________________________________________________________________\n"
          ]
        }
      ],
      "source": [
        "model_04.summary()"
      ]
    },
    {
      "cell_type": "code",
      "execution_count": null,
      "metadata": {
        "id": "2wRhjF8TL_-_"
      },
      "outputs": [],
      "source": [
        "# Compile the mode\n",
        "model_04.compile(loss='binary_crossentropy',\n",
        "                 optimizer='adam',\n",
        "                 metrics='accuracy')"
      ]
    },
    {
      "cell_type": "code",
      "execution_count": null,
      "metadata": {
        "colab": {
          "base_uri": "https://localhost:8080/"
        },
        "id": "H1qpPpS3KtcQ",
        "outputId": "3c3c6125-ab0c-4365-db8c-4c178b276f52"
      },
      "outputs": [
        {
          "name": "stdout",
          "output_type": "stream",
          "text": [
            "Saving TensorBoard log files to: NLP callback/Birectional model/20230910-153216\n",
            "Epoch 1/5\n",
            "215/215 [==============================] - 21s 63ms/step - loss: 0.0656 - accuracy: 0.9758 - val_loss: 1.3003 - val_accuracy: 0.7625\n",
            "Epoch 2/5\n",
            "215/215 [==============================] - 4s 21ms/step - loss: 0.0388 - accuracy: 0.9822 - val_loss: 1.5378 - val_accuracy: 0.7664\n",
            "Epoch 3/5\n",
            "215/215 [==============================] - 4s 19ms/step - loss: 0.0343 - accuracy: 0.9822 - val_loss: 1.8739 - val_accuracy: 0.7520\n",
            "Epoch 4/5\n",
            "215/215 [==============================] - 3s 13ms/step - loss: 0.0321 - accuracy: 0.9823 - val_loss: 1.6813 - val_accuracy: 0.7651\n",
            "Epoch 5/5\n",
            "215/215 [==============================] - 3s 12ms/step - loss: 0.0350 - accuracy: 0.9834 - val_loss: 1.8406 - val_accuracy: 0.7612\n"
          ]
        },
        {
          "data": {
            "text/plain": [
              "<keras.src.callbacks.History at 0x7f4e25b26200>"
            ]
          },
          "execution_count": 52,
          "metadata": {},
          "output_type": "execute_result"
        }
      ],
      "source": [
        "#fit the model\n",
        "model_04.fit(x=train_sentence,\n",
        "                 y=train_label,\n",
        "                 epochs=5,\n",
        "                 validation_data=(val_sentence,val_label),\n",
        "                 callbacks=create_tensorboard_callback(dir_name='NLP callback',\n",
        "                                                       experiment_name='Birectional model'))"
      ]
    },
    {
      "cell_type": "code",
      "execution_count": null,
      "metadata": {
        "colab": {
          "base_uri": "https://localhost:8080/"
        },
        "id": "ni6sDjo-LqX2",
        "outputId": "797c936a-5654-48fa-bf2b-c2f8c9f34a18"
      },
      "outputs": [
        {
          "name": "stdout",
          "output_type": "stream",
          "text": [
            "24/24 [==============================] - 1s 4ms/step\n"
          ]
        },
        {
          "data": {
            "text/plain": [
              "<tf.Tensor: shape=(762,), dtype=float32, numpy=\n",
              "array([0., 1., 1., 0., 0., 1., 1., 1., 1., 1., 0., 1., 0., 0., 0., 0., 0.,\n",
              "       0., 0., 1., 1., 0., 1., 0., 1., 1., 0., 0., 0., 1., 1., 0., 0., 0.,\n",
              "       1., 1., 1., 0., 0., 1., 1., 0., 0., 0., 0., 1., 1., 1., 0., 1., 0.,\n",
              "       0., 0., 0., 1., 0., 0., 1., 0., 0., 0., 1., 1., 0., 1., 1., 1., 0.,\n",
              "       1., 1., 0., 0., 1., 0., 1., 1., 0., 1., 0., 0., 0., 0., 1., 0., 0.,\n",
              "       0., 0., 0., 0., 1., 1., 0., 1., 0., 1., 1., 1., 1., 1., 1., 1., 0.,\n",
              "       0., 1., 1., 0., 1., 1., 0., 1., 1., 0., 0., 0., 0., 0., 1., 1., 0.,\n",
              "       0., 1., 0., 0., 0., 0., 0., 1., 0., 0., 1., 0., 1., 1., 1., 1., 0.,\n",
              "       1., 0., 0., 0., 1., 0., 0., 1., 0., 0., 0., 0., 0., 1., 0., 0., 0.,\n",
              "       0., 0., 1., 1., 0., 1., 0., 1., 0., 0., 0., 0., 0., 1., 0., 1., 1.,\n",
              "       1., 1., 1., 0., 1., 0., 0., 0., 0., 1., 0., 1., 1., 1., 1., 0., 0.,\n",
              "       1., 0., 0., 0., 1., 0., 0., 0., 0., 0., 0., 1., 0., 0., 1., 1., 0.,\n",
              "       0., 1., 1., 1., 1., 1., 0., 1., 0., 0., 0., 0., 1., 1., 1., 0., 0.,\n",
              "       0., 0., 0., 1., 0., 0., 1., 1., 1., 0., 0., 1., 0., 0., 0., 1., 0.,\n",
              "       0., 0., 1., 0., 1., 1., 0., 0., 1., 0., 0., 0., 0., 1., 0., 0., 1.,\n",
              "       0., 1., 1., 0., 0., 0., 0., 0., 1., 1., 0., 1., 0., 0., 0., 0., 0.,\n",
              "       1., 0., 0., 1., 0., 0., 1., 0., 0., 0., 1., 1., 0., 0., 1., 0., 1.,\n",
              "       0., 1., 1., 1., 0., 0., 1., 0., 0., 0., 0., 0., 0., 0., 1., 0., 0.,\n",
              "       0., 0., 0., 0., 0., 1., 0., 0., 1., 0., 1., 0., 0., 0., 0., 0., 1.,\n",
              "       0., 1., 0., 0., 1., 0., 1., 0., 0., 1., 0., 0., 1., 0., 0., 1., 1.,\n",
              "       0., 0., 1., 1., 1., 0., 1., 1., 0., 0., 0., 0., 0., 1., 0., 0., 1.,\n",
              "       1., 1., 0., 0., 0., 0., 1., 0., 0., 0., 0., 1., 0., 0., 0., 0., 0.,\n",
              "       1., 0., 0., 0., 0., 1., 1., 1., 0., 0., 1., 1., 1., 0., 1., 0., 1.,\n",
              "       0., 0., 0., 0., 1., 0., 0., 0., 0., 1., 0., 0., 1., 0., 1., 0., 0.,\n",
              "       0., 1., 1., 0., 0., 1., 1., 1., 0., 0., 1., 0., 1., 1., 1., 1., 0.,\n",
              "       0., 0., 1., 1., 1., 0., 0., 0., 0., 0., 0., 1., 0., 1., 1., 0., 1.,\n",
              "       0., 0., 0., 1., 0., 0., 0., 0., 0., 1., 1., 1., 1., 1., 0., 0., 1.,\n",
              "       1., 1., 0., 0., 0., 1., 1., 0., 0., 1., 0., 0., 1., 0., 0., 1., 0.,\n",
              "       1., 1., 0., 0., 0., 0., 0., 1., 0., 1., 1., 0., 0., 0., 0., 1., 1.,\n",
              "       0., 0., 0., 0., 1., 0., 1., 1., 1., 1., 0., 0., 0., 0., 1., 1., 0.,\n",
              "       0., 0., 0., 0., 0., 0., 1., 1., 1., 1., 0., 0., 1., 0., 0., 0., 1.,\n",
              "       0., 1., 1., 1., 1., 1., 0., 1., 0., 0., 1., 1., 1., 0., 0., 1., 0.,\n",
              "       0., 0., 0., 1., 1., 0., 1., 1., 0., 1., 0., 1., 0., 0., 0., 0., 0.,\n",
              "       0., 1., 0., 1., 0., 1., 1., 0., 0., 1., 0., 1., 0., 0., 1., 0., 0.,\n",
              "       1., 0., 0., 0., 1., 0., 0., 1., 0., 0., 0., 0., 0., 0., 0., 0., 0.,\n",
              "       0., 0., 1., 1., 0., 0., 0., 1., 1., 1., 0., 1., 0., 1., 1., 0., 1.,\n",
              "       0., 1., 1., 0., 0., 1., 0., 1., 1., 0., 1., 0., 1., 1., 0., 0., 1.,\n",
              "       0., 0., 1., 1., 1., 1., 1., 1., 0., 0., 1., 1., 0., 1., 1., 0., 0.,\n",
              "       0., 0., 1., 1., 1., 0., 0., 0., 1., 0., 0., 1., 0., 0., 0., 0., 1.,\n",
              "       0., 1., 0., 0., 0., 1., 1., 0., 0., 1., 0., 1., 0., 1., 1., 0., 1.,\n",
              "       1., 0., 1., 1., 1., 1., 0., 0., 0., 0., 0., 1., 0., 0., 1., 0., 1.,\n",
              "       0., 1., 0., 0., 0., 1., 0., 0., 0., 0., 0., 0., 0., 0., 0., 1., 0.,\n",
              "       0., 0., 0., 0., 1., 0., 0., 0., 1., 1., 0., 0., 0., 0., 1., 0., 0.,\n",
              "       0., 1., 1., 1., 1., 0., 0., 0., 1., 1., 1., 0., 1., 0., 0., 0., 0.,\n",
              "       0., 0., 0., 1., 1., 0., 1., 1., 0., 0., 0., 1., 0., 0.],\n",
              "      dtype=float32)>"
            ]
          },
          "execution_count": 53,
          "metadata": {},
          "output_type": "execute_result"
        }
      ],
      "source": [
        "Bi_pred = model_04.predict(val_sentence)\n",
        "Bi_pred = tf.round(tf.squeeze(Bi_pred))\n",
        "Bi_pred"
      ]
    },
    {
      "cell_type": "code",
      "execution_count": null,
      "metadata": {
        "colab": {
          "base_uri": "https://localhost:8080/"
        },
        "id": "Ako3H76hNF6c",
        "outputId": "3d829a79-7751-450a-be4b-f20b9b6557ed"
      },
      "outputs": [
        {
          "data": {
            "text/plain": [
              "((762,), TensorShape([762]))"
            ]
          },
          "execution_count": 54,
          "metadata": {},
          "output_type": "execute_result"
        }
      ],
      "source": [
        "val_label.shape,Bi_pred.shape"
      ]
    },
    {
      "cell_type": "code",
      "execution_count": null,
      "metadata": {
        "colab": {
          "base_uri": "https://localhost:8080/",
          "height": 818
        },
        "id": "nAYGlignPhqh",
        "outputId": "db0da84c-33ad-44b5-9d3a-6e1670e7d977"
      },
      "outputs": [
        {
          "name": "stdout",
          "output_type": "stream",
          "text": [
            "\n",
            "recall score:68.10%\n",
            "\n",
            "\n",
            "precision_score:76.95%\n",
            "\n",
            "\n",
            "f1_score:72.26%\n",
            "\n",
            "\n",
            "the confusion matrix:\n",
            "\n",
            "[[386  28]\n",
            " [130 218]]\n",
            "\n",
            "\n",
            "accuracy score:76.12%\n",
            "\n",
            "\n",
            "more beautiful matrix:Axes(0.125,0.11;0.62x0.77)\n",
            "\n"
          ]
        },
        {
          "data": {
            "image/png": "[encoded data removed]",
            "text/plain": [
              "<Figure size 640x480 with 2 Axes>"
            ]
          },
          "metadata": {},
          "output_type": "display_data"
        }
      ],
      "source": [
        "text_metrics(val_label,Bi_pred)"
      ]
    },
    {
      "cell_type": "code",
      "execution_count": null,
      "metadata": {
        "id": "18QzuK8iVmvD"
      },
      "outputs": [],
      "source": [
        "# Building model 5 with Convolution neural network(CNN)\n",
        "input = layers.Input(shape=(1,),dtype='string')\n",
        "x = text_vectorizers(input)\n",
        "x = embedding(x)\n",
        "x = layers.Conv1D(filters=64,kernel_size=5,activation='relu')(x)\n",
        "x = layers.LSTM(units=128,return_sequences=True)(x)\n",
        "\n",
        "x = layers.MaxPool1D()(x)\n",
        "x = layers.GlobalAveragePooling1D()(x)\n",
        "output = layers.Dense(1,activation='sigmoid')(x)\n",
        "model_05 = tf.keras.Model(input,output)"
      ]
    },
    {
      "cell_type": "code",
      "execution_count": null,
      "metadata": {
        "colab": {
          "base_uri": "https://localhost:8080/"
        },
        "id": "q51y2FCWXOM0",
        "outputId": "5bd19063-fa4f-4f77-aa53-fa8a65806dce"
      },
      "outputs": [
        {
          "name": "stdout",
          "output_type": "stream",
          "text": [
            "Model: \"model_4\"\n",
            "_________________________________________________________________\n",
            " Layer (type)                Output Shape              Param #   \n",
            "=================================================================\n",
            " input_5 (InputLayer)        [(None, 1)]               0         \n",
            "                                                                 \n",
            " text_vectorization_1 (Text  (None, 15)                0         \n",
            " Vectorization)                                                  \n",
            "                                                                 \n",
            " embedding (Embedding)       (None, 15, 128)           1280000   \n",
            "                                                                 \n",
            " conv1d (Conv1D)             (None, 11, 64)            41024     \n",
            "                                                                 \n",
            " lstm_3 (LSTM)               (None, 11, 128)           98816     \n",
            "                                                                 \n",
            " max_pooling1d (MaxPooling1  (None, 5, 128)            0         \n",
            " D)                                                              \n",
            "                                                                 \n",
            " global_average_pooling1d_1  (None, 128)               0         \n",
            "  (GlobalAveragePooling1D)                                       \n",
            "                                                                 \n",
            " dense_6 (Dense)             (None, 1)                 129       \n",
            "                                                                 \n",
            "=================================================================\n",
            "Total params: 1419969 (5.42 MB)\n",
            "Trainable params: 1419969 (5.42 MB)\n",
            "Non-trainable params: 0 (0.00 Byte)\n",
            "_________________________________________________________________\n"
          ]
        }
      ],
      "source": [
        "# Check model summary\n",
        "model_05.summary()"
      ]
    },
    {
      "cell_type": "code",
      "execution_count": null,
      "metadata": {
        "id": "yLIuOz-uYr_M"
      },
      "outputs": [],
      "source": [
        "# Compile the model\n",
        "model_05.compile(loss='binary_crossentropy',\n",
        "                 optimizer='adam',\n",
        "                 metrics='accuracy')"
      ]
    },
    {
      "cell_type": "code",
      "execution_count": null,
      "metadata": {
        "colab": {
          "base_uri": "https://localhost:8080/"
        },
        "id": "KQn7lXecZjY9",
        "outputId": "e756115b-e280-414b-c0f8-75c11a70321b"
      },
      "outputs": [
        {
          "name": "stdout",
          "output_type": "stream",
          "text": [
            "Saving TensorBoard log files to: NLP callback/Con1D model/20230910-153305\n",
            "Epoch 1/5\n",
            "215/215 [==============================] - 19s 54ms/step - loss: 0.1223 - accuracy: 0.9565 - val_loss: 1.0849 - val_accuracy: 0.7651\n",
            "Epoch 2/5\n",
            "215/215 [==============================] - 4s 17ms/step - loss: 0.0605 - accuracy: 0.9756 - val_loss: 1.1160 - val_accuracy: 0.7638\n",
            "Epoch 3/5\n",
            "215/215 [==============================] - 2s 10ms/step - loss: 0.0474 - accuracy: 0.9790 - val_loss: 1.4976 - val_accuracy: 0.7612\n",
            "Epoch 4/5\n",
            "215/215 [==============================] - 2s 11ms/step - loss: 0.0399 - accuracy: 0.9810 - val_loss: 1.5923 - val_accuracy: 0.7612\n",
            "Epoch 5/5\n",
            "215/215 [==============================] - 3s 13ms/step - loss: 0.0352 - accuracy: 0.9841 - val_loss: 1.6094 - val_accuracy: 0.7585\n"
          ]
        },
        {
          "data": {
            "text/plain": [
              "<keras.src.callbacks.History at 0x7f4e27a5a230>"
            ]
          },
          "execution_count": 59,
          "metadata": {},
          "output_type": "execute_result"
        }
      ],
      "source": [
        "# Fit the model\n",
        "model_05.fit(x=train_sentence,\n",
        "             y=train_label,\n",
        "             epochs=5,\n",
        "             validation_data=(val_sentence,val_label),\n",
        "             callbacks=create_tensorboard_callback(dir_name='NLP callback',\n",
        "                                                   experiment_name='Con1D model'))"
      ]
    },
    {
      "cell_type": "code",
      "execution_count": null,
      "metadata": {
        "colab": {
          "base_uri": "https://localhost:8080/"
        },
        "id": "X3mTk-CSaKjb",
        "outputId": "50f9a1bc-41bf-4eeb-e0fe-1daf41c780d3"
      },
      "outputs": [
        {
          "name": "stdout",
          "output_type": "stream",
          "text": [
            "24/24 [==============================] - 0s 3ms/step\n"
          ]
        },
        {
          "data": {
            "text/plain": [
              "<tf.Tensor: shape=(762,), dtype=float32, numpy=\n",
              "array([0., 1., 1., 0., 0., 1., 1., 1., 1., 1., 0., 1., 0., 0., 0., 0., 0.,\n",
              "       0., 0., 1., 0., 0., 1., 0., 1., 1., 0., 0., 0., 1., 1., 0., 0., 0.,\n",
              "       1., 1., 1., 0., 0., 1., 1., 0., 0., 0., 0., 1., 1., 1., 0., 1., 0.,\n",
              "       0., 0., 0., 1., 0., 0., 1., 0., 0., 0., 1., 1., 0., 1., 1., 1., 0.,\n",
              "       1., 0., 0., 0., 1., 0., 1., 1., 0., 1., 0., 0., 0., 0., 1., 0., 0.,\n",
              "       0., 0., 0., 0., 1., 1., 0., 1., 0., 1., 1., 1., 1., 1., 0., 1., 0.,\n",
              "       0., 1., 1., 0., 0., 1., 0., 1., 1., 0., 0., 0., 0., 0., 1., 1., 0.,\n",
              "       0., 1., 0., 0., 1., 1., 0., 1., 0., 0., 1., 0., 1., 1., 1., 1., 0.,\n",
              "       1., 0., 0., 0., 1., 1., 0., 1., 0., 0., 0., 0., 0., 1., 0., 0., 0.,\n",
              "       0., 0., 1., 1., 0., 1., 0., 1., 0., 0., 1., 0., 0., 1., 0., 1., 1.,\n",
              "       1., 1., 1., 0., 1., 0., 0., 0., 1., 1., 0., 1., 1., 1., 1., 0., 0.,\n",
              "       1., 0., 0., 0., 1., 0., 0., 0., 0., 0., 0., 1., 0., 1., 1., 1., 1.,\n",
              "       0., 1., 1., 1., 1., 1., 0., 1., 0., 0., 0., 0., 1., 1., 1., 1., 1.,\n",
              "       0., 0., 0., 1., 0., 0., 1., 1., 1., 0., 0., 1., 0., 0., 0., 0., 0.,\n",
              "       0., 0., 1., 0., 1., 1., 0., 0., 1., 0., 0., 1., 0., 1., 0., 0., 1.,\n",
              "       0., 1., 1., 0., 0., 0., 0., 0., 1., 1., 0., 1., 0., 0., 0., 0., 0.,\n",
              "       1., 0., 0., 1., 0., 0., 1., 0., 0., 0., 1., 1., 1., 0., 1., 0., 1.,\n",
              "       0., 1., 1., 1., 0., 0., 1., 0., 0., 0., 1., 0., 0., 1., 1., 0., 0.,\n",
              "       0., 1., 0., 0., 0., 1., 0., 0., 1., 0., 1., 0., 0., 0., 0., 0., 1.,\n",
              "       0., 1., 0., 0., 1., 0., 1., 0., 0., 1., 0., 0., 1., 0., 0., 0., 1.,\n",
              "       0., 0., 1., 1., 1., 0., 1., 1., 0., 0., 0., 0., 0., 0., 0., 0., 1.,\n",
              "       1., 1., 0., 0., 0., 0., 1., 0., 0., 0., 0., 1., 0., 0., 0., 0., 0.,\n",
              "       1., 0., 0., 0., 0., 1., 1., 1., 1., 0., 1., 1., 1., 0., 1., 0., 1.,\n",
              "       1., 0., 1., 0., 1., 0., 0., 0., 0., 1., 0., 0., 1., 0., 1., 0., 0.,\n",
              "       0., 1., 1., 0., 0., 1., 1., 1., 0., 0., 0., 0., 1., 1., 1., 1., 0.,\n",
              "       1., 0., 1., 0., 1., 0., 0., 0., 0., 0., 0., 1., 0., 1., 1., 0., 1.,\n",
              "       0., 0., 0., 1., 0., 0., 0., 0., 0., 1., 1., 1., 1., 1., 0., 0., 1.,\n",
              "       1., 1., 0., 0., 0., 1., 1., 0., 0., 1., 0., 0., 1., 0., 0., 1., 0.,\n",
              "       1., 1., 0., 0., 0., 0., 0., 1., 0., 1., 1., 0., 1., 0., 0., 1., 1.,\n",
              "       0., 0., 0., 0., 1., 0., 1., 1., 1., 1., 0., 0., 0., 0., 1., 0., 0.,\n",
              "       1., 0., 0., 0., 0., 0., 1., 1., 1., 1., 0., 0., 1., 0., 0., 0., 1.,\n",
              "       0., 1., 1., 1., 1., 0., 0., 1., 0., 0., 1., 1., 1., 0., 0., 1., 0.,\n",
              "       0., 0., 0., 1., 1., 0., 1., 1., 0., 1., 0., 1., 0., 0., 0., 0., 0.,\n",
              "       0., 0., 0., 1., 0., 1., 1., 0., 0., 1., 0., 1., 0., 0., 1., 0., 0.,\n",
              "       1., 0., 0., 0., 1., 0., 0., 1., 0., 0., 0., 0., 0., 0., 0., 0., 0.,\n",
              "       0., 0., 1., 1., 0., 0., 0., 1., 1., 1., 0., 1., 0., 1., 1., 0., 1.,\n",
              "       0., 1., 1., 0., 0., 1., 0., 0., 1., 0., 1., 1., 1., 1., 0., 0., 1.,\n",
              "       0., 0., 1., 1., 1., 1., 1., 1., 0., 1., 1., 1., 0., 1., 1., 0., 0.,\n",
              "       0., 0., 1., 1., 1., 0., 0., 0., 1., 0., 0., 0., 0., 0., 0., 1., 1.,\n",
              "       0., 1., 0., 0., 0., 1., 1., 0., 0., 1., 0., 1., 0., 1., 1., 0., 1.,\n",
              "       1., 0., 1., 1., 1., 1., 0., 0., 0., 0., 0., 1., 0., 0., 1., 0., 1.,\n",
              "       0., 1., 0., 0., 0., 1., 0., 0., 0., 0., 0., 0., 0., 0., 0., 0., 0.,\n",
              "       0., 0., 0., 0., 1., 0., 1., 0., 1., 1., 0., 0., 0., 0., 1., 0., 0.,\n",
              "       1., 1., 1., 1., 1., 0., 0., 0., 1., 1., 0., 0., 1., 1., 0., 0., 0.,\n",
              "       0., 0., 0., 1., 1., 0., 1., 1., 0., 0., 0., 1., 0., 0.],\n",
              "      dtype=float32)>"
            ]
          },
          "execution_count": 60,
          "metadata": {},
          "output_type": "execute_result"
        }
      ],
      "source": [
        "# model_5 predictions\n",
        "CONV_pred = model_05.predict(val_sentence)\n",
        "CONV_pred = tf.round(tf.squeeze(CONV_pred))\n",
        "CONV_pred"
      ]
    },
    {
      "cell_type": "code",
      "execution_count": null,
      "metadata": {
        "colab": {
          "base_uri": "https://localhost:8080/",
          "height": 818
        },
        "id": "lM3T8p_RdETI",
        "outputId": "935868c0-d073-4aaf-ade7-37df8b1106f7"
      },
      "outputs": [
        {
          "name": "stdout",
          "output_type": "stream",
          "text": [
            "\n",
            "recall score:69.25%\n",
            "\n",
            "\n",
            "precision_score:75.79%\n",
            "\n",
            "\n",
            "f1_score:72.37%\n",
            "\n",
            "\n",
            "the confusion matrix:\n",
            "\n",
            "[[386  28]\n",
            " [130 218]]\n",
            "\n",
            "\n",
            "accuracy score:75.85%\n",
            "\n",
            "\n",
            "more beautiful matrix:Axes(0.125,0.11;0.62x0.77)\n",
            "\n"
          ]
        },
        {
          "data": {
            "image/png": "[encoded data removed]",
            "text/plain": [
              "<Figure size 640x480 with 2 Axes>"
            ]
          },
          "metadata": {},
          "output_type": "display_data"
        }
      ],
      "source": [
        "text_metrics(val_label,CONV_pred)"
      ]
    },
    {
      "cell_type": "code",
      "execution_count": null,
      "metadata": {
        "id": "_fegva64dPC7"
      },
      "outputs": [],
      "source": [
        "# Building model 6 leaveraging on transfer learning from tensorflow\n",
        "import tensorflow_hub as hub\n",
        "sentence_encoder = hub.KerasLayer('https://tfhub.dev/google/universal-sentence-encoder/4',\n",
        "                                  trainable=False,\n",
        "                                  input_shape=[],\n",
        "                                  dtype='string',\n",
        "                                  name='USE_hub')\n",
        "\n"
      ]
    },
    {
      "cell_type": "code",
      "execution_count": null,
      "metadata": {
        "id": "1mSOeVzambd8"
      },
      "outputs": [],
      "source": [
        "model_6 = tf.keras.Sequential([\n",
        "                               sentence_encoder,\n",
        "                              layers.Dense(128,activation='relu'),\n",
        "                               layers.Dense(64,activation='tanh'),\n",
        "                               layers.Dense(1,activation='sigmoid')\n",
        "])"
      ]
    },
    {
      "cell_type": "code",
      "execution_count": null,
      "metadata": {
        "colab": {
          "base_uri": "https://localhost:8080/"
        },
        "id": "OHTVTaoprWpP",
        "outputId": "1176a7e7-4043-4e96-a90d-686935efd3c7"
      },
      "outputs": [
        {
          "name": "stdout",
          "output_type": "stream",
          "text": [
            "Model: \"sequential\"\n",
            "_________________________________________________________________\n",
            " Layer (type)                Output Shape              Param #   \n",
            "=================================================================\n",
            " USE_hub (KerasLayer)        (None, 512)               256797824 \n",
            "                                                                 \n",
            " dense_7 (Dense)             (None, 128)               65664     \n",
            "                                                                 \n",
            " dense_8 (Dense)             (None, 64)                8256      \n",
            "                                                                 \n",
            " dense_9 (Dense)             (None, 1)                 65        \n",
            "                                                                 \n",
            "=================================================================\n",
            "Total params: 256871809 (979.89 MB)\n",
            "Trainable params: 73985 (289.00 KB)\n",
            "Non-trainable params: 256797824 (979.61 MB)\n",
            "_________________________________________________________________\n"
          ]
        }
      ],
      "source": [
        "# model 6 summary\n",
        "model_6.summary()"
      ]
    },
    {
      "cell_type": "code",
      "execution_count": null,
      "metadata": {
        "id": "Jmw2qS6UrcQ7"
      },
      "outputs": [],
      "source": [
        "# Copiling the model\n",
        "model_6.compile(loss='binary_crossentropy',\n",
        "                optimizer='adam',\n",
        "                metrics='accuracy')"
      ]
    },
    {
      "cell_type": "code",
      "execution_count": null,
      "metadata": {
        "colab": {
          "base_uri": "https://localhost:8080/"
        },
        "id": "bWiFoe_ZrvVN",
        "outputId": "4086b949-7ba5-4795-ab1f-bb9cdb47fb70"
      },
      "outputs": [
        {
          "name": "stdout",
          "output_type": "stream",
          "text": [
            "Saving TensorBoard log files to: NLP callback/USE model from tensorflow hub/20230910-153354\n",
            "Epoch 1/5\n",
            "215/215 [==============================] - 9s 15ms/step - loss: 0.4617 - accuracy: 0.7885 - val_loss: 0.4444 - val_accuracy: 0.8071\n",
            "Epoch 2/5\n",
            "215/215 [==============================] - 3s 13ms/step - loss: 0.3919 - accuracy: 0.8266 - val_loss: 0.4329 - val_accuracy: 0.8150\n",
            "Epoch 3/5\n",
            "215/215 [==============================] - 3s 13ms/step - loss: 0.3589 - accuracy: 0.8416 - val_loss: 0.4353 - val_accuracy: 0.8163\n",
            "Epoch 4/5\n",
            "215/215 [==============================] - 4s 18ms/step - loss: 0.3162 - accuracy: 0.8666 - val_loss: 0.4445 - val_accuracy: 0.8150\n",
            "Epoch 5/5\n",
            "215/215 [==============================] - 3s 12ms/step - loss: 0.2667 - accuracy: 0.8908 - val_loss: 0.4916 - val_accuracy: 0.8215\n"
          ]
        },
        {
          "data": {
            "text/plain": [
              "<keras.src.callbacks.History at 0x7f4e0eed5ab0>"
            ]
          },
          "execution_count": 66,
          "metadata": {},
          "output_type": "execute_result"
        }
      ],
      "source": [
        "# Fit the model\n",
        "model_6.fit(x=train_sentence,\n",
        "            y=train_label,\n",
        "            validation_data=(val_sentence,val_label),\n",
        "            epochs=5,\n",
        "            callbacks=create_tensorboard_callback(dir_name='NLP callback',\n",
        "                                                  experiment_name='USE model from tensorflow hub'))"
      ]
    },
    {
      "cell_type": "code",
      "execution_count": null,
      "metadata": {
        "colab": {
          "base_uri": "https://localhost:8080/"
        },
        "id": "KXbv7LNFw_X-",
        "outputId": "dcece154-be30-4209-9b42-c02665b04848"
      },
      "outputs": [
        {
          "name": "stdout",
          "output_type": "stream",
          "text": [
            "24/24 [==============================] - 1s 10ms/step\n"
          ]
        },
        {
          "data": {
            "text/plain": [
              "<tf.Tensor: shape=(762,), dtype=float32, numpy=\n",
              "array([1.51476160e-01, 2.70073801e-01, 9.99697447e-01, 6.48910701e-02,\n",
              "       3.38535517e-01, 7.98551083e-01, 9.97786999e-01, 9.97411907e-01,\n",
              "       9.82543528e-01, 1.41769703e-02, 4.13508803e-01, 2.01740265e-01,\n",
              "       8.64442810e-02, 1.61223829e-01, 1.06097639e-01, 1.28937121e-02,\n",
              "       4.10960346e-01, 1.30555242e-01, 8.87939781e-02, 3.16466957e-01,\n",
              "       9.96557355e-01, 5.54738104e-01, 2.02526644e-01, 3.03774700e-03,\n",
              "       9.59612131e-01, 9.99915361e-01, 1.09367603e-02, 6.22474812e-02,\n",
              "       1.31300017e-01, 1.74773827e-01, 3.56168300e-01, 9.17541921e-01,\n",
              "       2.08835259e-01, 1.66630149e-01, 7.54832685e-01, 2.87290573e-01,\n",
              "       9.98492360e-01, 2.09121704e-02, 1.87221682e-03, 9.99511123e-01,\n",
              "       2.15330478e-02, 5.42386353e-01, 6.40632749e-01, 1.35127246e-01,\n",
              "       1.91752687e-01, 9.88780618e-01, 7.86743835e-02, 9.66120422e-01,\n",
              "       4.62383002e-01, 7.54736483e-01, 4.91009727e-02, 6.45881712e-01,\n",
              "       1.72329515e-01, 2.77178232e-02, 7.89824948e-02, 1.77349206e-02,\n",
              "       4.33500372e-02, 9.75579500e-01, 1.35972202e-01, 9.74268559e-03,\n",
              "       1.52328266e-02, 9.92103696e-01, 9.77387965e-01, 1.59445003e-01,\n",
              "       9.55715239e-01, 9.46789742e-01, 5.64522564e-01, 2.32471973e-01,\n",
              "       1.60283279e-02, 8.89121771e-01, 1.26543730e-01, 1.61962718e-01,\n",
              "       6.02635145e-01, 6.50496641e-03, 2.02531684e-02, 2.08935365e-01,\n",
              "       1.77346930e-01, 1.18385322e-01, 6.61348179e-03, 1.41392201e-01,\n",
              "       3.00123215e-01, 1.89582646e-01, 9.56305563e-01, 4.05564420e-02,\n",
              "       7.20359147e-01, 2.63714492e-01, 4.55244482e-02, 1.47933900e-01,\n",
              "       9.86247480e-01, 9.87800121e-01, 9.99690890e-01, 1.86776537e-02,\n",
              "       2.05856830e-01, 1.00482507e-02, 9.86150205e-01, 2.34877333e-01,\n",
              "       9.65588808e-01, 9.79605615e-01, 9.95510817e-01, 9.82599258e-01,\n",
              "       9.93371844e-01, 3.81779820e-01, 3.28571647e-01, 9.98714566e-01,\n",
              "       9.98013020e-01, 6.22928701e-03, 7.43570745e-01, 9.57225800e-01,\n",
              "       1.13106109e-01, 9.98384595e-01, 2.87349056e-02, 2.01457217e-02,\n",
              "       3.11253488e-01, 1.59775510e-01, 2.74620559e-02, 9.45882127e-02,\n",
              "       5.43495953e-01, 2.07651511e-01, 4.94986832e-01, 5.82708716e-01,\n",
              "       9.89863276e-01, 3.22738171e-01, 4.22692388e-01, 6.31832123e-01,\n",
              "       8.71974349e-01, 1.87364325e-01, 2.61666745e-01, 1.17811570e-02,\n",
              "       1.16698220e-01, 2.41922989e-01, 1.41401049e-02, 9.92666543e-01,\n",
              "       9.89421904e-01, 9.99897361e-01, 7.12469220e-01, 2.19938949e-01,\n",
              "       9.48274493e-01, 1.48130000e-01, 2.18245640e-01, 1.30265698e-01,\n",
              "       9.94111955e-01, 3.00981104e-02, 1.38228521e-01, 5.75821280e-01,\n",
              "       5.04541576e-01, 1.54153943e-01, 1.81728043e-02, 4.01247330e-02,\n",
              "       1.93547368e-01, 9.93925750e-01, 1.06922455e-01, 2.80200094e-02,\n",
              "       3.61464620e-01, 4.69818749e-02, 6.93549097e-01, 3.93298328e-01,\n",
              "       7.82289028e-01, 5.33522740e-02, 9.90808427e-01, 3.18519734e-02,\n",
              "       9.83190656e-01, 2.17129335e-01, 1.61483750e-01, 9.70846534e-01,\n",
              "       2.74376534e-02, 1.39539065e-02, 9.99821961e-01, 2.68137548e-02,\n",
              "       8.49869668e-01, 4.54161800e-02, 9.99139428e-01, 1.60183590e-02,\n",
              "       9.88224745e-01, 1.97932571e-02, 9.90210772e-01, 1.63204577e-02,\n",
              "       9.89444196e-01, 6.01381779e-01, 4.53292936e-01, 9.99678254e-01,\n",
              "       1.30853392e-02, 2.26971373e-01, 4.34536994e-01, 9.67318594e-01,\n",
              "       9.31277752e-01, 5.25428914e-02, 1.41709089e-01, 9.87908185e-01,\n",
              "       5.12712151e-02, 1.02013245e-01, 1.95048928e-01, 9.89131689e-01,\n",
              "       3.23336050e-02, 9.48947519e-02, 1.17158554e-02, 5.89960180e-02,\n",
              "       1.18692167e-01, 1.20702805e-02, 1.09291337e-02, 6.15484407e-03,\n",
              "       1.68000087e-02, 9.02850509e-01, 8.92323494e-01, 1.04576185e-01,\n",
              "       4.02436517e-02, 9.99677658e-01, 2.78554745e-02, 6.07514679e-01,\n",
              "       9.88601387e-01, 8.66602302e-01, 2.27308031e-02, 9.95587111e-01,\n",
              "       9.49274823e-02, 2.74641886e-02, 2.36407071e-02, 1.38381617e-02,\n",
              "       9.86328185e-01, 8.75978649e-01, 6.05603337e-01, 1.04005493e-01,\n",
              "       3.09789449e-01, 4.41953167e-03, 1.68876231e-01, 2.54391313e-01,\n",
              "       9.96569037e-01, 2.12260500e-01, 5.94056845e-01, 9.83676136e-01,\n",
              "       3.64779234e-01, 8.93730745e-02, 2.06083596e-01, 1.21843174e-01,\n",
              "       9.55001831e-01, 2.17344239e-02, 9.52132642e-02, 3.08325589e-01,\n",
              "       1.72152445e-01, 9.08532023e-01, 9.99652505e-01, 9.14552342e-03,\n",
              "       3.60339344e-01, 4.21773851e-01, 9.99810636e-01, 9.88752186e-01,\n",
              "       4.08545807e-02, 1.86759681e-02, 9.37988639e-01, 1.21603690e-01,\n",
              "       5.00366613e-02, 9.10457850e-01, 1.16698146e-01, 8.27463567e-01,\n",
              "       1.03699090e-02, 4.23411876e-01, 8.85359168e-01, 2.07745194e-01,\n",
              "       9.27351892e-01, 9.99819815e-01, 6.47203743e-01, 1.76409349e-01,\n",
              "       9.96879935e-01, 4.96888533e-02, 6.71034753e-02, 9.97896552e-01,\n",
              "       9.51990485e-01, 9.50800240e-01, 9.92041647e-01, 1.84946805e-02,\n",
              "       1.82390157e-02, 1.81702860e-02, 9.32836533e-03, 1.77504078e-01,\n",
              "       9.74186599e-01, 3.81406099e-02, 3.61305386e-01, 9.46625412e-01,\n",
              "       1.40788332e-01, 1.39592215e-01, 9.98461366e-01, 5.34710288e-02,\n",
              "       8.08046833e-02, 2.94544939e-02, 9.93428648e-01, 3.35929632e-01,\n",
              "       2.04298228e-01, 4.32089359e-01, 9.65443671e-01, 8.04774836e-02,\n",
              "       9.72927690e-01, 2.18245406e-02, 8.27423811e-01, 6.83429420e-01,\n",
              "       3.06493342e-01, 3.98441613e-01, 4.82219346e-02, 6.37084544e-01,\n",
              "       3.90482396e-02, 9.83723283e-01, 1.05636626e-01, 6.97123051e-01,\n",
              "       8.99018347e-02, 6.55485466e-02, 7.47263385e-03, 8.97142470e-01,\n",
              "       4.96602654e-02, 4.40059789e-02, 2.06530988e-01, 3.48158181e-01,\n",
              "       8.01337324e-03, 7.68418144e-03, 1.86611980e-01, 9.96961534e-01,\n",
              "       5.29390275e-01, 3.76812875e-01, 9.99557078e-01, 6.38889894e-02,\n",
              "       8.91179264e-01, 1.57828018e-01, 1.37441698e-02, 4.45220880e-02,\n",
              "       2.27987036e-01, 2.97251344e-02, 9.97599781e-01, 3.92959639e-02,\n",
              "       9.13398087e-01, 1.72349572e-01, 1.30166233e-01, 9.73683238e-01,\n",
              "       9.42151099e-02, 9.53312218e-01, 8.79555821e-01, 4.93490212e-02,\n",
              "       7.49335170e-01, 1.90961976e-02, 2.33336046e-01, 4.28907663e-01,\n",
              "       1.65510345e-02, 6.21010363e-02, 5.97455382e-01, 9.25688505e-01,\n",
              "       2.52876710e-02, 1.92429036e-01, 9.77348685e-01, 9.65226531e-01,\n",
              "       5.75653195e-01, 3.71074006e-02, 2.53744245e-01, 2.17633024e-02,\n",
              "       1.53614674e-02, 2.70079612e-03, 4.67265733e-02, 3.88909101e-01,\n",
              "       9.41215828e-02, 3.19231930e-03, 4.47682559e-01, 2.08286177e-02,\n",
              "       9.98428345e-01, 9.99863863e-01, 9.53151345e-01, 9.28528845e-01,\n",
              "       4.24136758e-01, 9.63420328e-03, 9.93453145e-01, 7.87548423e-01,\n",
              "       5.25321625e-02, 1.45990729e-01, 8.02215189e-02, 3.38066638e-01,\n",
              "       1.21438578e-01, 1.74820889e-02, 7.68842638e-01, 5.45533560e-03,\n",
              "       1.29975766e-01, 1.97741330e-01, 9.09324288e-02, 5.77505864e-03,\n",
              "       3.23103517e-01, 2.73259310e-03, 1.46883326e-02, 7.59294271e-01,\n",
              "       9.79064822e-01, 9.37608719e-01, 3.31292659e-01, 2.07300335e-02,\n",
              "       5.50847650e-01, 9.81568635e-01, 5.70200443e-01, 5.14223218e-01,\n",
              "       9.98329341e-01, 8.93839970e-02, 5.33273816e-01, 4.88221049e-01,\n",
              "       6.61705956e-02, 9.43106949e-01, 6.44677997e-01, 9.99954820e-01,\n",
              "       1.80433393e-01, 6.96293265e-02, 3.84582346e-03, 5.30983396e-02,\n",
              "       9.91128206e-01, 5.33362404e-02, 1.27935961e-01, 9.83622611e-01,\n",
              "       2.25433856e-02, 9.93761957e-01, 6.77636545e-03, 5.61330497e-01,\n",
              "       2.15658788e-02, 1.08203985e-01, 7.95563877e-01, 2.55457647e-02,\n",
              "       1.24702066e-01, 5.28346598e-01, 9.94878411e-01, 6.05590284e-01,\n",
              "       4.71988432e-02, 9.98050690e-01, 2.09027812e-01, 2.84875184e-02,\n",
              "       9.97197151e-01, 8.23429942e-01, 9.75345135e-01, 6.83921516e-01,\n",
              "       3.27478983e-02, 4.23109800e-01, 2.07596794e-01, 8.90098631e-01,\n",
              "       7.24849105e-01, 9.08646107e-01, 1.70051530e-02, 2.06553712e-02,\n",
              "       1.45404398e-01, 1.63447455e-01, 1.39457792e-01, 1.13797933e-01,\n",
              "       5.04404128e-01, 1.28627405e-01, 9.98515904e-01, 8.76516223e-01,\n",
              "       3.82125616e-01, 2.09276676e-01, 2.80531943e-01, 4.70564933e-03,\n",
              "       1.84236154e-01, 1.52948424e-01, 8.10201373e-03, 5.10015432e-03,\n",
              "       1.43366791e-02, 5.78156173e-01, 1.38657996e-02, 9.73537803e-01,\n",
              "       9.66466904e-01, 9.71579552e-01, 9.94086504e-01, 9.98887241e-01,\n",
              "       2.29462497e-02, 2.20641885e-02, 4.24682617e-01, 8.78359973e-01,\n",
              "       9.96653497e-01, 7.23684579e-02, 9.74088907e-02, 5.68410717e-02,\n",
              "       9.99774039e-01, 9.88811493e-01, 1.55348539e-01, 2.07411721e-01,\n",
              "       9.93327260e-01, 3.39521142e-03, 1.11035116e-01, 9.10039246e-01,\n",
              "       2.07551762e-01, 3.35581601e-02, 8.72040570e-01, 6.10438168e-01,\n",
              "       9.35688674e-01, 9.99248087e-01, 9.19538215e-02, 5.12297787e-02,\n",
              "       7.25981072e-02, 3.36515605e-02, 1.86170086e-01, 9.21934664e-01,\n",
              "       2.09030863e-02, 8.44611168e-01, 3.79716530e-02, 5.32763414e-02,\n",
              "       1.05680250e-01, 3.41785550e-02, 1.80604219e-01, 9.49511230e-01,\n",
              "       2.44930778e-02, 1.18055761e-01, 3.87460515e-02, 9.02469680e-02,\n",
              "       7.17503428e-01, 3.38120133e-01, 4.28695194e-02, 9.75409091e-01,\n",
              "       9.62002933e-01, 1.91289391e-02, 4.98288780e-01, 9.61224258e-01,\n",
              "       2.82299444e-02, 8.40907097e-02, 2.46735159e-02, 8.75389397e-01,\n",
              "       2.75486737e-01, 4.25389335e-02, 1.79028407e-01, 3.53230797e-02,\n",
              "       9.68527570e-02, 6.18374705e-01, 9.87674713e-01, 2.50978824e-02,\n",
              "       9.98464346e-01, 8.30688477e-01, 1.37177482e-01, 9.99320626e-01,\n",
              "       3.06027293e-01, 3.14059734e-01, 7.92795122e-01, 9.95004952e-01,\n",
              "       6.43742383e-02, 1.35129467e-01, 3.06507289e-01, 4.76770811e-02,\n",
              "       2.70264834e-01, 9.80279565e-01, 9.51500356e-01, 9.94612455e-01,\n",
              "       9.67961401e-02, 1.99255813e-03, 8.90878022e-01, 8.24306067e-03,\n",
              "       1.10473102e-02, 1.34582788e-01, 1.14242822e-01, 1.51882544e-01,\n",
              "       3.52174014e-01, 4.72659394e-02, 2.53867596e-01, 2.50648540e-02,\n",
              "       2.03808416e-02, 7.00371712e-02, 1.15276121e-01, 9.93197083e-01,\n",
              "       9.71765816e-01, 6.12218380e-01, 9.77179587e-01, 9.83433604e-01,\n",
              "       2.10339390e-03, 6.33498490e-01, 1.08132102e-02, 9.98650253e-01,\n",
              "       7.61272945e-03, 3.68368402e-02, 1.58428345e-02, 1.24196969e-02,\n",
              "       2.35216364e-01, 3.67499478e-02, 9.96470809e-01, 7.62351394e-01,\n",
              "       9.54631627e-01, 1.97959621e-03, 7.28055537e-01, 6.51600480e-01,\n",
              "       6.89580217e-02, 1.16815634e-01, 9.44173753e-01, 6.86952710e-01,\n",
              "       9.98733222e-01, 7.83537105e-02, 1.58853292e-01, 5.96005678e-01,\n",
              "       3.18632983e-02, 2.11970270e-01, 9.78682280e-01, 8.23314209e-03,\n",
              "       1.85945760e-02, 3.62168178e-02, 9.86370206e-01, 1.55702367e-01,\n",
              "       8.06002617e-02, 9.91765559e-01, 6.34381035e-03, 1.11331880e-01,\n",
              "       6.91632748e-01, 6.08194526e-03, 3.95825803e-02, 3.56417596e-01,\n",
              "       8.10978234e-01, 3.69695888e-04, 1.02848306e-01, 9.50973094e-01,\n",
              "       6.91987202e-02, 9.89827514e-01, 9.96611655e-01, 7.24403700e-03,\n",
              "       5.45693263e-02, 2.00482854e-03, 9.03592467e-01, 7.15628922e-01,\n",
              "       9.94122207e-01, 2.98861694e-02, 5.82946986e-02, 2.95708887e-02,\n",
              "       6.23178966e-02, 9.51089025e-01, 1.08265609e-01, 9.80531514e-01,\n",
              "       1.33731529e-01, 3.33189368e-01, 9.96887743e-01, 4.11158413e-01,\n",
              "       2.40367334e-02, 5.40093243e-01, 7.90787209e-03, 3.99447113e-01,\n",
              "       9.99591529e-01, 2.86432594e-01, 9.98949707e-01, 2.76512623e-01,\n",
              "       8.89205575e-01, 1.54042291e-02, 1.65644601e-01, 5.78076318e-02,\n",
              "       9.80340481e-01, 2.12622304e-02, 2.20823828e-02, 9.95074809e-01,\n",
              "       8.27006102e-01, 9.43026781e-01, 9.06439364e-01, 2.98786554e-02,\n",
              "       6.66708410e-01, 6.04039952e-02, 5.26831210e-01, 2.30133161e-01,\n",
              "       9.77145314e-01, 5.07270098e-01, 2.63038278e-01, 2.22050697e-02,\n",
              "       2.54246574e-02, 5.28405488e-01, 2.01846585e-02, 2.57869177e-02,\n",
              "       7.40538478e-01, 9.88669455e-01, 9.99686480e-01, 9.46519971e-02,\n",
              "       1.05731478e-02, 7.74824321e-02, 4.47219610e-02, 2.20346704e-01,\n",
              "       1.64291486e-02, 8.57198477e-01, 1.04374222e-01, 5.45896173e-01,\n",
              "       1.32677183e-01, 1.08494081e-01, 9.02138829e-01, 5.73620312e-02,\n",
              "       1.28159359e-01, 1.67299315e-01, 5.76849356e-02, 1.27257526e-01,\n",
              "       9.97042239e-01, 7.33526170e-01, 8.54964368e-03, 2.11815327e-01,\n",
              "       2.28492096e-02, 6.05213316e-03, 9.87342715e-01, 3.48742418e-02,\n",
              "       7.94939816e-01, 4.91148025e-01, 9.07057896e-02, 5.51821649e-01,\n",
              "       2.61216223e-01, 7.63635784e-02, 4.80863117e-02, 9.57638085e-01,\n",
              "       8.22331384e-02, 9.69763994e-01, 1.11393124e-01, 8.34477693e-02,\n",
              "       4.76771221e-02, 1.00188479e-02, 9.01879907e-01, 9.94979322e-01,\n",
              "       6.78120077e-01, 2.81953663e-02, 9.96622324e-01, 3.00119281e-01,\n",
              "       9.04110968e-01, 1.59552872e-01, 8.42548788e-01, 5.44680730e-02,\n",
              "       2.26317391e-01, 6.91593140e-02, 7.14094639e-01, 4.64032851e-02,\n",
              "       7.49655604e-01, 1.63982943e-01, 1.50949508e-01, 2.12848023e-01,\n",
              "       8.44998509e-02, 9.09739584e-02, 1.42264187e-01, 9.09016803e-02,\n",
              "       2.07097977e-01, 1.56202365e-03, 6.40487671e-02, 9.46243778e-02,\n",
              "       3.97834070e-02, 5.18303318e-03, 5.90750456e-01, 7.09987944e-03,\n",
              "       2.07029432e-01, 1.36925459e-01, 3.39328408e-01, 9.65426028e-01,\n",
              "       2.44743880e-02, 1.84269056e-01, 2.11971011e-02, 1.11024633e-01,\n",
              "       9.71708059e-01, 4.50856686e-02, 5.91455661e-02, 8.46249938e-01,\n",
              "       9.50834036e-01, 9.37069654e-01, 9.99674320e-01, 9.94632959e-01,\n",
              "       2.71933615e-01, 1.08610921e-01, 8.56097713e-02, 7.42449462e-01,\n",
              "       9.76212859e-01, 8.84669423e-01, 2.53997743e-01, 1.43379706e-03,\n",
              "       3.23232234e-01, 1.64014727e-01, 8.97765253e-03, 7.22402185e-02,\n",
              "       1.12953469e-01, 1.01355828e-01, 1.77521054e-02, 1.60406739e-01,\n",
              "       9.53150272e-01, 1.84141453e-02, 9.93691921e-01, 9.71744776e-01,\n",
              "       3.54058236e-01, 1.85141433e-02, 6.29242286e-02, 2.87301272e-01,\n",
              "       6.75328970e-01, 3.96150872e-02], dtype=float32)>"
            ]
          },
          "execution_count": 67,
          "metadata": {},
          "output_type": "execute_result"
        }
      ],
      "source": [
        "pred_prob = model_6.predict(val_sentence)\n",
        "pred_prob = tf.squeeze(pred_prob)\n",
        "pred_prob"
      ]
    },
    {
      "cell_type": "code",
      "execution_count": null,
      "metadata": {
        "colab": {
          "base_uri": "https://localhost:8080/"
        },
        "id": "PMtOx_bXsY5o",
        "outputId": "1ddb289a-f62c-40e1-9c48-a438280b27b1"
      },
      "outputs": [
        {
          "name": "stdout",
          "output_type": "stream",
          "text": [
            "24/24 [==============================] - 0s 9ms/step\n"
          ]
        },
        {
          "data": {
            "text/plain": [
              "<tf.Tensor: shape=(762,), dtype=float32, numpy=\n",
              "array([0., 0., 1., 0., 0., 1., 1., 1., 1., 0., 0., 0., 0., 0., 0., 0., 0.,\n",
              "       0., 0., 0., 1., 1., 0., 0., 1., 1., 0., 0., 0., 0., 0., 1., 0., 0.,\n",
              "       1., 0., 1., 0., 0., 1., 0., 1., 1., 0., 0., 1., 0., 1., 0., 1., 0.,\n",
              "       1., 0., 0., 0., 0., 0., 1., 0., 0., 0., 1., 1., 0., 1., 1., 1., 0.,\n",
              "       0., 1., 0., 0., 1., 0., 0., 0., 0., 0., 0., 0., 0., 0., 1., 0., 1.,\n",
              "       0., 0., 0., 1., 1., 1., 0., 0., 0., 1., 0., 1., 1., 1., 1., 1., 0.,\n",
              "       0., 1., 1., 0., 1., 1., 0., 1., 0., 0., 0., 0., 0., 0., 1., 0., 0.,\n",
              "       1., 1., 0., 0., 1., 1., 0., 0., 0., 0., 0., 0., 1., 1., 1., 1., 0.,\n",
              "       1., 0., 0., 0., 1., 0., 0., 1., 1., 0., 0., 0., 0., 1., 0., 0., 0.,\n",
              "       0., 1., 0., 1., 0., 1., 0., 1., 0., 0., 1., 0., 0., 1., 0., 1., 0.,\n",
              "       1., 0., 1., 0., 1., 0., 1., 1., 0., 1., 0., 0., 0., 1., 1., 0., 0.,\n",
              "       1., 0., 0., 0., 1., 0., 0., 0., 0., 0., 0., 0., 0., 0., 1., 1., 0.,\n",
              "       0., 1., 0., 1., 1., 1., 0., 1., 0., 0., 0., 0., 1., 1., 1., 0., 0.,\n",
              "       0., 0., 0., 1., 0., 1., 1., 0., 0., 0., 0., 1., 0., 0., 0., 0., 1.,\n",
              "       1., 0., 0., 0., 1., 1., 0., 0., 1., 0., 0., 1., 0., 1., 0., 0., 1.,\n",
              "       0., 1., 1., 1., 0., 1., 0., 0., 1., 1., 1., 1., 0., 0., 0., 0., 0.,\n",
              "       1., 0., 0., 1., 0., 0., 1., 0., 0., 0., 1., 0., 0., 0., 1., 0., 1.,\n",
              "       0., 1., 1., 0., 0., 0., 1., 0., 1., 0., 1., 0., 0., 0., 1., 0., 0.,\n",
              "       0., 0., 0., 0., 0., 1., 1., 0., 1., 0., 1., 0., 0., 0., 0., 0., 1.,\n",
              "       0., 1., 0., 0., 1., 0., 1., 1., 0., 1., 0., 0., 0., 0., 0., 1., 1.,\n",
              "       0., 0., 1., 1., 1., 0., 0., 0., 0., 0., 0., 0., 0., 0., 0., 0., 1.,\n",
              "       1., 1., 1., 0., 0., 1., 1., 0., 0., 0., 0., 0., 0., 1., 0., 0., 0.,\n",
              "       0., 0., 0., 0., 0., 1., 1., 1., 0., 0., 1., 1., 1., 1., 1., 0., 1.,\n",
              "       0., 0., 1., 1., 1., 0., 0., 0., 0., 1., 0., 0., 1., 0., 1., 0., 1.,\n",
              "       0., 0., 1., 0., 0., 1., 1., 1., 0., 1., 0., 0., 1., 1., 1., 1., 0.,\n",
              "       0., 0., 1., 1., 1., 0., 0., 0., 0., 0., 0., 1., 0., 1., 1., 0., 0.,\n",
              "       0., 0., 0., 0., 0., 0., 0., 1., 0., 1., 1., 1., 1., 1., 0., 0., 0.,\n",
              "       1., 1., 0., 0., 0., 1., 1., 0., 0., 1., 0., 0., 1., 0., 0., 1., 1.,\n",
              "       1., 1., 0., 0., 0., 0., 0., 1., 0., 1., 0., 0., 0., 0., 0., 1., 0.,\n",
              "       0., 0., 0., 1., 0., 0., 1., 1., 0., 0., 1., 0., 0., 0., 1., 0., 0.,\n",
              "       0., 0., 0., 1., 1., 0., 1., 1., 0., 1., 0., 0., 1., 1., 0., 0., 0.,\n",
              "       0., 0., 1., 1., 1., 0., 0., 1., 0., 0., 0., 0., 0., 0., 0., 0., 0.,\n",
              "       0., 0., 0., 1., 1., 1., 1., 1., 0., 1., 0., 1., 0., 0., 0., 0., 0.,\n",
              "       0., 1., 1., 1., 0., 1., 1., 0., 0., 1., 1., 1., 0., 0., 1., 0., 0.,\n",
              "       1., 0., 0., 0., 1., 0., 0., 1., 0., 0., 1., 0., 0., 0., 1., 0., 0.,\n",
              "       1., 0., 1., 1., 0., 0., 0., 1., 1., 1., 0., 0., 0., 0., 1., 0., 1.,\n",
              "       0., 0., 1., 0., 0., 1., 0., 0., 1., 0., 1., 0., 1., 0., 0., 0., 1.,\n",
              "       0., 0., 1., 1., 1., 1., 0., 1., 0., 1., 0., 1., 1., 0., 0., 0., 1.,\n",
              "       0., 0., 1., 1., 1., 0., 0., 0., 0., 0., 0., 1., 0., 1., 0., 0., 1.,\n",
              "       0., 0., 0., 0., 0., 1., 1., 0., 0., 0., 0., 1., 0., 1., 0., 0., 1.,\n",
              "       0., 0., 0., 1., 0., 1., 0., 0., 0., 0., 1., 1., 1., 0., 1., 0., 1.,\n",
              "       0., 1., 0., 0., 0., 1., 0., 1., 0., 0., 0., 0., 0., 0., 0., 0., 0.,\n",
              "       0., 0., 0., 0., 1., 0., 0., 0., 0., 1., 0., 0., 0., 0., 1., 0., 0.,\n",
              "       1., 1., 1., 1., 1., 0., 0., 0., 1., 1., 1., 0., 0., 0., 0., 0., 0.,\n",
              "       0., 0., 0., 0., 1., 0., 1., 1., 0., 0., 0., 0., 1., 0.],\n",
              "      dtype=float32)>"
            ]
          },
          "execution_count": 68,
          "metadata": {},
          "output_type": "execute_result"
        }
      ],
      "source": [
        "# model 6 predictions\n",
        "USE_pred = model_6.predict(val_sentence)\n",
        "USE_pred = tf.round(tf.squeeze(USE_pred))\n",
        "USE_pred"
      ]
    },
    {
      "cell_type": "code",
      "execution_count": null,
      "metadata": {
        "colab": {
          "base_uri": "https://localhost:8080/",
          "height": 818
        },
        "id": "jX6-oPj5sxbC",
        "outputId": "b713255a-11f5-484b-8a42-1f7008c7b1a6"
      },
      "outputs": [
        {
          "name": "stdout",
          "output_type": "stream",
          "text": [
            "\n",
            "recall score:71.26%\n",
            "\n",
            "\n",
            "precision_score:87.32%\n",
            "\n",
            "\n",
            "f1_score:78.48%\n",
            "\n",
            "\n",
            "the confusion matrix:\n",
            "\n",
            "[[386  28]\n",
            " [130 218]]\n",
            "\n",
            "\n",
            "accuracy score:82.15%\n",
            "\n",
            "\n",
            "more beautiful matrix:Axes(0.125,0.11;0.62x0.77)\n",
            "\n"
          ]
        },
        {
          "data": {
            "image/png": "[encoded data removed]",
            "text/plain": [
              "<Figure size 640x480 with 2 Axes>"
            ]
          },
          "metadata": {},
          "output_type": "display_data"
        }
      ],
      "source": [
        "text_metrics(val_label,USE_pred)"
      ]
    },
    {
      "cell_type": "code",
      "execution_count": null,
      "metadata": {
        "colab": {
          "base_uri": "https://localhost:8080/"
        },
        "id": "Kr85msqAtFwg",
        "outputId": "66bb89be-f469-4c56-9c20-90e9a6149dca"
      },
      "outputs": [
        {
          "data": {
            "text/plain": [
              "(                                                   text  target\n",
              " 3379  Updated #RockyFire map with Mandatory Evacuati...       1\n",
              " 3671  Wow fatality on 101 big rig hit motorcyclist b...       1\n",
              " 3524  WFTV Eyewitness News: TN school psychologist a...       0\n",
              " 7379  Texas Seeks Comment on Rules for Changes to Wi...       0\n",
              " 2622  REPUBLICAN STYLED ECONOMIC DESTRUCTION | Under...       0,\n",
              " 761)"
            ]
          },
          "execution_count": 70,
          "metadata": {},
          "output_type": "execute_result"
        }
      ],
      "source": [
        "# use 10% of the dataset to leavearage on tensorflow hub transfer learning\n",
        "train_df_10 = train_df_shuffle[['text','target']].sample(frac=.1)\n",
        "train_df_10.head(),len(train_df_10)"
      ]
    },
    {
      "cell_type": "code",
      "execution_count": null,
      "metadata": {
        "id": "ZF6vpRTOu2MP"
      },
      "outputs": [],
      "source": [
        "train_sentence_10 = train_df_10['text'].to_list()\n",
        "train_label_10 = train_df_10['target'].to_list()"
      ]
    },
    {
      "cell_type": "code",
      "execution_count": null,
      "metadata": {
        "colab": {
          "base_uri": "https://localhost:8080/"
        },
        "id": "suo_FsH-79NL",
        "outputId": "ce3fb101-9797-49a3-eb86-6a2650110d48"
      },
      "outputs": [
        {
          "data": {
            "text/plain": [
              "(['Updated #RockyFire map with Mandatory Evacuation areas (red) Advisory Evacuation (yellow) 2 Evac Centers (green) https://t.co/gZEgjoAKKw',\n",
              "  \"Wow fatality on 101 big rig hit motorcyclist blood everywhere ?? wow. I'm sick.\",\n",
              "  'WFTV Eyewitness News: TN school psychologist arrested in Florida on child porn charges http://t.co/lgGLf5yrMe',\n",
              "  'Texas Seeks Comment on Rules for Changes to Windstorm Insurer http://t.co/BNNIdfZWbd',\n",
              "  'REPUBLICAN STYLED ECONOMIC DESTRUCTION | Undergroundbestsellers http://t.co/dILi5JhMur',\n",
              "  'Sad that biker beatdown derailed his pro-democracy work as @NYPDnews undercover: http://t.co/iHHRKG4V1S. http://t.co/aryU5qNgJJ',\n",
              "  'The Pak terrorist who has been caught alive must be tried fast not delayed as KasabWe must send very hard message to Pak instead of Biryani',\n",
              "  'Investigators have said a Virgin Galactic spaceship crash was caused by structural failure after the co-pilot ... http://t.co/WC69XAJIs4',\n",
              "  '@joshcorman  #infosec rather you knew it or not your a firefighter  now days  you often  run into burning buildings Deal with it.',\n",
              "  \"#PBBan (Temporary:300) Russaky89 @'aRmageddon | DO NOT KILL | FLAGS ONLY | Fast XP' for Reason\"],\n",
              " [1, 1, 0, 0, 0, 1, 1, 1, 0, 0])"
            ]
          },
          "execution_count": 72,
          "metadata": {},
          "output_type": "execute_result"
        }
      ],
      "source": [
        "train_sentence_10[:10],train_label_10[:10]"
      ]
    },
    {
      "cell_type": "code",
      "execution_count": null,
      "metadata": {
        "id": "LwwdPnJp8oj5"
      },
      "outputs": [],
      "source": [
        "# Create model 7\n",
        "model_07 = tf.keras.models.clone_model(model_6)\n",
        "\n",
        "# Compile the model\n",
        "model_07.compile(loss='binary_crossentropy',\n",
        "                 optimizer='adam',\n",
        "                 metrics=['accuracy'])"
      ]
    },
    {
      "cell_type": "code",
      "execution_count": null,
      "metadata": {
        "colab": {
          "base_uri": "https://localhost:8080/"
        },
        "id": "Ar03lvH5_HXZ",
        "outputId": "f742a6ad-8dd4-408d-e2a6-0df3cf377c94"
      },
      "outputs": [
        {
          "name": "stdout",
          "output_type": "stream",
          "text": [
            "Model: \"sequential\"\n",
            "_________________________________________________________________\n",
            " Layer (type)                Output Shape              Param #   \n",
            "=================================================================\n",
            " USE_hub (KerasLayer)        (None, 512)               256797824 \n",
            "                                                                 \n",
            " dense_7 (Dense)             (None, 128)               65664     \n",
            "                                                                 \n",
            " dense_8 (Dense)             (None, 64)                8256      \n",
            "                                                                 \n",
            " dense_9 (Dense)             (None, 1)                 65        \n",
            "                                                                 \n",
            "=================================================================\n",
            "Total params: 256871809 (979.89 MB)\n",
            "Trainable params: 73985 (289.00 KB)\n",
            "Non-trainable params: 256797824 (979.61 MB)\n",
            "_________________________________________________________________\n"
          ]
        }
      ],
      "source": [
        "model_07.summary()"
      ]
    },
    {
      "cell_type": "code",
      "execution_count": null,
      "metadata": {
        "colab": {
          "base_uri": "https://localhost:8080/"
        },
        "id": "6j_2dD7W_MQd",
        "outputId": "edcea605-3089-4ae2-d8a0-d316330b8da0"
      },
      "outputs": [
        {
          "name": "stdout",
          "output_type": "stream",
          "text": [
            "Saving TensorBoard log files to: NLP callback/USE 10% of the data/20230910-153421\n",
            "Epoch 1/10\n",
            "24/24 [==============================] - 5s 44ms/step - loss: 0.6348 - accuracy: 0.6689 - val_loss: 0.5736 - val_accuracy: 0.7598\n",
            "Epoch 2/10\n",
            "24/24 [==============================] - 1s 25ms/step - loss: 0.4624 - accuracy: 0.8173 - val_loss: 0.4732 - val_accuracy: 0.7927\n",
            "Epoch 3/10\n",
            "24/24 [==============================] - 1s 22ms/step - loss: 0.3645 - accuracy: 0.8292 - val_loss: 0.4672 - val_accuracy: 0.7861\n",
            "Epoch 4/10\n",
            "24/24 [==============================] - 1s 25ms/step - loss: 0.3009 - accuracy: 0.8699 - val_loss: 0.4749 - val_accuracy: 0.7848\n",
            "Epoch 5/10\n",
            "24/24 [==============================] - 1s 26ms/step - loss: 0.2429 - accuracy: 0.9041 - val_loss: 0.5089 - val_accuracy: 0.7848\n",
            "Epoch 6/10\n",
            "24/24 [==============================] - 1s 25ms/step - loss: 0.1944 - accuracy: 0.9330 - val_loss: 0.5311 - val_accuracy: 0.7782\n",
            "Epoch 7/10\n",
            "24/24 [==============================] - 1s 22ms/step - loss: 0.1432 - accuracy: 0.9593 - val_loss: 0.5718 - val_accuracy: 0.7808\n",
            "Epoch 8/10\n",
            "24/24 [==============================] - 1s 25ms/step - loss: 0.0974 - accuracy: 0.9855 - val_loss: 0.6065 - val_accuracy: 0.7808\n",
            "Epoch 9/10\n",
            "24/24 [==============================] - 1s 22ms/step - loss: 0.0673 - accuracy: 0.9882 - val_loss: 0.6562 - val_accuracy: 0.7874\n",
            "Epoch 10/10\n",
            "24/24 [==============================] - 1s 24ms/step - loss: 0.0459 - accuracy: 0.9908 - val_loss: 0.7075 - val_accuracy: 0.7822\n"
          ]
        },
        {
          "data": {
            "text/plain": [
              "<keras.src.callbacks.History at 0x7f4e24f40400>"
            ]
          },
          "execution_count": 75,
          "metadata": {},
          "output_type": "execute_result"
        }
      ],
      "source": [
        "model_07.fit(x=train_sentence_10,\n",
        "             y=train_label_10,\n",
        "             epochs=10,\n",
        "             validation_data=(val_sentence,val_label),\n",
        "             callbacks=create_tensorboard_callback(dir_name='NLP callback',\n",
        "                                                   experiment_name='USE 10% of the data'))"
      ]
    },
    {
      "cell_type": "code",
      "execution_count": null,
      "metadata": {
        "id": "VNHE0v3bhy7V"
      },
      "outputs": [],
      "source": []
    },
    {
      "cell_type": "code",
      "execution_count": null,
      "metadata": {
        "colab": {
          "base_uri": "https://localhost:8080/"
        },
        "id": "Sae2IO4rAAxP",
        "outputId": "f65ecd86-b44a-4525-eae1-6bcf30364923"
      },
      "outputs": [
        {
          "name": "stdout",
          "output_type": "stream",
          "text": [
            "24/24 [==============================] - 1s 15ms/step\n"
          ]
        },
        {
          "data": {
            "text/plain": [
              "<tf.Tensor: shape=(762,), dtype=float32, numpy=\n",
              "array([0., 1., 1., 1., 1., 1., 1., 1., 1., 0., 1., 1., 0., 0., 0., 0., 0.,\n",
              "       1., 1., 0., 0., 0., 0., 0., 1., 1., 0., 0., 0., 0., 1., 1., 0., 0.,\n",
              "       0., 0., 1., 0., 0., 1., 0., 0., 1., 0., 0., 1., 0., 1., 1., 1., 0.,\n",
              "       1., 0., 0., 0., 0., 0., 1., 1., 0., 0., 1., 1., 0., 1., 1., 1., 0.,\n",
              "       0., 0., 0., 0., 1., 0., 0., 0., 0., 0., 0., 1., 1., 0., 1., 0., 1.,\n",
              "       0., 0., 0., 1., 1., 1., 0., 0., 0., 1., 1., 1., 1., 1., 1., 1., 0.,\n",
              "       0., 1., 1., 0., 1., 1., 0., 1., 0., 0., 1., 0., 0., 1., 0., 1., 1.,\n",
              "       1., 1., 0., 0., 1., 1., 1., 0., 0., 0., 1., 0., 1., 1., 1., 1., 0.,\n",
              "       1., 0., 0., 0., 1., 0., 0., 0., 1., 0., 0., 0., 0., 1., 0., 0., 0.,\n",
              "       0., 0., 0., 1., 0., 1., 1., 1., 0., 1., 1., 0., 0., 1., 0., 1., 0.,\n",
              "       1., 0., 1., 0., 1., 0., 1., 0., 1., 1., 0., 1., 0., 1., 1., 0., 0.,\n",
              "       1., 1., 0., 0., 1., 0., 1., 0., 0., 0., 0., 0., 0., 0., 1., 1., 0.,\n",
              "       0., 1., 0., 0., 1., 1., 0., 1., 0., 0., 0., 0., 1., 1., 1., 0., 0.,\n",
              "       0., 0., 0., 1., 0., 0., 1., 1., 0., 0., 0., 1., 0., 1., 0., 1., 1.,\n",
              "       1., 0., 0., 0., 1., 1., 0., 0., 1., 0., 0., 1., 0., 1., 0., 1., 1.,\n",
              "       0., 1., 1., 1., 0., 1., 0., 0., 1., 1., 1., 1., 0., 0., 0., 1., 1.,\n",
              "       1., 0., 1., 1., 0., 0., 1., 1., 0., 0., 1., 0., 0., 1., 1., 0., 1.,\n",
              "       0., 1., 0., 0., 1., 0., 1., 0., 1., 0., 1., 0., 0., 0., 1., 0., 0.,\n",
              "       0., 1., 0., 0., 0., 1., 1., 0., 1., 0., 1., 0., 0., 0., 0., 1., 1.,\n",
              "       0., 1., 0., 0., 1., 0., 1., 1., 0., 1., 0., 0., 1., 0., 0., 0., 0.,\n",
              "       0., 0., 1., 1., 1., 0., 1., 0., 0., 0., 0., 0., 0., 0., 0., 0., 1.,\n",
              "       1., 1., 1., 0., 0., 1., 0., 0., 0., 0., 0., 0., 0., 1., 0., 0., 1.,\n",
              "       0., 0., 0., 0., 0., 0., 1., 1., 0., 0., 1., 1., 0., 0., 1., 0., 0.,\n",
              "       0., 0., 1., 1., 1., 0., 1., 0., 0., 1., 0., 0., 1., 0., 1., 0., 0.,\n",
              "       0., 0., 1., 0., 0., 1., 1., 0., 0., 1., 0., 0., 1., 1., 1., 1., 0.,\n",
              "       1., 0., 1., 0., 1., 0., 0., 0., 1., 1., 0., 0., 0., 1., 1., 1., 1.,\n",
              "       0., 0., 1., 1., 0., 0., 0., 1., 0., 1., 1., 1., 1., 1., 0., 1., 1.,\n",
              "       1., 1., 0., 0., 0., 1., 1., 0., 0., 1., 0., 0., 1., 1., 0., 1., 0.,\n",
              "       1., 1., 0., 0., 0., 0., 0., 1., 0., 0., 0., 0., 1., 0., 0., 1., 0.,\n",
              "       0., 0., 0., 1., 0., 0., 1., 1., 0., 1., 1., 0., 1., 0., 1., 0., 0.,\n",
              "       0., 1., 0., 1., 1., 0., 1., 1., 1., 1., 1., 0., 1., 1., 0., 0., 0.,\n",
              "       0., 0., 1., 1., 1., 0., 0., 1., 1., 0., 0., 1., 1., 0., 0., 0., 0.,\n",
              "       0., 0., 0., 1., 1., 1., 0., 1., 0., 1., 0., 1., 0., 1., 0., 0., 0.,\n",
              "       0., 1., 1., 1., 0., 1., 1., 1., 0., 1., 1., 1., 0., 0., 1., 0., 0.,\n",
              "       1., 0., 0., 0., 1., 0., 0., 1., 0., 0., 1., 0., 0., 0., 1., 0., 1.,\n",
              "       1., 0., 1., 1., 0., 0., 0., 1., 1., 1., 0., 0., 0., 0., 1., 0., 1.,\n",
              "       0., 0., 1., 0., 0., 0., 0., 1., 1., 0., 1., 0., 1., 1., 1., 1., 1.,\n",
              "       0., 0., 1., 0., 1., 1., 0., 0., 0., 0., 0., 1., 1., 1., 0., 0., 1.,\n",
              "       0., 0., 0., 1., 1., 0., 0., 0., 0., 0., 0., 1., 0., 0., 0., 0., 1.,\n",
              "       0., 1., 0., 0., 0., 1., 1., 1., 0., 0., 0., 1., 0., 1., 0., 0., 0.,\n",
              "       0., 0., 0., 1., 0., 1., 0., 0., 0., 0., 1., 1., 0., 0., 1., 0., 1.,\n",
              "       1., 1., 0., 0., 1., 0., 0., 1., 0., 1., 0., 0., 0., 0., 0., 0., 0.,\n",
              "       0., 0., 0., 0., 1., 0., 1., 0., 0., 1., 0., 0., 0., 0., 1., 0., 0.,\n",
              "       1., 1., 1., 1., 1., 0., 0., 0., 1., 1., 1., 1., 0., 1., 0., 0., 0.,\n",
              "       0., 0., 0., 1., 1., 0., 1., 1., 0., 0., 0., 1., 0., 0.],\n",
              "      dtype=float32)>"
            ]
          },
          "execution_count": 76,
          "metadata": {},
          "output_type": "execute_result"
        }
      ],
      "source": [
        "USE_pred_10 = model_07.predict(val_sentence)\n",
        "USE_pred_10 = tf.round(tf.squeeze(USE_pred_10))\n",
        "USE_pred_10"
      ]
    },
    {
      "cell_type": "code",
      "execution_count": null,
      "metadata": {
        "id": "JorZF_XAAxBn"
      },
      "outputs": [],
      "source": []
    },
    {
      "cell_type": "code",
      "execution_count": null,
      "metadata": {
        "colab": {
          "base_uri": "https://localhost:8080/"
        },
        "id": "mi7FQj2IA6J7",
        "outputId": "e3095d75-43bc-41ef-dc34-8002aaeae5f1"
      },
      "outputs": [
        {
          "data": {
            "text/plain": [
              "685"
            ]
          },
          "execution_count": 77,
          "metadata": {},
          "output_type": "execute_result"
        }
      ],
      "source": [
        "# avoidding data leakage\n",
        "train_10_perc = int(.1*len(train_sentence))\n",
        "train_10_perc"
      ]
    },
    {
      "cell_type": "code",
      "execution_count": null,
      "metadata": {
        "id": "T5-HMFeZUast"
      },
      "outputs": [],
      "source": [
        "train_sent_10 = train_sentence[:train_10_perc]\n",
        "train_label_10 = train_label[:train_10_perc]\n"
      ]
    },
    {
      "cell_type": "code",
      "execution_count": null,
      "metadata": {
        "colab": {
          "base_uri": "https://localhost:8080/"
        },
        "id": "rrm0jw29U6mF",
        "outputId": "8c2e130c-7b95-44ca-af7f-53ce9505eb99"
      },
      "outputs": [
        {
          "name": "stdout",
          "output_type": "stream",
          "text": [
            "Saving TensorBoard log files to: NLP callback/avoid data leakage on same model_data/20230910-153440\n",
            "Epoch 1/10\n",
            "22/22 [==============================] - 4s 47ms/step - loss: 0.6347 - accuracy: 0.6628 - val_loss: 0.5824 - val_accuracy: 0.7467\n",
            "Epoch 2/10\n",
            "22/22 [==============================] - 1s 27ms/step - loss: 0.4730 - accuracy: 0.8190 - val_loss: 0.4815 - val_accuracy: 0.7822\n",
            "Epoch 3/10\n",
            "22/22 [==============================] - 1s 27ms/step - loss: 0.3792 - accuracy: 0.8350 - val_loss: 0.4892 - val_accuracy: 0.7795\n",
            "Epoch 4/10\n",
            "22/22 [==============================] - 1s 27ms/step - loss: 0.3126 - accuracy: 0.8730 - val_loss: 0.5110 - val_accuracy: 0.7703\n",
            "Epoch 5/10\n",
            "22/22 [==============================] - 1s 27ms/step - loss: 0.2626 - accuracy: 0.8978 - val_loss: 0.5468 - val_accuracy: 0.7664\n",
            "Epoch 6/10\n",
            "22/22 [==============================] - 1s 40ms/step - loss: 0.2093 - accuracy: 0.9343 - val_loss: 0.5683 - val_accuracy: 0.7520\n",
            "Epoch 7/10\n",
            "22/22 [==============================] - 1s 51ms/step - loss: 0.1603 - accuracy: 0.9664 - val_loss: 0.6127 - val_accuracy: 0.7467\n",
            "Epoch 8/10\n",
            "22/22 [==============================] - 1s 23ms/step - loss: 0.1128 - accuracy: 0.9825 - val_loss: 0.6849 - val_accuracy: 0.7520\n",
            "Epoch 9/10\n",
            "22/22 [==============================] - 0s 22ms/step - loss: 0.0810 - accuracy: 0.9883 - val_loss: 0.7675 - val_accuracy: 0.7467\n",
            "Epoch 10/10\n",
            "22/22 [==============================] - 0s 22ms/step - loss: 0.0561 - accuracy: 0.9942 - val_loss: 0.7885 - val_accuracy: 0.7441\n"
          ]
        },
        {
          "data": {
            "text/plain": [
              "<keras.src.callbacks.History at 0x7f4df463e1d0>"
            ]
          },
          "execution_count": 79,
          "metadata": {},
          "output_type": "execute_result"
        }
      ],
      "source": [
        "model_08 = tf.keras.models.clone_model(model_6)\n",
        "\n",
        "model_08.compile(loss='binary_crossentropy',\n",
        "                 optimizer='adam',\n",
        "                 metrics=['accuracy'])\n",
        "\n",
        "model_08.fit(x=train_sent_10,\n",
        "             y=train_label_10,\n",
        "             epochs=10,\n",
        "             validation_data=(val_sentence,val_label),\n",
        "             callbacks=create_tensorboard_callback(dir_name='NLP callback',\n",
        "                                                   experiment_name='avoid data leakage on same model_data'))"
      ]
    },
    {
      "cell_type": "code",
      "execution_count": null,
      "metadata": {
        "id": "ERihbnx3XKYe"
      },
      "outputs": [],
      "source": [
        "# Load the TensorBoard notebook extension\n",
        "%load_ext tensorboard"
      ]
    },
    {
      "cell_type": "code",
      "execution_count": null,
      "metadata": {
        "colab": {
          "base_uri": "https://localhost:8080/"
        },
        "id": "ja_3DLSNe7CM",
        "outputId": "67ca6342-9e90-4ae6-bf74-00700888cbbb"
      },
      "outputs": [
        {
          "name": "stdout",
          "output_type": "stream",
          "text": [
            "2023-09-10 15:34:54.813514: W tensorflow/compiler/tf2tensorrt/utils/py_utils.cc:38] TF-TRT Warning: Could not find TensorRT\n",
            "\n",
            "***** TensorBoard Uploader *****\n",
            "\n",
            "This will upload your TensorBoard logs to https://tensorboard.dev/ from\n",
            "the following directory:\n",
            "\n",
            "/content/NLP callback/\n",
            "\n",
            "This TensorBoard will be visible to everyone. Do not upload sensitive\n",
            "data.\n",
            "\n",
            "Your use of this service is subject to Google's Terms of Service\n",
            "<https://policies.google.com/terms> and Privacy Policy\n",
            "<https://policies.google.com/privacy>, and TensorBoard.dev's Terms of Service\n",
            "<https://tensorboard.dev/policy/terms/>.\n",
            "\n",
            "This notice will not be shown again while you are logged into the uploader.\n",
            "To log out, run `tensorboard dev auth revoke`.\n",
            "\n",
            "Continue? (yes/NO) no\n"
          ]
        }
      ],
      "source": [
        "!tensorboard dev upload \\\n",
        "--logdir '/content/NLP callback/' \\\n",
        "--name 'My model experiments on NLP dataset' \\\n",
        "--description 'comparison of various model experiments' \\\n",
        "--one_shot"
      ]
    },
    {
      "cell_type": "code",
      "execution_count": null,
      "metadata": {
        "colab": {
          "base_uri": "https://localhost:8080/"
        },
        "id": "wkp67964k_8M",
        "outputId": "8b4e48a9-20bc-485a-80f5-0a50d03fbeba"
      },
      "outputs": [
        {
          "name": "stdout",
          "output_type": "stream",
          "text": [
            "2023-09-10 15:58:57.430254: W tensorflow/compiler/tf2tensorrt/utils/py_utils.cc:38] TF-TRT Warning: Could not find TensorRT\n",
            "\n",
            "***** TensorBoard Uploader *****\n",
            "\n",
            "This will list all experiments that you've uploaded to\n",
            "https://tensorboard.dev. TensorBoard.dev experiments are visible\n",
            "to everyone. Do not upload sensitive data.\n",
            "\n",
            "Your use of this service is subject to Google's Terms of Service\n",
            "<https://policies.google.com/terms> and Privacy Policy\n",
            "<https://policies.google.com/privacy>, and TensorBoard.dev's Terms of Service\n",
            "<https://tensorboard.dev/policy/terms/>.\n",
            "\n",
            "This notice will not be shown again while you are logged into the uploader.\n",
            "To log out, run `tensorboard dev auth revoke`.\n",
            "\n",
            "Continue? (yes/NO) yes\n",
            "\n",
            "To sign in with the TensorBoard uploader:\n",
            "\n",
            "1. On your computer or phone, visit:\n",
            "\n",
            "   https://www.google.com/device\n",
            "\n",
            "2. Sign in with your Google account, then enter:\n",
            "\n",
            "   YPG-DYY-PXS\n",
            "\n",
            "\n",
            "https://tensorboard.dev/experiment/NUvc4bnUQSmkJx90ESqm6w/\n",
            "\tName                 My model experiments on NLP dataset\n",
            "\tDescription          comparison of various model experiments\n",
            "\tId                   NUvc4bnUQSmkJx90ESqm6w\n",
            "\tCreated              2023-09-09 15:36:49\n",
            "\tUpdated              2023-09-09 15:36:57\n",
            "\tRuns                 16\n",
            "\tTags                 5\n",
            "\tScalars              450\n",
            "\tTensor bytes         0\n",
            "\tBinary object bytes  5155352\n",
            "https://tensorboard.dev/experiment/y8MXoiPAQlKzWV1OnRGWag/\n",
            "\tName                 expriment with Beans dataset\n",
            "\tDescription          Beans is a dataset of images of beans taken in the field using smartphone\\ncameras. It consists of 3 classes: 2 disease classes and the healthy class...Training from https://github.com/Yomex139\n",
            "\tId                   y8MXoiPAQlKzWV1OnRGWag\n",
            "\tCreated              2021-10-22 00:53:59\n",
            "\tUpdated              2021-10-22 00:54:03\n",
            "\tRuns                 8\n",
            "\tTags                 5\n",
            "\tScalars              252\n",
            "\tTensor bytes         0\n",
            "\tBinary object bytes  2990663\n",
            "https://tensorboard.dev/experiment/sADBwNuzR9iEVplazrlaew/\n",
            "\tName                 Transfer Learning Experiments\n",
            "\tDescription          transfer learning experiments on various amount of data using EfficientnetB0\n",
            "\tId                   sADBwNuzR9iEVplazrlaew\n",
            "\tCreated              2021-10-08 20:24:18\n",
            "\tUpdated              2021-10-08 20:24:24\n",
            "\tRuns                 10\n",
            "\tTags                 5\n",
            "\tScalars              162\n",
            "\tTensor bytes         0\n",
            "\tBinary object bytes  4033057\n",
            "https://tensorboard.dev/experiment/qD4rgPxWSmGaortYAiRdHg/\n",
            "\tName                 EfficientNet_b0 vs ResNet_v2_50\n",
            "\tDescription          comparing to tensorflow hub feature vector extraction model architecture with 10% of training data(75 images)\n",
            "\tId                   qD4rgPxWSmGaortYAiRdHg\n",
            "\tCreated              2021-09-08 00:08:24\n",
            "\tUpdated              2021-09-08 00:08:27\n",
            "\tRuns                 4\n",
            "\tTags                 5\n",
            "\tScalars              60\n",
            "\tTensor bytes         0\n",
            "\tBinary object bytes  3552856\n",
            "Total: 4 experiment(s)\n"
          ]
        }
      ],
      "source": [
        "!tensorboard dev list"
      ]
    },
    {
      "cell_type": "code",
      "execution_count": null,
      "metadata": {
        "id": "4bT6SDtin1dm"
      },
      "outputs": [],
      "source": [
        "tf.keras.models.save_model(filepath='Save model format',model=model_6)"
      ]
    },
    {
      "cell_type": "code",
      "execution_count": null,
      "metadata": {
        "colab": {
          "base_uri": "https://localhost:8080/"
        },
        "id": "7eIcKpDuolVn",
        "outputId": "dff8e262-e246-4ad6-a48c-f18bc3875dac"
      },
      "outputs": [
        {
          "name": "stderr",
          "output_type": "stream",
          "text": [
            "/usr/local/lib/python3.10/dist-packages/keras/src/engine/training.py:3000: UserWarning: You are saving your model as an HDF5 file via `model.save()`. This file format is considered legacy. We recommend using instead the native Keras format, e.g. `model.save('my_model.keras')`.\n",
            "  saving_api.save_model(\n"
          ]
        }
      ],
      "source": [
        "model_6.save(filepath='model/best model.h5')"
      ]
    },
    {
      "cell_type": "code",
      "execution_count": null,
      "metadata": {
        "id": "EzPGJ9w5petI"
      },
      "outputs": [],
      "source": [
        "loaded_model = tf.keras.models.load_model(filepath='/content/model/best model.h5',\n",
        "                                          custom_objects={'KerasLayer':hub.KerasLayer})"
      ]
    },
    {
      "cell_type": "code",
      "execution_count": null,
      "metadata": {
        "colab": {
          "base_uri": "https://localhost:8080/"
        },
        "id": "KlwPINPnq2dS",
        "outputId": "1d8aa552-842d-44e6-f94a-723f520fbae4"
      },
      "outputs": [
        {
          "name": "stdout",
          "output_type": "stream",
          "text": [
            "24/24 [==============================] - 1s 11ms/step - loss: 0.4916 - accuracy: 0.8215\n"
          ]
        },
        {
          "data": {
            "text/plain": [
              "[0.49160557985305786, 0.8215222954750061]"
            ]
          },
          "execution_count": 86,
          "metadata": {},
          "output_type": "execute_result"
        }
      ],
      "source": [
        "loaded_model.evaluate(val_sentence,val_label)"
      ]
    },
    {
      "cell_type": "code",
      "execution_count": null,
      "metadata": {
        "id": "YoJs55vmrG5w"
      },
      "outputs": [],
      "source": [
        "dataframe = pd.DataFrame({\n",
        "              'text':val_sentence,\n",
        "              'target':val_label,\n",
        "              'predictions':USE_pred,\n",
        "              'pred_prob':pred_prob\n",
        "})"
      ]
    },
    {
      "cell_type": "code",
      "execution_count": null,
      "metadata": {
        "colab": {
          "base_uri": "https://localhost:8080/",
          "height": 423
        },
        "id": "daw9Qq4exnLG",
        "outputId": "590a07f6-2425-4e4c-85c3-c22c1c9487c6"
      },
      "outputs": [
        {
          "data": {
            "text/html": [
              "\n",
              "  <div id=\"df-a49c86a0-6d4a-4b11-8b8b-bb17ad11df44\" class=\"colab-df-container\">\n",
              "    <div>\n",
              "<style scoped>\n",
              "    .dataframe tbody tr th:only-of-type {\n",
              "        vertical-align: middle;\n",
              "    }\n",
              "\n",
              "    .dataframe tbody tr th {\n",
              "        vertical-align: top;\n",
              "    }\n",
              "\n",
              "    .dataframe thead th {\n",
              "        text-align: right;\n",
              "    }\n",
              "</style>\n",
              "<table border=\"1\" class=\"dataframe\">\n",
              "  <thead>\n",
              "    <tr style=\"text-align: right;\">\n",
              "      <th></th>\n",
              "      <th>text</th>\n",
              "      <th>target</th>\n",
              "      <th>predictions</th>\n",
              "      <th>pred_prob</th>\n",
              "    </tr>\n",
              "  </thead>\n",
              "  <tbody>\n",
              "    <tr>\n",
              "      <th>0</th>\n",
              "      <td>DFR EP016 Monthly Meltdown - On Dnbheaven 2015...</td>\n",
              "      <td>0</td>\n",
              "      <td>0.0</td>\n",
              "      <td>0.151476</td>\n",
              "    </tr>\n",
              "    <tr>\n",
              "      <th>1</th>\n",
              "      <td>FedEx no longer to transport bioterror germs i...</td>\n",
              "      <td>0</td>\n",
              "      <td>0.0</td>\n",
              "      <td>0.270074</td>\n",
              "    </tr>\n",
              "    <tr>\n",
              "      <th>2</th>\n",
              "      <td>Gunmen kill four in El Salvador bus attack: Su...</td>\n",
              "      <td>1</td>\n",
              "      <td>1.0</td>\n",
              "      <td>0.999697</td>\n",
              "    </tr>\n",
              "    <tr>\n",
              "      <th>3</th>\n",
              "      <td>@camilacabello97 Internally and externally scr...</td>\n",
              "      <td>1</td>\n",
              "      <td>0.0</td>\n",
              "      <td>0.064891</td>\n",
              "    </tr>\n",
              "    <tr>\n",
              "      <th>4</th>\n",
              "      <td>Radiation emergency #preparedness starts with ...</td>\n",
              "      <td>1</td>\n",
              "      <td>0.0</td>\n",
              "      <td>0.338536</td>\n",
              "    </tr>\n",
              "    <tr>\n",
              "      <th>...</th>\n",
              "      <td>...</td>\n",
              "      <td>...</td>\n",
              "      <td>...</td>\n",
              "      <td>...</td>\n",
              "    </tr>\n",
              "    <tr>\n",
              "      <th>757</th>\n",
              "      <td>That's the ultimate road to destruction</td>\n",
              "      <td>0</td>\n",
              "      <td>0.0</td>\n",
              "      <td>0.018514</td>\n",
              "    </tr>\n",
              "    <tr>\n",
              "      <th>758</th>\n",
              "      <td>@SetZorah dad why dont you claim me that mean ...</td>\n",
              "      <td>0</td>\n",
              "      <td>0.0</td>\n",
              "      <td>0.062924</td>\n",
              "    </tr>\n",
              "    <tr>\n",
              "      <th>759</th>\n",
              "      <td>FedEx will no longer transport bioterror patho...</td>\n",
              "      <td>0</td>\n",
              "      <td>0.0</td>\n",
              "      <td>0.287301</td>\n",
              "    </tr>\n",
              "    <tr>\n",
              "      <th>760</th>\n",
              "      <td>Crack in the path where I wiped out this morni...</td>\n",
              "      <td>0</td>\n",
              "      <td>1.0</td>\n",
              "      <td>0.675329</td>\n",
              "    </tr>\n",
              "    <tr>\n",
              "      <th>761</th>\n",
              "      <td>I liked a @YouTube video from @dannyonpc http:...</td>\n",
              "      <td>0</td>\n",
              "      <td>0.0</td>\n",
              "      <td>0.039615</td>\n",
              "    </tr>\n",
              "  </tbody>\n",
              "</table>\n",
              "<p>762 rows × 4 columns</p>\n",
              "</div>\n",
              "    <div class=\"colab-df-buttons\">\n",
              "\n",
              "  <div class=\"colab-df-container\">\n",
              "    <button class=\"colab-df-convert\" onclick=\"convertToInteractive('df-a49c86a0-6d4a-4b11-8b8b-bb17ad11df44')\"\n",
              "            title=\"Convert this dataframe to an interactive table.\"\n",
              "            style=\"display:none;\">\n",
              "\n",
              "  <svg xmlns=\"http://www.w3.org/2000/svg\" height=\"24px\" viewBox=\"0 -960 960 960\">\n",
              "    <path d=\"M120-120v-720h720v720H120Zm60-500h600v-160H180v160Zm220 220h160v-160H400v160Zm0 220h160v-160H400v160ZM180-400h160v-160H180v160Zm440 0h160v-160H620v160ZM180-180h160v-160H180v160Zm440 0h160v-160H620v160Z\"/>\n",
              "  </svg>\n",
              "    </button>\n",
              "\n",
              "  <style>\n",
              "    .colab-df-container {\n",
              "      display:flex;\n",
              "      gap: 12px;\n",
              "    }\n",
              "\n",
              "    .colab-df-convert {\n",
              "      background-color: #E8F0FE;\n",
              "      border: none;\n",
              "      border-radius: 50%;\n",
              "      cursor: pointer;\n",
              "      display: none;\n",
              "      fill: #1967D2;\n",
              "      height: 32px;\n",
              "      padding: 0 0 0 0;\n",
              "      width: 32px;\n",
              "    }\n",
              "\n",
              "    .colab-df-convert:hover {\n",
              "      background-color: #E2EBFA;\n",
              "      box-shadow: 0px 1px 2px rgba(60, 64, 67, 0.3), 0px 1px 3px 1px rgba(60, 64, 67, 0.15);\n",
              "      fill: #174EA6;\n",
              "    }\n",
              "\n",
              "    .colab-df-buttons div {\n",
              "      margin-bottom: 4px;\n",
              "    }\n",
              "\n",
              "    [theme=dark] .colab-df-convert {\n",
              "      background-color: #3B4455;\n",
              "      fill: #D2E3FC;\n",
              "    }\n",
              "\n",
              "    [theme=dark] .colab-df-convert:hover {\n",
              "      background-color: #434B5C;\n",
              "      box-shadow: 0px 1px 3px 1px rgba(0, 0, 0, 0.15);\n",
              "      filter: drop-shadow(0px 1px 2px rgba(0, 0, 0, 0.3));\n",
              "      fill: #FFFFFF;\n",
              "    }\n",
              "  </style>\n",
              "\n",
              "    <script>\n",
              "      const buttonEl =\n",
              "        document.querySelector('#df-a49c86a0-6d4a-4b11-8b8b-bb17ad11df44 button.colab-df-convert');\n",
              "      buttonEl.style.display =\n",
              "        google.colab.kernel.accessAllowed ? 'block' : 'none';\n",
              "\n",
              "      async function convertToInteractive(key) {\n",
              "        const element = document.querySelector('#df-a49c86a0-6d4a-4b11-8b8b-bb17ad11df44');\n",
              "        const dataTable =\n",
              "          await google.colab.kernel.invokeFunction('convertToInteractive',\n",
              "                                                    [key], {});\n",
              "        if (!dataTable) return;\n",
              "\n",
              "        const docLinkHtml = 'Like what you see? Visit the ' +\n",
              "          '<a target=\"_blank\" href=https://colab.research.google.com/notebooks/data_table.ipynb>data table notebook</a>'\n",
              "          + ' to learn more about interactive tables.';\n",
              "        element.innerHTML = '';\n",
              "        dataTable['output_type'] = 'display_data';\n",
              "        await google.colab.output.renderOutput(dataTable, element);\n",
              "        const docLink = document.createElement('div');\n",
              "        docLink.innerHTML = docLinkHtml;\n",
              "        element.appendChild(docLink);\n",
              "      }\n",
              "    </script>\n",
              "  </div>\n",
              "\n",
              "\n",
              "<div id=\"df-4e0bb206-5775-48a5-8970-d8414c40e92a\">\n",
              "  <button class=\"colab-df-quickchart\" onclick=\"quickchart('df-4e0bb206-5775-48a5-8970-d8414c40e92a')\"\n",
              "            title=\"Suggest charts.\"\n",
              "            style=\"display:none;\">\n",
              "\n",
              "<svg xmlns=\"http://www.w3.org/2000/svg\" height=\"24px\"viewBox=\"0 0 24 24\"\n",
              "     width=\"24px\">\n",
              "    <g>\n",
              "        <path d=\"M19 3H5c-1.1 0-2 .9-2 2v14c0 1.1.9 2 2 2h14c1.1 0 2-.9 2-2V5c0-1.1-.9-2-2-2zM9 17H7v-7h2v7zm4 0h-2V7h2v10zm4 0h-2v-4h2v4z\"/>\n",
              "    </g>\n",
              "</svg>\n",
              "  </button>\n",
              "\n",
              "<style>\n",
              "  .colab-df-quickchart {\n",
              "      --bg-color: #E8F0FE;\n",
              "      --fill-color: #1967D2;\n",
              "      --hover-bg-color: #E2EBFA;\n",
              "      --hover-fill-color: #174EA6;\n",
              "      --disabled-fill-color: #AAA;\n",
              "      --disabled-bg-color: #DDD;\n",
              "  }\n",
              "\n",
              "  [theme=dark] .colab-df-quickchart {\n",
              "      --bg-color: #3B4455;\n",
              "      --fill-color: #D2E3FC;\n",
              "      --hover-bg-color: #434B5C;\n",
              "      --hover-fill-color: #FFFFFF;\n",
              "      --disabled-bg-color: #3B4455;\n",
              "      --disabled-fill-color: #666;\n",
              "  }\n",
              "\n",
              "  .colab-df-quickchart {\n",
              "    background-color: var(--bg-color);\n",
              "    border: none;\n",
              "    border-radius: 50%;\n",
              "    cursor: pointer;\n",
              "    display: none;\n",
              "    fill: var(--fill-color);\n",
              "    height: 32px;\n",
              "    padding: 0;\n",
              "    width: 32px;\n",
              "  }\n",
              "\n",
              "  .colab-df-quickchart:hover {\n",
              "    background-color: var(--hover-bg-color);\n",
              "    box-shadow: 0 1px 2px rgba(60, 64, 67, 0.3), 0 1px 3px 1px rgba(60, 64, 67, 0.15);\n",
              "    fill: var(--button-hover-fill-color);\n",
              "  }\n",
              "\n",
              "  .colab-df-quickchart-complete:disabled,\n",
              "  .colab-df-quickchart-complete:disabled:hover {\n",
              "    background-color: var(--disabled-bg-color);\n",
              "    fill: var(--disabled-fill-color);\n",
              "    box-shadow: none;\n",
              "  }\n",
              "\n",
              "  .colab-df-spinner {\n",
              "    border: 2px solid var(--fill-color);\n",
              "    border-color: transparent;\n",
              "    border-bottom-color: var(--fill-color);\n",
              "    animation:\n",
              "      spin 1s steps(1) infinite;\n",
              "  }\n",
              "\n",
              "  @keyframes spin {\n",
              "    0% {\n",
              "      border-color: transparent;\n",
              "      border-bottom-color: var(--fill-color);\n",
              "      border-left-color: var(--fill-color);\n",
              "    }\n",
              "    20% {\n",
              "      border-color: transparent;\n",
              "      border-left-color: var(--fill-color);\n",
              "      border-top-color: var(--fill-color);\n",
              "    }\n",
              "    30% {\n",
              "      border-color: transparent;\n",
              "      border-left-color: var(--fill-color);\n",
              "      border-top-color: var(--fill-color);\n",
              "      border-right-color: var(--fill-color);\n",
              "    }\n",
              "    40% {\n",
              "      border-color: transparent;\n",
              "      border-right-color: var(--fill-color);\n",
              "      border-top-color: var(--fill-color);\n",
              "    }\n",
              "    60% {\n",
              "      border-color: transparent;\n",
              "      border-right-color: var(--fill-color);\n",
              "    }\n",
              "    80% {\n",
              "      border-color: transparent;\n",
              "      border-right-color: var(--fill-color);\n",
              "      border-bottom-color: var(--fill-color);\n",
              "    }\n",
              "    90% {\n",
              "      border-color: transparent;\n",
              "      border-bottom-color: var(--fill-color);\n",
              "    }\n",
              "  }\n",
              "</style>\n",
              "\n",
              "  <script>\n",
              "    async function quickchart(key) {\n",
              "      const quickchartButtonEl =\n",
              "        document.querySelector('#' + key + ' button');\n",
              "      quickchartButtonEl.disabled = true;  // To prevent multiple clicks.\n",
              "      quickchartButtonEl.classList.add('colab-df-spinner');\n",
              "      try {\n",
              "        const charts = await google.colab.kernel.invokeFunction(\n",
              "            'suggestCharts', [key], {});\n",
              "      } catch (error) {\n",
              "        console.error('Error during call to suggestCharts:', error);\n",
              "      }\n",
              "      quickchartButtonEl.classList.remove('colab-df-spinner');\n",
              "      quickchartButtonEl.classList.add('colab-df-quickchart-complete');\n",
              "    }\n",
              "    (() => {\n",
              "      let quickchartButtonEl =\n",
              "        document.querySelector('#df-4e0bb206-5775-48a5-8970-d8414c40e92a button');\n",
              "      quickchartButtonEl.style.display =\n",
              "        google.colab.kernel.accessAllowed ? 'block' : 'none';\n",
              "    })();\n",
              "  </script>\n",
              "</div>\n",
              "    </div>\n",
              "  </div>\n"
            ],
            "text/plain": [
              "                                                  text  target  predictions  \\\n",
              "0    DFR EP016 Monthly Meltdown - On Dnbheaven 2015...       0          0.0   \n",
              "1    FedEx no longer to transport bioterror germs i...       0          0.0   \n",
              "2    Gunmen kill four in El Salvador bus attack: Su...       1          1.0   \n",
              "3    @camilacabello97 Internally and externally scr...       1          0.0   \n",
              "4    Radiation emergency #preparedness starts with ...       1          0.0   \n",
              "..                                                 ...     ...          ...   \n",
              "757            That's the ultimate road to destruction       0          0.0   \n",
              "758  @SetZorah dad why dont you claim me that mean ...       0          0.0   \n",
              "759  FedEx will no longer transport bioterror patho...       0          0.0   \n",
              "760  Crack in the path where I wiped out this morni...       0          1.0   \n",
              "761  I liked a @YouTube video from @dannyonpc http:...       0          0.0   \n",
              "\n",
              "     pred_prob  \n",
              "0     0.151476  \n",
              "1     0.270074  \n",
              "2     0.999697  \n",
              "3     0.064891  \n",
              "4     0.338536  \n",
              "..         ...  \n",
              "757   0.018514  \n",
              "758   0.062924  \n",
              "759   0.287301  \n",
              "760   0.675329  \n",
              "761   0.039615  \n",
              "\n",
              "[762 rows x 4 columns]"
            ]
          },
          "execution_count": 88,
          "metadata": {},
          "output_type": "execute_result"
        }
      ],
      "source": [
        "dataframe"
      ]
    },
    {
      "cell_type": "code",
      "execution_count": null,
      "metadata": {
        "id": "cdhHTF6mxz7e"
      },
      "outputs": [],
      "source": [
        "most_wrong = dataframe[dataframe['target']!=dataframe['predictions']].sort_values('pred_prob',ascending=False)"
      ]
    },
    {
      "cell_type": "code",
      "execution_count": null,
      "metadata": {
        "colab": {
          "base_uri": "https://localhost:8080/"
        },
        "id": "FhQoYBQny6OB",
        "outputId": "9a68fc5e-41ca-45e4-95a5-3b56ad37cf32"
      },
      "outputs": [
        {
          "name": "stdout",
          "output_type": "stream",
          "text": [
            "\n",
            "Target:0 Prediction:1.0 Pred_prob:0.9984\n",
            "\n",
            "\n",
            "Text:[55436] 1950 LIONEL TRAINS SMOKE LOCOMOTIVES WITH MAGNE-TRACTION INSTRUCTIONS http://t.co/xEZBs3sq0y http://t.co/C2x0QoKGlY\n",
            "\n",
            "---------\n",
            "\n",
            "\n",
            "Target:0 Prediction:1.0 Pred_prob:0.9803\n",
            "\n",
            "\n",
            "Text:@noah_anyname That's where the concentration camps and mass murder come in. \n",
            " \n",
            "EVERY. FUCKING. TIME.\n",
            "\n",
            "---------\n",
            "\n",
            "\n",
            "Target:0 Prediction:1.0 Pred_prob:0.9431\n",
            "\n",
            "\n",
            "Text:@SonofLiberty357 all illuminated by the brightly burning buildings all around the town!\n",
            "\n",
            "---------\n",
            "\n",
            "\n",
            "Target:0 Prediction:1.0 Pred_prob:0.9376\n",
            "\n",
            "\n",
            "Text:Deaths 3 http://t.co/nApviyGKYK\n",
            "\n",
            "---------\n",
            "\n",
            "\n",
            "Target:0 Prediction:1.0 Pred_prob:0.9285\n",
            "\n",
            "\n",
            "Text:the windstorm blew thru my open window and now my bong is in pieces just another example of nature's indifference to human suffering\n",
            "\n",
            "---------\n",
            "\n"
          ]
        }
      ],
      "source": [
        "for rows in most_wrong[:5].itertuples():\n",
        "  _,text,target,predictions,pred_prob=rows\n",
        "  print(f'\\nTarget:{target} Prediction:{predictions} Pred_prob:{pred_prob:.4f}\\n')\n",
        "  print(f'\\nText:{text}\\n')\n",
        "  print('---------\\n')"
      ]
    },
    {
      "cell_type": "code",
      "execution_count": null,
      "metadata": {
        "id": "xJsyz38wzSxg"
      },
      "outputs": [],
      "source": [
        "test_sentence = test_df['text'].to_list()"
      ]
    },
    {
      "cell_type": "code",
      "execution_count": null,
      "metadata": {
        "colab": {
          "base_uri": "https://localhost:8080/"
        },
        "id": "skdyUaXz2KqI",
        "outputId": "41bcceef-1336-486d-f45e-b53af5dda647"
      },
      "outputs": [
        {
          "data": {
            "text/plain": [
              "['Just happened a terrible car crash',\n",
              " 'Heard about #earthquake is different cities, stay safe everyone.',\n",
              " 'there is a forest fire at spot pond, geese are fleeing across the street, I cannot save them all',\n",
              " 'Apocalypse lighting. #Spokane #wildfires',\n",
              " 'Typhoon Soudelor kills 28 in China and Taiwan',\n",
              " \"We're shaking...It's an earthquake\",\n",
              " \"They'd probably still show more life than Arsenal did yesterday, eh? EH?\",\n",
              " 'Hey! How are you?',\n",
              " 'What a nice hat?',\n",
              " 'Fuck off!']"
            ]
          },
          "execution_count": 92,
          "metadata": {},
          "output_type": "execute_result"
        }
      ],
      "source": [
        "test_sentence[:10]"
      ]
    },
    {
      "cell_type": "code",
      "execution_count": null,
      "metadata": {
        "colab": {
          "base_uri": "https://localhost:8080/"
        },
        "id": "V46vE42n9J0V",
        "outputId": "d8facc08-a1bd-4a6c-ccb4-a54a471a66cf"
      },
      "outputs": [
        {
          "name": "stdout",
          "output_type": "stream",
          "text": [
            "102/102 [==============================] - 1s 10ms/step\n"
          ]
        }
      ],
      "source": [
        "test_pred = model_6.predict(test_sentence)"
      ]
    },
    {
      "cell_type": "code",
      "execution_count": null,
      "metadata": {
        "colab": {
          "base_uri": "https://localhost:8080/"
        },
        "id": "MmC7akSl9rWe",
        "outputId": "ced9b592-e8c7-4847-9a10-4a15507eecb4"
      },
      "outputs": [
        {
          "name": "stdout",
          "output_type": "stream",
          "text": [
            "1/1 [==============================] - 0s 65ms/step\n"
          ]
        },
        {
          "data": {
            "text/plain": [
              "array([[0.1629888]], dtype=float32)"
            ]
          },
          "execution_count": 96,
          "metadata": {},
          "output_type": "execute_result"
        }
      ],
      "source": [
        "model_6.predict(['The main reason I like [Twitter] as a source of data is that it integrates not just a measure of typical exposure — which is ‘Did the water come onto the land in a place where it wasn’t supposed to be? [It also] measures ‘What are people noticing? What are people talking about?’ Twitter can give us this aggregated measure of what those social consequences of that particular flood are.'])"
      ]
    },
    {
      "cell_type": "code",
      "execution_count": null,
      "metadata": {
        "id": "WImozw4n2-WN"
      },
      "outputs": [],
      "source": [
        "# Create model 1\n",
        "input = layers.Input(shape=(1,),dtype=tf.string)\n",
        "x = text_vectorizers(input)\n",
        "x = embedding(x)\n",
        "x = layers.GlobalAveragePooling1D()(x)\n",
        "output = layers.Dense(1,activation='sigmoid')(x)\n",
        "model_01 = tf.keras.Model(input,output)"
      ]
    },
    {
      "cell_type": "code",
      "execution_count": null,
      "metadata": {
        "colab": {
          "base_uri": "https://localhost:8080/"
        },
        "id": "tZZzUq425egh",
        "outputId": "0b6a764c-522b-4a37-851a-2b7c170e3f28"
      },
      "outputs": [
        {
          "output_type": "stream",
          "name": "stdout",
          "text": [
            "Epoch 1/10\n",
            "215/215 [==============================] - 18s 62ms/step - loss: 0.6103 - accuracy: 0.6906 - val_loss: 0.5371 - val_accuracy: 0.7520\n",
            "Epoch 2/10\n",
            "215/215 [==============================] - 4s 17ms/step - loss: 0.4411 - accuracy: 0.8181 - val_loss: 0.4737 - val_accuracy: 0.7835\n",
            "Epoch 3/10\n",
            "215/215 [==============================] - 2s 9ms/step - loss: 0.3468 - accuracy: 0.8609 - val_loss: 0.4590 - val_accuracy: 0.7887\n",
            "Epoch 4/10\n",
            "215/215 [==============================] - 2s 11ms/step - loss: 0.2837 - accuracy: 0.8910 - val_loss: 0.4639 - val_accuracy: 0.7900\n",
            "Epoch 5/10\n",
            "215/215 [==============================] - 3s 13ms/step - loss: 0.2377 - accuracy: 0.9142 - val_loss: 0.4788 - val_accuracy: 0.7874\n",
            "Epoch 6/10\n",
            "215/215 [==============================] - 2s 7ms/step - loss: 0.2002 - accuracy: 0.9295 - val_loss: 0.5027 - val_accuracy: 0.7900\n",
            "Epoch 7/10\n",
            "215/215 [==============================] - 1s 6ms/step - loss: 0.1718 - accuracy: 0.9410 - val_loss: 0.5342 - val_accuracy: 0.7835\n",
            "Epoch 8/10\n",
            "215/215 [==============================] - 1s 6ms/step - loss: 0.1488 - accuracy: 0.9485 - val_loss: 0.5537 - val_accuracy: 0.7848\n",
            "Epoch 9/10\n",
            "215/215 [==============================] - 1s 5ms/step - loss: 0.1299 - accuracy: 0.9552 - val_loss: 0.5869 - val_accuracy: 0.7795\n",
            "Epoch 10/10\n",
            "215/215 [==============================] - 1s 6ms/step - loss: 0.1152 - accuracy: 0.9607 - val_loss: 0.6303 - val_accuracy: 0.7756\n"
          ]
        },
        {
          "output_type": "execute_result",
          "data": {
            "text/plain": [
              "<keras.src.callbacks.History at 0x7d3e801189a0>"
            ]
          },
          "metadata": {},
          "execution_count": 16
        }
      ],
      "source": [
        "from keras.api._v2.keras.layers import GlobalAveragePooling1D\n",
        "# Create model 1 using sequecial API\n",
        "import tensorflow as tf\n",
        "model_1 = tf.keras.Sequential()\n",
        "model_1.add(layers.Input(shape=(1,),dtype='string'))\n",
        "model_1.add(text_vectorizers)\n",
        "model_1.add(embedding)\n",
        "model_1.add(layers.GlobalAveragePooling1D())\n",
        "model_1.add(layers.Dense(1,activation='sigmoid'))\n",
        "\n",
        "model_1.compile(loss='binary_crossentropy',\n",
        "                optimizer='adam',\n",
        "                metrics=['accuracy'])\n",
        "\n",
        "model_1.fit(train_sentence,\n",
        "            train_label,\n",
        "            epochs=10,\n",
        "            validation_data=(val_sentence,val_label))\n"
      ]
    },
    {
      "cell_type": "code",
      "execution_count": null,
      "metadata": {
        "colab": {
          "base_uri": "https://localhost:8080/"
        },
        "id": "s6gxiQjP61wN",
        "outputId": "e65ba4fb-ceac-4997-a179-2a258532961d"
      },
      "outputs": [
        {
          "output_type": "stream",
          "name": "stdout",
          "text": [
            "Epoch 1/5\n",
            "215/215 [==============================] - 12s 54ms/step - loss: 0.4969 - accuracy: 0.8583 - val_loss: 0.4935 - val_accuracy: 0.7861\n",
            "Epoch 2/5\n",
            "215/215 [==============================] - 3s 13ms/step - loss: 0.3010 - accuracy: 0.9178 - val_loss: 0.4622 - val_accuracy: 0.7940\n",
            "Epoch 3/5\n",
            "215/215 [==============================] - 2s 9ms/step - loss: 0.2253 - accuracy: 0.9329 - val_loss: 0.4733 - val_accuracy: 0.7887\n",
            "Epoch 4/5\n",
            "215/215 [==============================] - 2s 10ms/step - loss: 0.1836 - accuracy: 0.9429 - val_loss: 0.4954 - val_accuracy: 0.7848\n",
            "Epoch 5/5\n",
            "215/215 [==============================] - 2s 10ms/step - loss: 0.1558 - accuracy: 0.9530 - val_loss: 0.5207 - val_accuracy: 0.7795\n"
          ]
        },
        {
          "output_type": "execute_result",
          "data": {
            "text/plain": [
              "<keras.src.callbacks.History at 0x7d3deaa03910>"
            ]
          },
          "metadata": {},
          "execution_count": 19
        }
      ],
      "source": [
        "model = tf.keras.Sequential([\n",
        "                             layers.Input(shape=(1,),dtype='string'),\n",
        "                             text_vectorizers,\n",
        "                             embedding,\n",
        "                             layers.GlobalAveragePooling1D(),\n",
        "                             layers.Dense(1,activation='sigmoid')\n",
        "\n",
        "])\n",
        "\n",
        "model.compile(loss='binary_crossentropy',\n",
        "              optimizer='adam',\n",
        "              metrics=['accuracy'])\n",
        "\n",
        "model.fit(train_sentence,\n",
        "          train_label,\n",
        "          epochs=5,\n",
        "          validation_data=(val_sentence,val_label))"
      ]
    },
    {
      "cell_type": "code",
      "source": [
        "model.predict(['During natural disasters, Twitter has tools such as Moments and Lists that can be used to create a centralized source of credible information. '])"
      ],
      "metadata": {
        "colab": {
          "base_uri": "https://localhost:8080/"
        },
        "id": "II6xMpENrOCn",
        "outputId": "ecdc75a4-ed90-41bf-e8b3-173a3eb474b2"
      },
      "execution_count": null,
      "outputs": [
        {
          "output_type": "stream",
          "name": "stdout",
          "text": [
            "1/1 [==============================] - 0s 132ms/step\n"
          ]
        },
        {
          "output_type": "execute_result",
          "data": {
            "text/plain": [
              "array([[0.02240354]], dtype=float32)"
            ]
          },
          "metadata": {},
          "execution_count": 21
        }
      ]
    },
    {
      "cell_type": "code",
      "source": [],
      "metadata": {
        "id": "61KWKX4OssRV"
      },
      "execution_count": null,
      "outputs": []
    }
  ],
  "metadata": {
    "accelerator": "GPU",
    "colab": {
      "provenance": [],
      "authorship_tag": "ABX9TyNJdRwEHtofWvIqeUhuCwoZ",
      "include_colab_link": true
    },
    "kernelspec": {
      "display_name": "Python 3",
      "name": "python3"
    },
    "language_info": {
      "name": "python"
    }
  },
  "nbformat": 4,
  "nbformat_minor": 0
}